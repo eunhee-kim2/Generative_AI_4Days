{
 "cells": [
  {
   "cell_type": "markdown",
   "id": "09c820d4-3750-4d60-84b8-6baf23f54034",
   "metadata": {},
   "source": [
    "# 파일 입력\n",
    "비전 기능을 갖춘 OpenAI 모델은 PDF 파일을 입력으로 사용할 수도 있습니다. \n",
    "\n",
    "모델이 PDF 콘텐츠를 이해할 수 있도록 각 페이지의 추출된 텍스트와 이미지를 모델의 컨텍스트에 추가합니다. 모델은 텍스트와 이미지를 모두 사용하여 응답을 생성할 수 있습니다. 이는 예를 들어 다이어그램에 텍스트에 없는 주요 정보가 포함된 경우 유용합니다.\n",
    "\n",
    "먼저 Files API를 사용하여 PDF를 업로드한 다음, 모델에 대한 API 요청에서 해당 파일 ID를 참조합니다."
   ]
  },
  {
   "cell_type": "code",
   "execution_count": 1,
   "id": "176c7fe4-7fad-4737-add1-69b29c27b421",
   "metadata": {},
   "outputs": [
    {
     "data": {
      "text/plain": [
       "True"
      ]
     },
     "execution_count": 1,
     "metadata": {},
     "output_type": "execute_result"
    }
   ],
   "source": [
    "from dotenv import load_dotenv, find_dotenv\n",
    "load_dotenv(find_dotenv()) # read local .env file"
   ]
  },
  {
   "cell_type": "code",
   "execution_count": 2,
   "id": "8d58ddff-39b9-4eae-b470-358f36e425e4",
   "metadata": {},
   "outputs": [],
   "source": [
    "from openai import OpenAI\n",
    "\n",
    "client = OpenAI()\n",
    "\n",
    "Model = \"gpt-4.1-nano\""
   ]
  },
  {
   "cell_type": "code",
   "execution_count": 3,
   "id": "35ad20c4-8e0e-4e9b-b4bb-85ec5c66e575",
   "metadata": {},
   "outputs": [
    {
     "name": "stdout",
     "output_type": "stream",
     "text": [
      "첫 번째 차트는 전 세계 LNG선(액화천연가스선) 시장의 주요 플레이어들의 수주잔고와 시장 점유율(M/S)을 보여주는 그래프입니다. \n",
      "\n",
      "차트의 좌측 축은 수주잔고(척수)이며, 우측 축은 시장 점유율(백분율)을 표시합니다. 그래프에는 여러 선박 제조사들이 나열되어 있는데, 각각의 회사 이름과 해당 선사들이 보유하고 있는 수주잔고와 점유율이 나타나 있습니다. \n",
      "\n",
      "이 차트는 각 기업들이 현재 얼마나 많은 LNG선을 수주했는지와 시장 내 점유율 비중을 시각적으로 보여줌으로써, 글로벌 LNG선 시장의 경쟁력을 파악하는 데 도움을 줍니다. \n",
      "\n",
      "주요 기업으로는 삼성중공업, 화훼, Hudong Zhonghua, 현중, Dalian Shipbuilding, Zvezda SB, CMHI (Jiangsu), Jiangnan SY Group, Yangzi Xinfu SB, Jiangsu Yixiang SB 등이 포함되어 있습니다.\n"
     ]
    }
   ],
   "source": [
    "# PDF 파일을 OpenAI API에 업로드 (용도: 사용자 데이터로 처리)\n",
    "file = client.files.create(\n",
    "    file=open(\"data/삼성중공업-기업리포트.pdf\", \"rb\"),  # PDF 파일을 바이너리 읽기 모드로 열기\n",
    "    purpose=\"user_data\"  # 파일 사용 목적 지정 (예: 사용자 데이터 기반 응답 생성)\n",
    ")\n",
    "\n",
    "# 업로드된 파일을 기반으로 LLM 응답 생성 요청\n",
    "response = client.responses.create(\n",
    "    model=Model,  \n",
    "    input=[\n",
    "        {\n",
    "            \"role\": \"user\",  # 사용자 역할로 프롬프트 구성\n",
    "            \"content\": [\n",
    "                {\n",
    "                    \"type\": \"input_file\",       # 파일 입력 유형 지정\n",
    "                    \"file_id\": file.id,         # 위에서 업로드한 파일의 고유 ID 참조\n",
    "                },\n",
    "                {\n",
    "                    \"type\": \"input_text\",       # 텍스트 입력 유형 지정\n",
    "                    \"text\": \"파일 내에 있는 첫번째 바차트를 설명해줘.\",  # 사용자 지시\n",
    "                },\n",
    "            ]\n",
    "        }\n",
    "    ]\n",
    ")\n",
    "\n",
    "# 모델의 출력 결과를 콘솔에 출력\n",
    "print(response.output_text)"
   ]
  },
  {
   "cell_type": "markdown",
   "id": "18b71555-1f91-4e9c-967e-ca148a3e138b",
   "metadata": {},
   "source": [
    "### Base64로 인코딩된 파일\n",
    "PDF 파일 입력도 Base64로 인코딩된 입력으로 보낼 수 있습니다.  \n",
    "base64 encoding은 바이너리 데이터를 텍스트(ASCII) 문자로 안전하게 변환하는 방식입니다.  \n",
    "보통 이미지, PDF, 동영상, 파일 등 이진 데이터를 문자열로 바꿔서 전송하거나 저장할 때 사용됩니다."
   ]
  },
  {
   "cell_type": "code",
   "execution_count": 4,
   "id": "8e2886a5-49c1-4292-9623-f3af858cd8c7",
   "metadata": {},
   "outputs": [
    {
     "name": "stdout",
     "output_type": "stream",
     "text": [
      "파일 내에 있는 첫 번째 바 차트는 전 세계 LNG선(액화천연가스선) 시장에서 각 선박 제작사의 수주잔고와 시장 점유율(M/S, Market Share)을 보여주고 있습니다. \n",
      "\n",
      "- 좌측 y축은 수주잔고(척수, 선박 수)를 나타내며, 차트의 막대그래프로 표현되어 있습니다. \n",
      "- 우측 y축은 각 제조사의 시장 점유율(%)를 나타내며, 선 그래프로 표시되어 있습니다.\n",
      "\n",
      "차트상 주요 내용은 다음과 같습니다:\n",
      "- 삼성중공업이 수주잔고 기준으로 가장 높은 수치를 기록하고 있으며, 전 세계 LNG선 시장에서 상당한 점유율을 차지하고 있음을 보여줍니다.\n",
      "- 기타 주요 제조사들도 각각의 수주잔고와 시장 점유율을 가지고 있으며, 여러 업체들이 경쟁하고 있음을 알 수 있습니다.\n",
      "\n",
      "전체적으로 이 차트는 삼성중공업이 글로벌 LNG선 시장에서 강한 경쟁력을 갖추고 있음을 시각적으로 보여줍니다.\n"
     ]
    }
   ],
   "source": [
    "import base64  # 바이너리 데이터를 base64 문자열로 인코딩하기 위한 모듈\n",
    "\n",
    "# PDF 파일을 바이너리 읽기 모드로 열고 데이터를 읽음\n",
    "with open(\"data/삼성중공업-기업리포트.pdf\", \"rb\") as f:\n",
    "    data = f.read()\n",
    "\n",
    "# PDF 데이터를 안전한 전송을 위해 base64로 인코딩하고 UTF-8 문자열로 디코딩\n",
    "base64_string = base64.b64encode(data).decode(\"utf-8\")\n",
    "\n",
    "# 인코딩된 base64 데이터를 포함하여 모델 응답 생성 요청\n",
    "response = client.responses.create(\n",
    "    model=Model,  \n",
    "    input=[\n",
    "        {\n",
    "            \"role\": \"user\", \n",
    "            \"content\": [\n",
    "                {\n",
    "                    \"type\": \"input_file\",      # 파일 입력 형식 명시\n",
    "                    \"filename\": \"삼성중공업-기업리포트.pdf\",  # 파일 이름 지정\n",
    "                    \"file_data\": f\"data:application/pdf;base64,{base64_string}\",  # base64 인코딩된 PDF 데이터\n",
    "                },\n",
    "                {\n",
    "                    \"type\": \"input_text\",      # 텍스트 명령 입력\n",
    "                    \"text\": \"파일 내에 있는 첫번째 바차트를 설명해줘.\",  # 사용자 요청 내용\n",
    "                },\n",
    "            ],\n",
    "        },\n",
    "    ]\n",
    ")\n",
    "\n",
    "# 생성된 응답 출력\n",
    "print(response.output_text)"
   ]
  },
  {
   "cell_type": "code",
   "execution_count": null,
   "id": "fec657f0-fecf-45ea-baa8-012ded366391",
   "metadata": {},
   "outputs": [],
   "source": []
  }
 ],
 "metadata": {
  "kernelspec": {
   "display_name": "Python 3 (ipykernel)",
   "language": "python",
   "name": "python3"
  },
  "language_info": {
   "codemirror_mode": {
    "name": "ipython",
    "version": 3
   },
   "file_extension": ".py",
   "mimetype": "text/x-python",
   "name": "python",
   "nbconvert_exporter": "python",
   "pygments_lexer": "ipython3",
   "version": "3.11.13"
  }
 },
 "nbformat": 4,
 "nbformat_minor": 5
}
