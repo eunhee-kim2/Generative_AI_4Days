{
 "cells": [
  {
   "cell_type": "markdown",
   "id": "c387e7ef",
   "metadata": {},
   "source": [
    "#  문장 내의 단어들을 임베딩\n",
    "- keras.layers.Embedding 레이어 사용"
   ]
  },
  {
   "cell_type": "code",
   "execution_count": null,
   "id": "8d7a7d3a",
   "metadata": {},
   "outputs": [],
   "source": [
    "# OpenAI 임베딩(text-embedding-3-small) 모델을 사용한 문장 임베딩 예제"
   ]
  },
  {
   "cell_type": "code",
   "execution_count": null,
   "id": "3c122b22",
   "metadata": {},
   "outputs": [],
   "source": [
    "# OpenAI API 키를 환경변수에서 가져와 클라이언트 생성\n",
    "# 샘플 데이터: 간단한 문장들의 모음"
   ]
  },
  {
   "cell_type": "code",
   "execution_count": null,
   "id": "69e0afcd",
   "metadata": {},
   "outputs": [],
   "source": [
    "# OpenAI Embedding API를 사용하여 문장 임베딩 함수\n",
    "def get_embeddings(texts, model='text-embedding-3-small'):"
   ]
  },
  {
   "cell_type": "code",
   "execution_count": null,
   "id": "475e1782",
   "metadata": {},
   "outputs": [],
   "source": [
    "# 문장 임베딩 실행"
   ]
  },
  {
   "cell_type": "code",
   "execution_count": null,
   "id": "28598fbb",
   "metadata": {},
   "outputs": [],
   "source": [
    "# 임베딩 결과 확인"
   ]
  },
  {
   "cell_type": "code",
   "execution_count": null,
   "id": "2a073df2",
   "metadata": {},
   "outputs": [],
   "source": [
    "# 임베딩 결과를 DataFrame으로 변환하여 시각화"
   ]
  },
  {
   "cell_type": "code",
   "execution_count": null,
   "id": "cc5d616b",
   "metadata": {},
   "outputs": [],
   "source": [
    "# 문장 간 코사인 유사도 계산"
   ]
  },
  {
   "cell_type": "code",
   "execution_count": null,
   "id": "53c2aef2",
   "metadata": {},
   "outputs": [],
   "source": []
  }
 ],
 "metadata": {
  "kernelspec": {
   "display_name": "Python 3 (ipykernel)",
   "language": "python",
   "name": "python3"
  },
  "language_info": {
   "codemirror_mode": {
    "name": "ipython",
    "version": 3
   },
   "file_extension": ".py",
   "mimetype": "text/x-python",
   "name": "python",
   "nbconvert_exporter": "python",
   "pygments_lexer": "ipython3",
   "version": "3.9.16"
  }
 },
 "nbformat": 4,
 "nbformat_minor": 5
}
