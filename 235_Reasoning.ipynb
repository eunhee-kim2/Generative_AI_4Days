{
 "cells": [
  {
   "cell_type": "markdown",
   "id": "0c72d60c-6b66-4d7c-9700-66e4a94b1ae3",
   "metadata": {},
   "source": [
    "### Reasoning (추론)\n",
    "\n",
    "o3 및 o4-mini와 같은 추론 모델은 강화 학습을 통해 추론을 수행하도록 훈련된 LLM입니다. 추론 모델은 사용자에게 응답하기 전에 먼저 생각하여 , 사용자에게 응답하기 전에 긴 내부 사고 사슬을 생성합니다. 추론 모델은 복잡한 문제 해결, 코딩, 과학적 추론, 그리고 에이전트 워크플로우를 위한 다단계 계획 수립에 탁월합니다. 또한 , 경량 코딩 에이전트인 Codex CLI 에 가장 적합한 모델입니다."
   ]
  },
  {
   "cell_type": "code",
   "execution_count": 1,
   "id": "c1b0f420-18ee-457b-9026-48d0eea386df",
   "metadata": {},
   "outputs": [
    {
     "data": {
      "text/plain": [
       "True"
      ]
     },
     "execution_count": 1,
     "metadata": {},
     "output_type": "execute_result"
    }
   ],
   "source": [
    "from dotenv import load_dotenv, find_dotenv\n",
    "load_dotenv(find_dotenv()) # read local .env file"
   ]
  },
  {
   "cell_type": "code",
   "execution_count": 2,
   "id": "6662450b-db99-4621-a433-ef55405f0f9b",
   "metadata": {},
   "outputs": [],
   "source": [
    "from openai import OpenAI\n",
    "import json\n",
    "\n",
    "client = OpenAI()\n",
    "\n",
    "Model = \"o4-mini\""
   ]
  },
  {
   "cell_type": "code",
   "execution_count": 3,
   "id": "d6817050-0890-4b43-89c4-4f64fd13a23e",
   "metadata": {},
   "outputs": [
    {
     "name": "stdout",
     "output_type": "stream",
     "text": [
      "다음은 입력 문자열 `\"[1,2],[3,4],[5,6]\"` 과 같은 형식으로 행렬을 받고, 전치행렬을 같은 형식으로 출력하는 예제입니다.\n",
      "\n",
      "```python\n",
      "import ast\n",
      "\n",
      "def transpose_str_matrix(s: str) -> str:\n",
      "    # \"[1,2],[3,4],[5,6]\" → \"[ [1,2],[3,4],[5,6] ]\" 로 감싸서 ast.literal_eval\n",
      "    mat = ast.literal_eval('[' + s + ']')\n",
      "    # 전치\n",
      "    t = list(zip(*mat))\n",
      "    # 다시 \"[a,b],[c,d],...\" 형태의 문자열로\n",
      "    return ','.join('[' + ','.join(map(str, row)) + ']' for row in t)\n",
      "\n",
      "if __name__ == '__main__':\n",
      "    inp = input().strip()\n",
      "    print(transpose_str_matrix(inp))\n",
      "```\n",
      "\n",
      "사용 예)  \n",
      "입력:\n",
      "[1,2],[3,4],[5,6]  \n",
      "출력:\n",
      "[1,3,5],[2,4,6]\n"
     ]
    }
   ],
   "source": [
    "prompt = \"\"\"\n",
    "문자열로 표현된 행렬을 '[1,2],[3,4],[5,6]' 형식으로 받아서 같은 형식으로 전치행렬을 출력하는 파이썬 스크립트를 작성하세요.\n",
    "\"\"\"\n",
    "\n",
    "response = client.responses.create(\n",
    "    model=\"o4-mini\",  \n",
    "    reasoning={\"effort\": \"medium\"},  # 추론 수준 설정: 중간 수준의 정답 생성 요구\n",
    "    input=[\n",
    "        {\n",
    "            \"role\": \"user\", \n",
    "            \"content\": prompt  # 사용자의 질문 또는 지시\n",
    "        }\n",
    "    ]\n",
    ")\n",
    "\n",
    "# 생성된 파이썬 스크립트 응답 출력\n",
    "print(response.output_text)"
   ]
  },
  {
   "cell_type": "code",
   "execution_count": 4,
   "id": "a614b26c-b76c-4adc-a89a-bb31a80dcffa",
   "metadata": {},
   "outputs": [
    {
     "data": {
      "text/plain": [
       "[ResponseReasoningItem(id='rs_68620a46fa1481908a1c58d7cc6155000d1273bc68225041', summary=[], type='reasoning', encrypted_content=None, status=None),\n",
       " ResponseOutputMessage(id='msg_68620a4dfbc88190b3c64e7ce52bb53d0d1273bc68225041', content=[ResponseOutputText(annotations=[], text='다음은 입력 문자열 `\"[1,2],[3,4],[5,6]\"` 과 같은 형식으로 행렬을 받고, 전치행렬을 같은 형식으로 출력하는 예제입니다.\\n\\n```python\\nimport ast\\n\\ndef transpose_str_matrix(s: str) -> str:\\n    # \"[1,2],[3,4],[5,6]\" → \"[ [1,2],[3,4],[5,6] ]\" 로 감싸서 ast.literal_eval\\n    mat = ast.literal_eval(\\'[\\' + s + \\']\\')\\n    # 전치\\n    t = list(zip(*mat))\\n    # 다시 \"[a,b],[c,d],...\" 형태의 문자열로\\n    return \\',\\'.join(\\'[\\' + \\',\\'.join(map(str, row)) + \\']\\' for row in t)\\n\\nif __name__ == \\'__main__\\':\\n    inp = input().strip()\\n    print(transpose_str_matrix(inp))\\n```\\n\\n사용 예)  \\n입력:\\n[1,2],[3,4],[5,6]  \\n출력:\\n[1,3,5],[2,4,6]', type='output_text', logprobs=[])], role='assistant', status='completed', type='message')]"
      ]
     },
     "execution_count": 4,
     "metadata": {},
     "output_type": "execute_result"
    }
   ],
   "source": [
    "response.output"
   ]
  },
  {
   "cell_type": "markdown",
   "id": "a1af1079-3847-42ce-8f59-99c4e18a537c",
   "metadata": {},
   "source": [
    "### Python 프로젝트 계획 및 생성"
   ]
  },
  {
   "cell_type": "code",
   "execution_count": 5,
   "id": "8dd80948-3c29-46b4-a64a-e03feaa31a0a",
   "metadata": {},
   "outputs": [
    {
     "name": "stdout",
     "output_type": "stream",
     "text": [
      "아래와 같은 디렉터리 구조를 제안합니다.\n",
      "\n",
      "project_root/  \n",
      "├─ app.py  \n",
      "├─ requirements.txt  \n",
      "├─ db/  \n",
      "│  ├─ __init__.py  \n",
      "│  ├─ database.py  \n",
      "│  └─ models.py  \n",
      "└─ services/  \n",
      "   ├─ __init__.py  \n",
      "   ├─ retriever.py  \n",
      "   └─ writer.py  \n",
      "\n",
      "각 파일의 전체 내용은 다음과 같습니다.\n",
      "\n",
      "파일: db/__init__.py  \n",
      "(빈 파일)\n",
      "\n",
      "파일: db/database.py\n",
      "```\n",
      "from sqlalchemy import create_engine\n",
      "from sqlalchemy.ext.declarative import declarative_base\n",
      "from sqlalchemy.orm import sessionmaker\n",
      "\n",
      "engine = create_engine('sqlite:///db/qa.db', connect_args={'check_same_thread': False})\n",
      "SessionLocal = sessionmaker(bind=engine)\n",
      "Base = declarative_base()\n",
      "\n",
      "def init_db():\n",
      "    Base.metadata.create_all(bind=engine)\n",
      "```\n",
      "\n",
      "파일: db/models.py\n",
      "```\n",
      "from sqlalchemy import Column, Integer, String\n",
      "from .database import Base\n",
      "\n",
      "class QA(Base):\n",
      "    __tablename__ = 'qa'\n",
      "    id = Column(Integer, primary_key=True, index=True)\n",
      "    question = Column(String, unique=True, index=True)\n",
      "    answer = Column(String)\n",
      "```\n",
      "\n",
      "파일: services/__init__.py  \n",
      "(빈 파일)\n",
      "\n",
      "파일: services/retriever.py\n",
      "```\n",
      "import numpy as np\n",
      "from sklearn.feature_extraction.text import TfidfVectorizer\n",
      "from sklearn.metrics.pairwise import cosine_similarity\n",
      "from db.models import QA\n",
      "from db.database import SessionLocal\n",
      "\n",
      "class Retriever:\n",
      "    def __init__(self):\n",
      "        self.session = SessionLocal()\n",
      "        self.load()\n",
      "\n",
      "    def load(self):\n",
      "        self.data = self.session.query(QA).all()\n",
      "        self.questions = [qa.question for qa in self.data]\n",
      "        if self.questions:\n",
      "            self.vectorizer = TfidfVectorizer().fit(self.questions)\n",
      "            self.matrix = self.vectorizer.transform(self.questions)\n",
      "        else:\n",
      "            self.vectorizer = None\n",
      "            self.matrix = None\n",
      "\n",
      "    def retrieve(self, query, threshold=0.5):\n",
      "        if not self.questions:\n",
      "            return None\n",
      "        vec = self.vectorizer.transform([query])\n",
      "        sims = cosine_similarity(vec, self.matrix)[0]\n",
      "        idx = np.argmax(sims)\n",
      "        if sims[idx] >= threshold:\n",
      "            return self.data[idx].answer\n",
      "        return None\n",
      "```\n",
      "\n",
      "파일: services/writer.py\n",
      "```\n",
      "from db.models import QA\n",
      "from db.database import SessionLocal\n",
      "\n",
      "class Writer:\n",
      "    def __init__(self):\n",
      "        self.session = SessionLocal()\n",
      "\n",
      "    def write(self, question, answer):\n",
      "        qa = QA(question=question, answer=answer)\n",
      "        self.session.add(qa)\n",
      "        self.session.commit()\n",
      "```\n",
      "\n",
      "파일: app.py\n",
      "```\n",
      "from db.database import init_db\n",
      "from services.retriever import Retriever\n",
      "from services.writer import Writer\n",
      "\n",
      "def main():\n",
      "    init_db()\n",
      "    retriever = Retriever()\n",
      "    writer = Writer()\n",
      "    while True:\n",
      "        question = input(\"질문을 입력하세요: \")\n",
      "        if question.lower() in ['exit', '종료', 'quit']:\n",
      "            break\n",
      "        answer = retriever.retrieve(question)\n",
      "        if answer:\n",
      "            print(f\"답변: {answer}\")\n",
      "        else:\n",
      "            answer = input(\"해당 질문에 대한 답변을 입력하세요: \")\n",
      "            writer.write(question, answer)\n",
      "            retriever.load()\n",
      "            print(\"저장되었습니다.\")\n",
      "\n",
      "if __name__ == '__main__':\n",
      "    main()\n",
      "```\n",
      "\n",
      "파일: requirements.txt\n",
      "```\n",
      "sqlalchemy\n",
      "scikit-learn\n",
      "```\n",
      "\n",
      "이제 `pip install -r requirements.txt` 후 `python app.py` 로 실행하시면 됩니다.\n"
     ]
    }
   ],
   "source": [
    "prompt = \"\"\"\n",
    "사용자 질문을 받아 답변과 매핑된 데이터베이스에서 검색하는 Python 앱을 만들고 싶습니다.\n",
    "유사한 답변이 있으면 일치하는 답변을 검색합니다.\n",
    "만약 일치하지 않으면 사용자에게 답변을 입력하도록 요청하고\n",
    "질문/답변 쌍을 데이터베이스에 저장합니다. 필요한 디렉터리 구조를 계획한 후\n",
    "각 파일을 전체적으로 반환합니다.\n",
    "코드 전체가 아닌 시작과 끝에만 해설을 제공하세요.\n",
    "한국어로 답하세요.\n",
    "\"\"\"\n",
    "\n",
    "response = client.responses.create(\n",
    "    model=\"o4-mini\",\n",
    "    input=[\n",
    "        {\n",
    "            \"role\": \"user\",\n",
    "            \"content\": prompt,\n",
    "        }\n",
    "    ]\n",
    ")\n",
    "\n",
    "print(response.output_text)"
   ]
  },
  {
   "cell_type": "code",
   "execution_count": 6,
   "id": "3b96fb38-7a14-4aa2-b290-21e2b31696bd",
   "metadata": {},
   "outputs": [
    {
     "data": {
      "text/plain": [
       "[ResponseReasoningItem(id='rs_68620a6665b481938518cb4bd7285aae0657dedb649276a1', summary=[], type='reasoning', encrypted_content=None, status=None),\n",
       " ResponseOutputMessage(id='msg_68620a713a14819381dccea1e3aa14bb0657dedb649276a1', content=[ResponseOutputText(annotations=[], text='아래와 같은 디렉터리 구조를 제안합니다.\\n\\nproject_root/  \\n├─ app.py  \\n├─ requirements.txt  \\n├─ db/  \\n│  ├─ __init__.py  \\n│  ├─ database.py  \\n│  └─ models.py  \\n└─ services/  \\n   ├─ __init__.py  \\n   ├─ retriever.py  \\n   └─ writer.py  \\n\\n각 파일의 전체 내용은 다음과 같습니다.\\n\\n파일: db/__init__.py  \\n(빈 파일)\\n\\n파일: db/database.py\\n```\\nfrom sqlalchemy import create_engine\\nfrom sqlalchemy.ext.declarative import declarative_base\\nfrom sqlalchemy.orm import sessionmaker\\n\\nengine = create_engine(\\'sqlite:///db/qa.db\\', connect_args={\\'check_same_thread\\': False})\\nSessionLocal = sessionmaker(bind=engine)\\nBase = declarative_base()\\n\\ndef init_db():\\n    Base.metadata.create_all(bind=engine)\\n```\\n\\n파일: db/models.py\\n```\\nfrom sqlalchemy import Column, Integer, String\\nfrom .database import Base\\n\\nclass QA(Base):\\n    __tablename__ = \\'qa\\'\\n    id = Column(Integer, primary_key=True, index=True)\\n    question = Column(String, unique=True, index=True)\\n    answer = Column(String)\\n```\\n\\n파일: services/__init__.py  \\n(빈 파일)\\n\\n파일: services/retriever.py\\n```\\nimport numpy as np\\nfrom sklearn.feature_extraction.text import TfidfVectorizer\\nfrom sklearn.metrics.pairwise import cosine_similarity\\nfrom db.models import QA\\nfrom db.database import SessionLocal\\n\\nclass Retriever:\\n    def __init__(self):\\n        self.session = SessionLocal()\\n        self.load()\\n\\n    def load(self):\\n        self.data = self.session.query(QA).all()\\n        self.questions = [qa.question for qa in self.data]\\n        if self.questions:\\n            self.vectorizer = TfidfVectorizer().fit(self.questions)\\n            self.matrix = self.vectorizer.transform(self.questions)\\n        else:\\n            self.vectorizer = None\\n            self.matrix = None\\n\\n    def retrieve(self, query, threshold=0.5):\\n        if not self.questions:\\n            return None\\n        vec = self.vectorizer.transform([query])\\n        sims = cosine_similarity(vec, self.matrix)[0]\\n        idx = np.argmax(sims)\\n        if sims[idx] >= threshold:\\n            return self.data[idx].answer\\n        return None\\n```\\n\\n파일: services/writer.py\\n```\\nfrom db.models import QA\\nfrom db.database import SessionLocal\\n\\nclass Writer:\\n    def __init__(self):\\n        self.session = SessionLocal()\\n\\n    def write(self, question, answer):\\n        qa = QA(question=question, answer=answer)\\n        self.session.add(qa)\\n        self.session.commit()\\n```\\n\\n파일: app.py\\n```\\nfrom db.database import init_db\\nfrom services.retriever import Retriever\\nfrom services.writer import Writer\\n\\ndef main():\\n    init_db()\\n    retriever = Retriever()\\n    writer = Writer()\\n    while True:\\n        question = input(\"질문을 입력하세요: \")\\n        if question.lower() in [\\'exit\\', \\'종료\\', \\'quit\\']:\\n            break\\n        answer = retriever.retrieve(question)\\n        if answer:\\n            print(f\"답변: {answer}\")\\n        else:\\n            answer = input(\"해당 질문에 대한 답변을 입력하세요: \")\\n            writer.write(question, answer)\\n            retriever.load()\\n            print(\"저장되었습니다.\")\\n\\nif __name__ == \\'__main__\\':\\n    main()\\n```\\n\\n파일: requirements.txt\\n```\\nsqlalchemy\\nscikit-learn\\n```\\n\\n이제 `pip install -r requirements.txt` 후 `python app.py` 로 실행하시면 됩니다.', type='output_text', logprobs=[])], role='assistant', status='completed', type='message')]"
      ]
     },
     "execution_count": 6,
     "metadata": {},
     "output_type": "execute_result"
    }
   ],
   "source": [
    "response.output"
   ]
  },
  {
   "cell_type": "markdown",
   "id": "2c2579d5-ba41-4cec-a9f6-520bb0299eaa",
   "metadata": {},
   "source": [
    "## 추론 기반 코드 자동 생성 실습\n",
    "\n",
    "**\"숫자로 이루어진 문자열이 주어질 때, 해당 숫자의 평균과 중앙값을 구하는 Python 함수를 작성하라.\"**\n",
    "예를 들어 `\"1, 5, 3, 8, 2\"`라는 문자열이 입력되면 평균은 `3.8`, 중앙값은 `3`입니다.\n",
    "\n",
    "\n",
    "* `o4-mini` 추론 모델을 사용하여 위 문제를 해결하는 **Python 코드**를 생성하세요.\n",
    "* `reasoning={\"effort\": \"medium\"}` 또는 `reasoning={\"effort\": \"high\"}` 옵션을 사용하여 **모델의 내부 추론 과정**을 유도하세요.\n",
    "* 코드 실행 결과가 **정확한지 직접 검증**해보세요.\n",
    "\n",
    "### 구현 조건\n",
    "\n",
    "* 문자열을 숫자 리스트로 변환하는 전처리 로직 포함\n",
    "* 평균(average)과 중앙값(median)을 계산하는 함수 구성\n",
    "* 코드 내에 주석 또는 단계별 설명이 포함되도록 모델에게 유도\n",
    "* 출력값 확인을 위한 예제 입력 포함 (`\"1, 5, 3, 8, 2\"`)\n",
    "\n",
    "* reasoning effort를 `low`, `medium`, `high`로 바꿔가며 결과물 비교\n",
    "* `json.loads()`로 실행 가능한 함수 형태로 모델이 응답하도록 유도해보기"
   ]
  },
  {
   "cell_type": "code",
   "execution_count": null,
   "id": "822ae369-a30c-4876-940b-e35bdec8bb25",
   "metadata": {},
   "outputs": [],
   "source": []
  }
 ],
 "metadata": {
  "kernelspec": {
   "display_name": "Python 3 (ipykernel)",
   "language": "python",
   "name": "python3"
  },
  "language_info": {
   "codemirror_mode": {
    "name": "ipython",
    "version": 3
   },
   "file_extension": ".py",
   "mimetype": "text/x-python",
   "name": "python",
   "nbconvert_exporter": "python",
   "pygments_lexer": "ipython3",
   "version": "3.11.13"
  }
 },
 "nbformat": 4,
 "nbformat_minor": 5
}
