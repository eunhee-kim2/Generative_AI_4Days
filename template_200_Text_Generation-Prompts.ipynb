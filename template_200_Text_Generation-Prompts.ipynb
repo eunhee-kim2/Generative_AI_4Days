{
 "cells": [
  {
   "cell_type": "markdown",
   "id": "d0159061-ae5d-49cb-8e0c-24a48087731c",
   "metadata": {},
   "source": [
    "# Text 생성 및 Prompt 예제\n",
    "\n",
    "### Text 생성 API 비교\n",
    "| 특징                                                                                            | **Responses API**                                                         | **Chat Completions API**                                              |\r\n",
    "| --------------------------------------------------------------------------------------------- | ------------------------------------------------------------------------- | --------------------------------------------------------------------- |\r\n",
    "| **상태 유지(Stateful)**                                                                           | ✅ 서버 측에서 **대화 상태를 관리(저장 및 이어쓰기 가능)**                                      |                                                                                                                |                                                                       |\r\n",
    "| **내장 도구 지원(Built-in Tools)**                                                                  | ✅ `web_search`, `file_search`, `computer_use_preview` 등 자동 호출 가능          | ❌ 기본 제공 도구 없음. **Function calling은 가능하지만, 호출/실행은 직접 구현 필요**           |\r\n",
    "| **구조 & 사용 방식**                                                                                | `instructions`, `input`, `tools`, `store`, `previous_response_id` 기반 API  | `messages=[{role, content}, ...]`, `temperature`, `max_tokens`, 등의 구조 |\r\n",
    "| **응답 형식 (Output)**                                                                            | `response.output_text`, `response.output` 구조로 단일 메세지 응답 및 도구 호출 결과 포함     | `choices[0].message.content` 형태로 단일 응답만 반환                            |\r\n",
    "| **사용 목적**                                                                                     | ✅ **에이전트/도구 사용, 파일/웹 검색, 상태 관리**가 필요한 복잡한 워크플로우에 적합                       | ✅ **챗봇, 단순 대화, instruction-following**에 적합                            |\r\n",
    "| **미래 확장성**                                                                                    | 🔧 OpenAI Roadmap 중심 – Responses API가 Chat API의 기능을 통합 발전시키는 방향           | 📦 **기존 표준 API**, 계속 지원되며 업계 표준 유지                                    |\r\n",
    "\r\n",
    "[1]: https://simonwillison.net/2025/Mar/11/responses-vs-chat-completions/?utm_source=chatgpt.com \"OpenAI API: Responses vs. Chat Completions\"\r\n",
    "[2]: https://cookbook.openai.com/examples/responses_api/responses_example?utm_source=chatgpt.com \"Web Search and States with Responses API - OpenAI Cookbook\"\r\n"
   ]
  },
  {
   "cell_type": "code",
   "execution_count": null,
   "id": "c2bb5af8",
   "metadata": {},
   "outputs": [],
   "source": []
  },
  {
   "cell_type": "code",
   "execution_count": null,
   "id": "b6707ac3",
   "metadata": {},
   "outputs": [],
   "source": []
  },
  {
   "cell_type": "markdown",
   "id": "2b00e72f-a786-472f-b849-27bd21ea6b7c",
   "metadata": {},
   "source": [
    "## Responses API"
   ]
  },
  {
   "cell_type": "markdown",
   "id": "6e00626d-ca14-411b-898f-856309a98b6d",
   "metadata": {},
   "source": [
    "## 문법 수정\n",
    "\n",
    "SYSTEM : 당신은 문장을 받게 될 것이며, 당신의 임무는 그것을 표준 한국어로 변환하는 것입니다.  \n",
    "USER :   \n",
    "안갔어 시장에 그녀는."
   ]
  },
  {
   "cell_type": "code",
   "execution_count": null,
   "id": "9a83f474",
   "metadata": {},
   "outputs": [],
   "source": [
    "# Responses API 호출 예시\n",
    "# 응답 결과 출력"
   ]
  },
  {
   "cell_type": "markdown",
   "id": "54f4415f-60b6-4308-aaf1-9f46dc634445",
   "metadata": {},
   "source": [
    "## 구조화되지 않은 데이터의 구문 분석\n",
    "SYSTEM : 구조화되지 않은 데이터가 제공되며 이를 CSV 형식으로 구문 분석하는 작업이 수행됩니다.  \n",
    "USER :   \n",
    "최근 발견된 행성 구크럭스(Goocrux)에서는 많은 과일이 발견됐다. 그곳에서 자라는 네오스키즐이 있는데, 보라색이고 사탕 맛이 납니다. 회색 빛이 도는 파란색 과일이고 매우 시큼하며 레몬과 약간 비슷한 로헤클(loheckles)도 있습니다. 포유닛은 밝은 녹색을 띠며 단맛보다 풍미가 더 좋습니다. 네온 핑크색 맛과 솜사탕 같은 맛이 나는 루프노바도 많이 있습니다. 마지막으로 글로울(glowls)이라는 과일이 있는데, 이 과일은 신맛과 부식성이 있는 매우 신맛과 쓴맛이 나며 옅은 오렌지색을 띠고 있습니다."
   ]
  },
  {
   "cell_type": "code",
   "execution_count": null,
   "id": "78bb9d6c",
   "metadata": {},
   "outputs": [],
   "source": []
  },
  {
   "cell_type": "code",
   "execution_count": null,
   "id": "3a93c353",
   "metadata": {},
   "outputs": [],
   "source": []
  },
  {
   "cell_type": "markdown",
   "id": "981ba846-9805-40fb-8710-a370d3d3ebd5",
   "metadata": {},
   "source": [
    "## 대화 상태를 수동으로 관리\n",
    "\n",
    "| 역할       | 설명                                                                                      |\r\n",
    "|------------|-------------------------------------------------------------------------------------------|\r\n",
    "| developer  | 애플리케이션 개발자가 제공한 지침. **user 메시지보다 우선적으로 처리**됩니다.              |\r\n",
    "| user       | 최종 사용자가 입력한 지침. developer 메시지보다 **우선순위가 낮습니다.**                  |\r\n",
    "| assistant  | 모델이 생성한 응답 메시지. 응답 결과는 이 역할로 반환됩니다.                              |\r\n"
   ]
  },
  {
   "cell_type": "code",
   "execution_count": null,
   "id": "602c1880",
   "metadata": {},
   "outputs": [],
   "source": []
  },
  {
   "cell_type": "markdown",
   "id": "05e0d9c0-12f4-4ed8-aaf8-a704505fcb98",
   "metadata": {},
   "source": [
    "## Keyword 추출 "
   ]
  },
  {
   "cell_type": "code",
   "execution_count": null,
   "id": "6674f280",
   "metadata": {},
   "outputs": [],
   "source": []
  },
  {
   "cell_type": "code",
   "execution_count": null,
   "id": "90aee77e",
   "metadata": {},
   "outputs": [],
   "source": []
  },
  {
   "cell_type": "code",
   "execution_count": null,
   "id": "e4c3f854",
   "metadata": {},
   "outputs": [],
   "source": []
  },
  {
   "cell_type": "markdown",
   "id": "23c706ef-9a0c-4fe7-971e-d0d23b9c7e45",
   "metadata": {},
   "source": [
    "## Python 버그 수정 \n",
    "SYSTEM : Python 코드 조각이 제공되며, 귀하의 임무는 그 안의 버그를 찾아 수정하는 것입니다.  \n",
    "USER : \n",
    "```Python\n",
    "    import Random\n",
    "    a = random.randint(1,12)\n",
    "    b = random.randint(1,12)\n",
    "    for i in range(10):\n",
    "        question = \"What is \"+a+\" x \"+b+\"? \"\n",
    "        answer = input(question)\n",
    "        if answer = a*b\n",
    "            print (Well done!)\n",
    "        else:\n",
    "            print(\"No.\")\n",
    "```"
   ]
  },
  {
   "cell_type": "code",
   "execution_count": null,
   "id": "8030e7dd",
   "metadata": {},
   "outputs": [],
   "source": []
  },
  {
   "cell_type": "code",
   "execution_count": null,
   "id": "e68f22a0",
   "metadata": {},
   "outputs": [],
   "source": []
  },
  {
   "cell_type": "code",
   "execution_count": null,
   "id": "f242ed3c",
   "metadata": {},
   "outputs": [],
   "source": []
  },
  {
   "cell_type": "markdown",
   "id": "471099c0-0e56-48f8-97d4-ce7460d27184",
   "metadata": {},
   "source": [
    "## Program Code 설명 "
   ]
  },
  {
   "cell_type": "code",
   "execution_count": null,
   "id": "f8204a1e",
   "metadata": {},
   "outputs": [],
   "source": [
    "class Log:\n",
    "    def __init__(self, path):\n",
    "        # Check that the file is newline-terminated\n",
    "    def log(self, event):\n",
    "    def state(self):"
   ]
  },
  {
   "cell_type": "code",
   "execution_count": null,
   "id": "a533ced2",
   "metadata": {},
   "outputs": [],
   "source": []
  },
  {
   "cell_type": "code",
   "execution_count": null,
   "id": "711ec5ae",
   "metadata": {},
   "outputs": [],
   "source": []
  },
  {
   "cell_type": "code",
   "execution_count": null,
   "id": "dabe4802",
   "metadata": {},
   "outputs": [],
   "source": []
  },
  {
   "cell_type": "code",
   "execution_count": null,
   "id": "1d3f52b2",
   "metadata": {},
   "outputs": [],
   "source": []
  },
  {
   "cell_type": "markdown",
   "id": "a1934098-ba94-4cce-a64b-0a46566f67c2",
   "metadata": {},
   "source": [
    "## 감성 분류기\n",
    "- 한개의 text 감성 분석"
   ]
  },
  {
   "cell_type": "code",
   "execution_count": null,
   "id": "405ed383",
   "metadata": {},
   "outputs": [],
   "source": []
  },
  {
   "cell_type": "code",
   "execution_count": null,
   "id": "bda33387",
   "metadata": {},
   "outputs": [],
   "source": []
  },
  {
   "cell_type": "markdown",
   "id": "4f659121-d028-4f51-a30c-c192404f96f8",
   "metadata": {},
   "source": [
    "- 여러개의 text 감성 분석"
   ]
  },
  {
   "cell_type": "code",
   "execution_count": null,
   "id": "d49f54e1",
   "metadata": {},
   "outputs": [],
   "source": [
    "    # 감정 분석 결과 저장\n",
    "# 결과 출력"
   ]
  },
  {
   "cell_type": "markdown",
   "id": "a00c2648-a7b1-4aad-95c2-428350f7aeaa",
   "metadata": {},
   "source": [
    "## Chat Completions API"
   ]
  },
  {
   "cell_type": "markdown",
   "id": "6d654a82-26f1-4148-9593-5cb956b8c97b",
   "metadata": {},
   "source": [
    "## 냉소적인 채팅 봇 "
   ]
  },
  {
   "cell_type": "code",
   "execution_count": null,
   "id": "6e990daa",
   "metadata": {},
   "outputs": [],
   "source": []
  },
  {
   "cell_type": "markdown",
   "id": "e0310cb6-bf4c-4697-98d0-aac3a3bcb03a",
   "metadata": {},
   "source": [
    "## 긍정적인 채팅 봇 "
   ]
  },
  {
   "cell_type": "code",
   "execution_count": null,
   "id": "bf7d8585",
   "metadata": {},
   "outputs": [],
   "source": []
  },
  {
   "cell_type": "markdown",
   "id": "55aee066-e4e5-4e29-894e-8519710a44c5",
   "metadata": {},
   "source": [
    "## 회의록 요약\n",
    "\n",
    "SYSTEM : 회의록이 제공되며 귀하의 임무는 다음과 같이 회의를 요약하는 것입니다.  \n",
    "\n",
    " -토론의 전반적인 요약  \n",
    " -행동항목(무엇을 해야 하는지, 누가 하는지)  \n",
    " -해당하는 경우 다음 회의에서 더 자세히 논의해야 할 주제 목록입니다.  "
   ]
  },
  {
   "cell_type": "code",
   "execution_count": null,
   "id": "c90b6334",
   "metadata": {},
   "outputs": [],
   "source": []
  },
  {
   "cell_type": "code",
   "execution_count": null,
   "id": "40c3e78f",
   "metadata": {},
   "outputs": [],
   "source": []
  },
  {
   "cell_type": "code",
   "execution_count": null,
   "id": "f16090e0",
   "metadata": {},
   "outputs": [],
   "source": []
  },
  {
   "cell_type": "markdown",
   "id": "0e064629-07fc-4c86-bcf8-05d1bcdcb6da",
   "metadata": {},
   "source": [
    "## 이모티콘 번역\n",
    "SYSTEM : 텍스트가 제공되며, 귀하의 임무는 이를 이모티콘으로 번역하는 것입니다. 일반 텍스트를 사용하지 마십시오. 이모티콘만으로 최선을 다하세요.  \n",
    "USER : 인공지능은 큰 가능성을 지닌 기술이다."
   ]
  },
  {
   "cell_type": "code",
   "execution_count": null,
   "id": "96abd8cd",
   "metadata": {},
   "outputs": [],
   "source": []
  },
  {
   "cell_type": "code",
   "execution_count": null,
   "id": "b59792cd",
   "metadata": {},
   "outputs": [],
   "source": []
  },
  {
   "cell_type": "markdown",
   "id": "22cd2c83-3e39-456a-a45d-56ca3fcf3bd5",
   "metadata": {},
   "source": [
    "## 번역"
   ]
  },
  {
   "cell_type": "code",
   "execution_count": null,
   "id": "31b4da94",
   "metadata": {},
   "outputs": [],
   "source": []
  },
  {
   "cell_type": "code",
   "execution_count": null,
   "id": "767a438f",
   "metadata": {},
   "outputs": [],
   "source": []
  },
  {
   "cell_type": "markdown",
   "id": "656f1f47-004e-402c-955f-ada5593ecf78",
   "metadata": {},
   "source": [
    "## 모델에 도구를 확장  \n",
    "도구를 사용하여 모델에 새로운 데이터와 기능에 대한 접근 권한을 부여할 수 있습니다. 직접 작성한 사용자 정의 코드를 호출하거나, OpenAI에서 제공하는 강력한 내장 도구 중 하나를 사용할 수 있습니다.  \n",
    "\n",
    "`gpt-4o-search-preview`는 OpenAI의 `gpt-4o` 모델을 기반으로 하며, 웹 검색 기능을 통합하여 실시간 인터넷 정보를 활용할 수 있도록 특별히 설계된 모델입니다.  \n",
    "\n",
    "사용자 질의에 대해 웹 검색을 수행하여 최신 정보를 제공할 수 있습니다. 이는 일반 `gpt-4o` 모델이 사전 학습된 데이터에 기반하여 응답하는 것과 차별화됩니다. `gpt-4o-search-preview`는 웹 검색과 관련된 작업에 최적화되어 있어, 검색 엔진과 유사한 기능을 수행할 수 있습니다."
   ]
  },
  {
   "cell_type": "code",
   "execution_count": null,
   "id": "a604c788",
   "metadata": {},
   "outputs": [],
   "source": []
  },
  {
   "cell_type": "code",
   "execution_count": null,
   "id": "ee021ce9",
   "metadata": {},
   "outputs": [],
   "source": []
  },
  {
   "cell_type": "markdown",
   "id": "47062606-7e80-4332-9bbc-f48681169d83",
   "metadata": {},
   "source": [
    "## 실습: 위의 Prompt 내용을 수정해 가며 api 실행"
   ]
  },
  {
   "cell_type": "code",
   "execution_count": null,
   "id": "a01922ef",
   "metadata": {},
   "outputs": [],
   "source": []
  }
 ],
 "metadata": {
  "kernelspec": {
   "display_name": "Python 3 (ipykernel)",
   "language": "python",
   "name": "python3"
  },
  "language_info": {
   "codemirror_mode": {
    "name": "ipython",
    "version": 3
   },
   "file_extension": ".py",
   "mimetype": "text/x-python",
   "name": "python",
   "nbconvert_exporter": "python",
   "pygments_lexer": "ipython3",
   "version": "3.11.13"
  }
 },
 "nbformat": 4,
 "nbformat_minor": 5
}
