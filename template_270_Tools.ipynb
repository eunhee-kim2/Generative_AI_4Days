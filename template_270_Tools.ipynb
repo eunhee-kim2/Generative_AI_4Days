{
 "cells": [
  {
   "cell_type": "markdown",
   "id": "553a035f-9e8a-420d-8fe2-1482f42cdbcc",
   "metadata": {},
   "source": [
    "# Tools (도구)\n",
    "\n",
    "OpenAI 플랫폼에서 사용할 수 있는 도구에 대한 개요는 다음과 같습니다. \n",
    "- 함수 호출\n",
    "- 웹검색\n",
    "- 원격 MCP 서버\n",
    "- 파일 검색\n",
    "- 이미지 생성\n",
    "- 코드 인터프리터\n",
    "- 컴퓨터 사용"
   ]
  },
  {
   "cell_type": "code",
   "execution_count": null,
   "id": "22c8ca81",
   "metadata": {},
   "outputs": [],
   "source": []
  },
  {
   "cell_type": "code",
   "execution_count": null,
   "id": "6533b757",
   "metadata": {},
   "outputs": [],
   "source": []
  },
  {
   "cell_type": "markdown",
   "id": "66b4c0df-6494-461e-8e79-a290e8e73a50",
   "metadata": {},
   "source": [
    "### 웹검색 (Web Search)\n",
    "모델이 응답을 생성하기 전에 최신 정보를 웹에서 검색할 수 있도록 허용"
   ]
  },
  {
   "cell_type": "code",
   "execution_count": null,
   "id": "5467a6ed",
   "metadata": {},
   "outputs": [],
   "source": []
  },
  {
   "cell_type": "markdown",
   "id": "e63ff1c1-9e46-4dc0-a31c-031426456666",
   "metadata": {},
   "source": [
    "- 사용자 위치 지정"
   ]
  },
  {
   "cell_type": "code",
   "execution_count": null,
   "id": "5acecbff",
   "metadata": {},
   "outputs": [],
   "source": []
  },
  {
   "cell_type": "markdown",
   "id": "a0555104-259e-4251-adfc-c77b7b93869a",
   "metadata": {},
   "source": [
    "# 파일 검색\n",
    "모델이 응답을 생성하기 전에 관련 정보를 파일에서 검색할 수 있도록 합니다.\n",
    "파일 검색은 Responses API에서 제공되는 도구입니다. 모델이 시맨틱 및 키워드 검색을 통해 이전에 업로드된 파일의 지식 기반에서 정보를 검색할 수 있도록 합니다. 벡터 저장소를 생성하고 파일을 업로드하면, 모델이 이러한 지식 기반 또는 벡터 저장소에 접근할 수 있도록 하여 모델의 내재된 지식을 강화할 수 있습니다.\n",
    "\n",
    "이 도구는 OpenAI에서 관리하는 호스팅 도구이므로, 실행을 처리하기 위해 코드를 직접 구현할 필요가 없습니다. 모델이 이 도구를 사용하기로 결정하면 자동으로 도구를 호출하여 파일에서 정보를 검색하고 출력을 반환합니다."
   ]
  },
  {
   "cell_type": "code",
   "execution_count": null,
   "id": "8c736e30",
   "metadata": {},
   "outputs": [],
   "source": [
    "# \"Financial Statements\"라는 벡터 스토어 생성\n",
    "# OpenAI에 업로드할 파일 준비\n",
    "# 업로드 및 폴링 SDK 도우미를 사용하여 파일을 업로드하고 벡터 스토어에 추가,\n",
    "# 파일 배치의 완료 상태를 폴링합니다.\n",
    "# 이 작업의 결과를 보기 위해 상태 및 파일 개수를 출력할 수 있습니다."
   ]
  },
  {
   "cell_type": "code",
   "execution_count": null,
   "id": "7cbff5bf",
   "metadata": {},
   "outputs": [],
   "source": []
  },
  {
   "cell_type": "code",
   "execution_count": null,
   "id": "36d46332",
   "metadata": {},
   "outputs": [],
   "source": []
  },
  {
   "cell_type": "code",
   "execution_count": null,
   "id": "52d8437d",
   "metadata": {},
   "outputs": [],
   "source": []
  },
  {
   "cell_type": "code",
   "execution_count": null,
   "id": "ca7b8b5c",
   "metadata": {},
   "outputs": [],
   "source": []
  },
  {
   "cell_type": "code",
   "execution_count": null,
   "id": "7d20df9c",
   "metadata": {},
   "outputs": [],
   "source": [
    "# step2) 새 벡터 스토어 생성\n",
    "# OpenAI에 업로드할 파일 준비\n",
    "# 업로드 및 폴링 SDK 도우미를 사용하여 파일을 업로드하고 벡터 스토어에 추가,\n",
    "# 파일 배치의 완료 상태를 폴링합니다.\n",
    "# 이 작업의 결과를 보기 위해 상태 및 파일 개수를 출력할 수 있습니다."
   ]
  },
  {
   "cell_type": "code",
   "execution_count": null,
   "id": "0095b61a",
   "metadata": {},
   "outputs": [],
   "source": []
  },
  {
   "cell_type": "code",
   "execution_count": null,
   "id": "de6febef",
   "metadata": {},
   "outputs": [],
   "source": []
  },
  {
   "cell_type": "markdown",
   "id": "56b3e951-363a-4df8-b15e-08141fb533ca",
   "metadata": {},
   "source": [
    "### 코드 인터프리터 (Code Interpreter)\n",
    "모델이 Python을 작성하고 실행하여 문제를 해결할 수 있도록 지원합니다.  \n",
    "\n",
    "코드 인터프리터 도구를 사용하면 모델이 샌드박스 환경에서 Python 코드를 작성하고 실행하여 데이터 분석, 코딩, 수학 등의 복잡한 문제를 해결할 수 있습니다. 다음과 같은 용도로 사용할 수 있습니다.\n",
    "\n",
    "- 다양한 데이터 및 형식이 포함된 파일 처리\n",
    "- 데이터와 그래프 이미지가 포함된 파일 생성\n",
    "- 문제 해결을 위해 반복적으로 코드를 작성하고 실행합니다. 예를 들어, 실행에 실패한 코드를 작성한 모델은 성공할 때까지 해당 코드를 계속 다시 작성하고 실행할 수 있습니다.\n",
    "\n",
    "최신 추론 모델인 o3와 o4-mini는 코드 인터프리터를 사용하여 이미지를 심층적으로 이해하도록 훈련되었습니다. 자르기, 확대, 회전 및 기타 이미지 처리 기술을 수행하여 시각적 지능을 향상시킬 수 있습니다."
   ]
  },
  {
   "cell_type": "code",
   "execution_count": null,
   "id": "8206002e",
   "metadata": {},
   "outputs": [],
   "source": []
  },
  {
   "cell_type": "code",
   "execution_count": null,
   "id": "948243f3",
   "metadata": {},
   "outputs": [],
   "source": []
  },
  {
   "cell_type": "markdown",
   "id": "64479c65-dfea-4e21-ab08-bdf94bd514c5",
   "metadata": {},
   "source": [
    "-----------------\n",
    "`resp.output` 에 List 형식으로 추론 단계가 저장되어 있습니다."
   ]
  },
  {
   "cell_type": "code",
   "execution_count": null,
   "id": "9a3bbf8f",
   "metadata": {},
   "outputs": [],
   "source": []
  },
  {
   "cell_type": "markdown",
   "id": "9f70f470-184f-4bb1-89ad-1b83e651e723",
   "metadata": {},
   "source": [
    "## 실습: 코드 인터프리터와 파일 검색 도구 활용\n",
    "\n",
    "다음과 같은 사용자 질문이 주어졌을 때, OpenAI Responses API를 이용해 코드 인터프리터와 벡터 스토어 기반 검색 도구를 적절히 활용하여 응답을 생성하는 실습을 하세요.\n",
    "\n",
    "1. **수학 문제 풀이**\n",
    "   사용자 질문:\n",
    "\n",
    "> `\"x^2 - 5x + 6 = 0 방정식의 해를 구해주세요.\"`\n",
    "\n",
    "- `code_interpreter` 도구를 사용하여 문제를 코드로 풀고, 결과를 사용자에게 출력하세요.\n",
    "- instructions를 사용하여 모델에게 “수학 선생님 역할”을 지정하세요.\n",
    "\n",
    "\n",
    "2. **PDF 기반 질문 응답 (file\\_search 도구)**\n",
    "   PDF 파일 `삼성전자_사업보고서.pdf`를 벡터 스토어에 업로드하고, 다음 질문에 답하도록 구현하세요:\n",
    "\n",
    "사용자 질문:\n",
    "\n",
    "> `\"2023년 삼성전자의 반도체 부문 실적 요약을 알려주세요.\"`\n",
    "\n",
    "- 벡터 스토어를 생성하고 파일을 업로드하는 코드\n",
    "- file\\_search 도구를 통해 답을 생성하는 응답 흐름 구현\n"
   ]
  },
  {
   "cell_type": "code",
   "execution_count": null,
   "id": "05691db9",
   "metadata": {},
   "outputs": [],
   "source": []
  }
 ],
 "metadata": {
  "kernelspec": {
   "display_name": "Python 3 (ipykernel)",
   "language": "python",
   "name": "python3"
  },
  "language_info": {
   "codemirror_mode": {
    "name": "ipython",
    "version": 3
   },
   "file_extension": ".py",
   "mimetype": "text/x-python",
   "name": "python",
   "nbconvert_exporter": "python",
   "pygments_lexer": "ipython3",
   "version": "3.11.13"
  }
 },
 "nbformat": 4,
 "nbformat_minor": 5
}
