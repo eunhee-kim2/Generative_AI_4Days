{
 "cells": [
  {
   "cell_type": "markdown",
   "id": "b9fa6bf1-708b-4b1c-b056-6ab4519e1fd5",
   "metadata": {},
   "source": [
    "# Image 와 Vision\n",
    "\n",
    "최신 언어 모델은 이미지 입력을 처리하고 분석할 수 있는데, 이를 '비전' 이라고 합니다 . '비전'을 통해 시각적 입력을 분석하고 이미지를 생성할 수 있습니다.\n",
    "\n",
    "| API                     | 지원되는 사용 사례                                                  |\n",
    "|-------------------------|---------------------------------------------------------------------|\n",
    "| Responses API           | 이미지를 분석하여 입력으로 사용하거나, 이미지를 출력으로 생성할 수 있음       |\n",
    "| Images API              | 이미지를 출력으로 생성하며, 선택적으로 이미지를 입력으로 사용할 수 있음       |\n",
    "| Chat Completions API    | 이미지를 분석하여 텍스트 또는 오디오 생성에 활용할 수 있음                  |\n",
    "\n",
    "### Image 생성 또는 편집\n",
    "Image API 또는 Responses API를 사용하여 이미지를 생성하거나 편집할 수 있습니다.  \n",
    "최신 이미지 생성 모델은 기본적으로 다중 모달 대규모 언어 모델입니다. 텍스트와 이미지를 이해하고 광범위한 세계 지식을 활용하여 더 나은 지시 이행 및 상황 인식을 갖춘 이미지를 생성할 수 있습니다.  \n",
    "반대로, 세계에 대한 본질적인 이해를 제공하지 않는 특수 이미지 생성 모델인 DALL·E 2 및 3도 제공합니다.\n",
    "\n",
    "### 이미지 분석\n",
    "Vision은 모델이 이미지를 \"보고\" 이해하는 능력입니다. 이미지에 텍스트가 있으면 모델은 텍스트도 이해할 수 있습니다. 모델은 몇 가지 제약이 있더라도 물체, 모양, 색상, 질감을 포함한 대부분의 시각적 요소를 이해할 수 있습니다."
   ]
  },
  {
   "cell_type": "code",
   "execution_count": null,
   "id": "0bf10cb7",
   "metadata": {},
   "outputs": [],
   "source": []
  },
  {
   "cell_type": "code",
   "execution_count": null,
   "id": "72b0bad1",
   "metadata": {},
   "outputs": [],
   "source": []
  },
  {
   "cell_type": "markdown",
   "id": "b5b2db92-2a4c-40ef-ad20-4b1b3201c0dc",
   "metadata": {},
   "source": [
    "### 이미지의 내용 설명\n",
    "<img src=\"https://upload.wikimedia.org/wikipedia/commons/thumb/d/dd/Gfp-wisconsin-madison-the-nature-boardwalk.jpg/2560px-Gfp-wisconsin-madison-the-nature-boardwalk.jpg\" width=300px />"
   ]
  },
  {
   "cell_type": "code",
   "execution_count": null,
   "id": "bca7749d",
   "metadata": {},
   "outputs": [],
   "source": []
  },
  {
   "cell_type": "markdown",
   "id": "eb2a90fb-5521-452f-8a49-ea526bb20cd8",
   "metadata": {},
   "source": [
    "### Base 64로 인코딩된 이미지 업로드\n",
    "\n",
    "| 항목               | 요구사항                                                                 |\n",
    "|--------------------|--------------------------------------------------------------------------|\n",
    "| 지원 파일 형식     | PNG, JPEG, WEBP, GIF |\n",
    "| 파일 크기 제한     | 이미지당 최대 50MB                                                      |\n",
    "\n",
    "로컬에 이미지 또는 이미지 세트가 있는 경우 이를 Base 64 인코딩 형식으로 모델에 전달할 수 있습니다. 다음은 이에 대한 실제 예입니다."
   ]
  },
  {
   "cell_type": "code",
   "execution_count": null,
   "id": "ae7a3cce",
   "metadata": {},
   "outputs": [],
   "source": [
    "# Function to encode the image\n",
    "def encode_image(image_path):\n",
    "# Path to your image\n",
    "# Getting the base64 string"
   ]
  },
  {
   "cell_type": "code",
   "execution_count": null,
   "id": "3ec467dd",
   "metadata": {},
   "outputs": [],
   "source": []
  },
  {
   "cell_type": "markdown",
   "id": "bd8b424f-98d5-47a2-9bac-6e4bd17bfd33",
   "metadata": {},
   "source": [
    "### 다중 이미지 입력\n",
    "Chat Completions API는 base64로 인코딩된 형식이나 이미지 URL로 여러 이미지 입력을 가져와 처리할 수 있습니다. 모델은 각 이미지를 처리하고 모든 이미지의 정보를 사용하여 질문에 답합니다.\n",
    "\n",
    "<img src=\"https://upload.wikimedia.org/wikipedia/commons/thumb/d/dd/Gfp-wisconsin-madison-the-nature-boardwalk.jpg/2560px-Gfp-wisconsin-madison-the-nature-boardwalk.jpg\" width=300px />\n",
    "\n",
    "<img src=\"https://img.freepik.com/premium-photo/a-wooden-walkway-leads-to-a-green-field-with-a-mountain-in-the-background_800563-10576.jpg\" width=300px />"
   ]
  },
  {
   "cell_type": "code",
   "execution_count": null,
   "id": "a96f7dc6",
   "metadata": {},
   "outputs": [],
   "source": []
  },
  {
   "cell_type": "markdown",
   "id": "c3ceccd9-3af9-4f40-942e-1e54b9013266",
   "metadata": {},
   "source": [
    "------------------\n",
    "# 실습: 각자의 image를 web 에서 구해 Vision API Test"
   ]
  },
  {
   "cell_type": "code",
   "execution_count": null,
   "id": "fe92b432",
   "metadata": {},
   "outputs": [],
   "source": []
  }
 ],
 "metadata": {
  "kernelspec": {
   "display_name": "Python 3 (ipykernel)",
   "language": "python",
   "name": "python3"
  },
  "language_info": {
   "codemirror_mode": {
    "name": "ipython",
    "version": 3
   },
   "file_extension": ".py",
   "mimetype": "text/x-python",
   "name": "python",
   "nbconvert_exporter": "python",
   "pygments_lexer": "ipython3",
   "version": "3.9.16"
  }
 },
 "nbformat": 4,
 "nbformat_minor": 5
}
