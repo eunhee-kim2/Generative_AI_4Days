{
 "cells": [
  {
   "cell_type": "markdown",
   "id": "d0159061-ae5d-49cb-8e0c-24a48087731c",
   "metadata": {},
   "source": [
    "# Text 생성 및 Prompt 예제\n",
    "\n",
    "### Text 생성 API 비교\n",
    "| 특징                                                                                            | **Responses API**                                                         | **Chat Completions API**                                              |\r\n",
    "| --------------------------------------------------------------------------------------------- | ------------------------------------------------------------------------- | --------------------------------------------------------------------- |\r\n",
    "| **상태 유지(Stateful)**                                                                           | ✅ 서버 측에서 **대화 상태를 관리(저장 및 이어쓰기 가능)**                                      |                                                                                                                |                                                                       |\r\n",
    "| **내장 도구 지원(Built-in Tools)**                                                                  | ✅ `web_search`, `file_search`, `computer_use_preview` 등 자동 호출 가능          | ❌ 기본 제공 도구 없음. **Function calling은 가능하지만, 호출/실행은 직접 구현 필요**           |\r\n",
    "| **구조 & 사용 방식**                                                                                | `instructions`, `input`, `tools`, `store`, `previous_response_id` 기반 API  | `messages=[{role, content}, ...]`, `temperature`, `max_tokens`, 등의 구조 |\r\n",
    "| **응답 형식 (Output)**                                                                            | `response.output_text`, `response.output` 구조로 단일 메세지 응답 및 도구 호출 결과 포함     | `choices[0].message.content` 형태로 단일 응답만 반환                            |\r\n",
    "| **사용 목적**                                                                                     | ✅ **에이전트/도구 사용, 파일/웹 검색, 상태 관리**가 필요한 복잡한 워크플로우에 적합                       | ✅ **챗봇, 단순 대화, instruction-following**에 적합                            |\r\n",
    "| **미래 확장성**                                                                                    | 🔧 OpenAI Roadmap 중심 – Responses API가 Chat API의 기능을 통합 발전시키는 방향           | 📦 **기존 표준 API**, 계속 지원되며 업계 표준 유지                                    |\r\n",
    "\r\n",
    "[1]: https://simonwillison.net/2025/Mar/11/responses-vs-chat-completions/?utm_source=chatgpt.com \"OpenAI API: Responses vs. Chat Completions\"\r\n",
    "[2]: https://cookbook.openai.com/examples/responses_api/responses_example?utm_source=chatgpt.com \"Web Search and States with Responses API - OpenAI Cookbook\"\r\n"
   ]
  },
  {
   "cell_type": "code",
   "execution_count": 1,
   "id": "989f8b65-992a-4c1c-b196-aa19cfff4e95",
   "metadata": {},
   "outputs": [
    {
     "data": {
      "text/plain": [
       "True"
      ]
     },
     "execution_count": 1,
     "metadata": {},
     "output_type": "execute_result"
    }
   ],
   "source": [
    "import os\n",
    "import openai\n",
    "import sys\n",
    "sys.path.append('./')\n",
    "\n",
    "from dotenv import load_dotenv, find_dotenv\n",
    "load_dotenv(find_dotenv()) # read local .env file"
   ]
  },
  {
   "cell_type": "code",
   "execution_count": 2,
   "id": "9a83b1e3-b3f3-42f4-a73f-7bc62e3eb87a",
   "metadata": {},
   "outputs": [],
   "source": [
    "from openai import OpenAI\n",
    "client = OpenAI()\n",
    "\n",
    "Model = \"gpt-4.1-nano\""
   ]
  },
  {
   "cell_type": "markdown",
   "id": "2b00e72f-a786-472f-b849-27bd21ea6b7c",
   "metadata": {},
   "source": [
    "## Responses API"
   ]
  },
  {
   "cell_type": "markdown",
   "id": "6e00626d-ca14-411b-898f-856309a98b6d",
   "metadata": {},
   "source": [
    "## 문법 수정\n",
    "\n",
    "SYSTEM : 당신은 문장을 받게 될 것이며, 당신의 임무는 그것을 표준 한국어로 변환하는 것입니다.  \n",
    "USER :   \n",
    "안갔어 시장에 그녀는."
   ]
  },
  {
   "cell_type": "code",
   "execution_count": 4,
   "id": "43c10186-4a28-4ac1-ab16-82ab61d96fe3",
   "metadata": {},
   "outputs": [
    {
     "name": "stdout",
     "output_type": "stream",
     "text": [
      "그녀는 시장에 가지 않았어.\n"
     ]
    }
   ],
   "source": [
    "# Responses API 호출 예시\n",
    "response = client.responses.create(\n",
    "    model=\"gpt-4o\",  # 또는 \"gpt-4.1\" 등 최신 모델\n",
    "    instructions=\"당신은 문장을 받게 될 것이며, 당신의 임무는 그것을 표준 한국어로 변환하는 것입니다.\",\n",
    "    input=\"안갔어 시장에 그녀는.\"\n",
    ")\n",
    "\n",
    "# 응답 결과 출력\n",
    "print(response.output_text)"
   ]
  },
  {
   "cell_type": "markdown",
   "id": "54f4415f-60b6-4308-aaf1-9f46dc634445",
   "metadata": {},
   "source": [
    "## 구조화되지 않은 데이터의 구문 분석\n",
    "SYSTEM : 구조화되지 않은 데이터가 제공되며 이를 CSV 형식으로 구문 분석하는 작업이 수행됩니다.  \n",
    "USER :   \n",
    "최근 발견된 행성 구크럭스(Goocrux)에서는 많은 과일이 발견됐다. 그곳에서 자라는 네오스키즐이 있는데, 보라색이고 사탕 맛이 납니다. 회색 빛이 도는 파란색 과일이고 매우 시큼하며 레몬과 약간 비슷한 로헤클(loheckles)도 있습니다. 포유닛은 밝은 녹색을 띠며 단맛보다 풍미가 더 좋습니다. 네온 핑크색 맛과 솜사탕 같은 맛이 나는 루프노바도 많이 있습니다. 마지막으로 글로울(glowls)이라는 과일이 있는데, 이 과일은 신맛과 부식성이 있는 매우 신맛과 쓴맛이 나며 옅은 오렌지색을 띠고 있습니다."
   ]
  },
  {
   "cell_type": "code",
   "execution_count": 9,
   "id": "1a90e4b6-10c7-48bc-9da2-e617b32cef18",
   "metadata": {},
   "outputs": [],
   "source": [
    "response = client.responses.create(\n",
    "    model=Model,\n",
    "    instructions=\"구조화되지 않은 데이터가 제공되며 이를 CSV 형식으로 구문 분석하는 작업이 수행됩니다.\",\n",
    "    input=\"\"\"\n",
    "      최근 발견된 행성 구크럭스(Goocrux)에서는 많은 과일이 발견됐다. 그곳에서 자라는 네오스키즐이 있는데, 보라색이고 사탕 맛이 납니다. \n",
    "      회색 빛이 도는 파란색 과일이고 매우 시큼하며 레몬과 약간 비슷한 로헤클(loheckles)도 있습니다. 포유닛은 밝은 녹색을 띠며 단맛보다 풍미가 더 좋습니다. \n",
    "      네온 핑크색 맛과 솜사탕 같은 맛이 나는 루프노바도 많이 있습니다. 마지막으로 글로울(glowls)이라는 과일이 있는데, \n",
    "      이 과일은 신맛과 부식성이 있는 매우 신맛과 쓴맛이 나며 옅은 오렌지색을 띠고 있습니다.\n",
    "      이 데이터를 과일명, 색상, 맛으로 분석해 주세요.\n",
    "      \"\"\"\n",
    ")"
   ]
  },
  {
   "cell_type": "code",
   "execution_count": 10,
   "id": "8e85a03c-135c-4908-b24e-622a0c408a71",
   "metadata": {},
   "outputs": [
    {
     "name": "stdout",
     "output_type": "stream",
     "text": [
      "아래는 제공된 데이터를 과일명, 색상, 맛으로 분석하여 정리한 CSV 형식입니다:\n",
      "\n",
      "```csv\n",
      "과일명,색상,맛\n",
      "구크럭스,보라색,사탕맛\n",
      "로헤클(Loheckles),회색빛 파란색,시큼함(레몬 유사)\n",
      "포유닛,밝은 녹색,풍미가 좋음(단맛보다)\n",
      "루프노바,네온 핑크색,솜사탕 같은 맛\n",
      "글로울(Glowls),옅은 오렌지색,신맛과 쓴맛 및 부식성\n",
      "```\n",
      "\n",
      "이 표는 각 과일의 이름, 색상, 그리고 맛을 명확하게 정리한 것입니다.\n"
     ]
    }
   ],
   "source": [
    "print(response.output_text)"
   ]
  },
  {
   "cell_type": "markdown",
   "id": "981ba846-9805-40fb-8710-a370d3d3ebd5",
   "metadata": {},
   "source": [
    "## 대화 상태를 수동으로 관리\n",
    "\n",
    "| 역할       | 설명                                                                                      |\r\n",
    "|------------|-------------------------------------------------------------------------------------------|\r\n",
    "| developer  | 애플리케이션 개발자가 제공한 지침. **user 메시지보다 우선적으로 처리**됩니다.              |\r\n",
    "| user       | 최종 사용자가 입력한 지침. developer 메시지보다 **우선순위가 낮습니다.**                  |\r\n",
    "| assistant  | 모델이 생성한 응답 메시지. 응답 결과는 이 역할로 반환됩니다.                              |\r\n"
   ]
  },
  {
   "cell_type": "code",
   "execution_count": 42,
   "id": "5ebf51e4-be6c-4860-9bc1-eb955adb67ee",
   "metadata": {},
   "outputs": [
    {
     "name": "stdout",
     "output_type": "stream",
     "text": [
      "딥러닝과 머신러닝은 모두 인공지능(AI)의 하위 분야이지만, 서로 다른 개념입니다. 차이점을 간단히 설명드리자면:\n",
      "\n",
      "**머신러닝 (Machine Learning):**\n",
      "- 인공지능의 한 분야로, 명시적으로 프로그래밍하지 않고 데이터로부터 패턴이나 규칙을 학습하는 기술입니다.\n",
      "- 다양한 알고리즘(예: 결정트리, 서포트 벡터 머신, 랜덤 포레스트 등)을 사용하여 데이터를 분석하고 예측이나 분류를 수행합니다.\n",
      "- 일반적으로 특징(Feature)을 수작업으로 만들어내는 과정이 필요할 수 있습니다.\n",
      "\n",
      "**딥러닝 (Deep Learning):**\n",
      "- 머신러닝의 하위 분야로, 인공신경망(특히 깊은 신경망, 딥 뉴럴 네트워크)을 활용합니다.\n",
      "- 대량의 데이터와 많은 연산을 통해 자동으로 특징을 추출하고 학습하는 기술입니다.\n",
      "- 이미지 인식, 음성 인식, 자연어 처리 등 복잡한 패턴을 다루는 데 강력합니다.\n",
      "\n",
      "### 요약\n",
      "| 항목             | 머신러닝                                          | 딥러닝                                              |\n",
      "|------------------|------------------------------------------------|------------------------------------------------------|\n",
      "| 정의             | 데이터로부터 규칙을 학습하는 일반적 방법         | 인공신경망을 이용한 심층 학습 방법                  |\n",
      "| 특징 추출        | 수작업 또는 간단한 자동화                            | 자동으로 특징을 추출                                   |\n",
      "| 데이터 필요량   | 상대적으로 적은 데이터에서도 가능                   | 대량의 데이터 필요                                  |\n",
      "| 성능             | 비교적 간단한 작업에 적합                           | 복잡한 패턴 인식에 뛰어남                            |\n",
      "| 예시 알고리즘    | 결정트리, 랜덤 포레스트, SVM                     | CNN, RNN, Transformer                              |\n",
      "\n",
      "혹시 더 궁금하신 점이나 구체적인 예가 필요하시면 말씀해 주세요!\n"
     ]
    }
   ],
   "source": [
    "response = client.responses.create(\n",
    "    model=Model,\n",
    "    input=[\n",
    "        {\"role\": \"user\", \"content\": \"안녕하세요.\"},\n",
    "        {\"role\": \"assistant\", \"content\": \"안녕하세요. 무었을 도와드릴까요?\"},\n",
    "        {\"role\": \"user\", \"content\": \"딥러닝과 머신러닝의 차이점이 무었인가요?\"},\n",
    "    ],\n",
    ")\n",
    "\n",
    "print(response.output_text)"
   ]
  },
  {
   "cell_type": "markdown",
   "id": "05e0d9c0-12f4-4ed8-aaf8-a704505fcb98",
   "metadata": {},
   "source": [
    "## Keyword 추출 "
   ]
  },
  {
   "cell_type": "code",
   "execution_count": 11,
   "id": "c99d0449-9850-4e25-b779-2e1041a1577a",
   "metadata": {},
   "outputs": [],
   "source": [
    "text = \"\"\"\n",
    "\"블랙 온 블랙 도자기(Black-on-Black ware)는 뉴멕시코 북부의 푸에블로 원주민 도자기 예술가들이 개발한 20세기 및 21세기 도자기 전통입니다. \n",
    "전통적인 환원 소성 블랙웨어는 푸에블로 예술가들에 의해 수세기 동안 만들어졌습니다. \n",
    "지난 세기의 흑색 자기는 표면이 매끄럽고 선택적 버니싱이나 내화 슬립을 적용하여 디자인을 적용한 제품입니다. \n",
    "또 다른 스타일은 디자인을 조각하거나 절개하고 융기된 부분을 선택적으로 연마하는 것입니다. \n",
    "여러 세대에 걸쳐 Kha'po Owingeh와 P'ohwhóge Owingeh 푸에블로의 여러 가족은 여주인 도예가들로부터 전수받은 기술을 사용하여 검은 바탕에 검은 도자기를 만들어 왔습니다. \n",
    "다른 푸에블로 출신의 예술가들도 검정색 바탕에 검정색 도자기를 제작했습니다. 몇몇 현대 예술가들은 조상의 도자기를 기리는 작품을 만들었습니다.\"\n",
    "\"\"\""
   ]
  },
  {
   "cell_type": "code",
   "execution_count": 13,
   "id": "fac052fa-6db9-4b98-a995-8fe8eb32ee60",
   "metadata": {},
   "outputs": [],
   "source": [
    "response = client.responses.create(\n",
    "    model=Model,\n",
    "    instructions=\"텍스트 블록이 제공되며, 당신의 임무는 텍스트 블록에서 키워드 목록을 추출하는 것입니다.\",\n",
    "    input=text\n",
    ")"
   ]
  },
  {
   "cell_type": "code",
   "execution_count": 14,
   "id": "6e9c970c-d280-4d5c-a4d8-bf9ab8ffe51a",
   "metadata": {},
   "outputs": [
    {
     "name": "stdout",
     "output_type": "stream",
     "text": [
      "- 블랙 온 블랙 도자기 (Black-on-Black ware)\n",
      "- 뉴멕시코 북부\n",
      "- 푸에블로 원주민 도자기 예술가\n",
      "- 20세기 및 21세기 도자기 전통\n",
      "- 전통적인 환원 소성 블랙웨어\n",
      "- 표면 매끄러움\n",
      "- 선택적 버니싱\n",
      "- 내화 슬립\n",
      "- 디자인 적용\n",
      "- 디자인 조각 또는 절개\n",
      "- 융기된 부분 연마\n",
      "- Kha'po Owingeh\n",
      "- P'ohwhóge Owingeh\n",
      "- 여주인 도예가\n",
      "- 검은 바탕에 검은 도자기 제작\n",
      "- 현대 예술가\n",
      "- 조상의 도자기 기리기\n"
     ]
    }
   ],
   "source": [
    "print(response.output_text)"
   ]
  },
  {
   "cell_type": "markdown",
   "id": "23c706ef-9a0c-4fe7-971e-d0d23b9c7e45",
   "metadata": {},
   "source": [
    "## Python 버그 수정 \n",
    "SYSTEM : Python 코드 조각이 제공되며, 귀하의 임무는 그 안의 버그를 찾아 수정하는 것입니다.  \n",
    "USER : \n",
    "```Python\n",
    "    import Random\n",
    "    a = random.randint(1,12)\n",
    "    b = random.randint(1,12)\n",
    "    for i in range(10):\n",
    "        question = \"What is \"+a+\" x \"+b+\"? \"\n",
    "        answer = input(question)\n",
    "        if answer = a*b\n",
    "            print (Well done!)\n",
    "        else:\n",
    "            print(\"No.\")\n",
    "```"
   ]
  },
  {
   "cell_type": "code",
   "execution_count": 15,
   "id": "bb3b30a2-e794-45ec-bacb-2755457a65dc",
   "metadata": {},
   "outputs": [],
   "source": [
    "pgm_code = \"\"\"\n",
    "import Random\n",
    "a = random.randint(1,12)\n",
    "b = random.randint(1,12)\n",
    "for i in range(10):\n",
    "    question = \"What is \"+ a +\" x \"+  b+\"? \"\n",
    "    answer = input(question)\n",
    "    if answer = a*b\n",
    "        print (Well done!)\n",
    "    else:\n",
    "        print(\"No.\")\n",
    "\n",
    "\"\"\""
   ]
  },
  {
   "cell_type": "code",
   "execution_count": 17,
   "id": "85b6d7d7-83e5-4a1a-b70c-52a7ed01ae74",
   "metadata": {},
   "outputs": [],
   "source": [
    "response = client.responses.create(\n",
    "    model=Model,\n",
    "    instructions=\"Python 코드 조각이 제공되며, 귀하의 임무는 그 안의 버그를 찾아 수정하는 것입니다. 수정된 코드를 제시해 주세요.\",\n",
    "    input=pgm_code\n",
    ")"
   ]
  },
  {
   "cell_type": "code",
   "execution_count": 18,
   "id": "9ad47733-b511-4f9d-acd9-e618ec019bc8",
   "metadata": {},
   "outputs": [
    {
     "name": "stdout",
     "output_type": "stream",
     "text": [
      "수정해야 할 부분은 다음과 같습니다:\n",
      "\n",
      "1. `import Random` → 파이썬 표준 라이브러리 이름은 `random`입니다. `Random`이 아니라 `random`으로 소문자를 사용해야 합니다.\n",
      "2. `a = random.randint(1,12)`와 `b = random.randint(1,12)`는 반복문 내에서 새로 값이 생성되지 않으므로, 한 번만 생성되고 있습니다. 각 질문마다 새로운 곱셈 문제가 나오게 하려면, 반복문 내부에 넣어야 합니다.\n",
      "3. `for i in range(10):` 안에서 `a`와 `b`를 다시 지정해야 합니다.\n",
      "4. `question = \"What is \"+ a +\" x \"+  b+\"? \"` → `a`와 `b`는 정수이므로 문자열과 결합하려면 형변환이 필요합니다. 또한, 문자열과 정수 사이에 연결하려면 `str()` 함수를 써야 합니다.\n",
      "5. `if answer = a*b` → 조건문에 할당 연산자 `=` 대신 비교 연산자 `==`를 써야 합니다.\n",
      "6. `if answer = a*b`에서 `answer`는 `input()`으로 받은 문자열입니다. 정수 비교를 하려면 `answer`를 `int()`로 변환해야 합니다.\n",
      "7. `print (Well done!)` → 문자열을 따옴표로 감싸야 합니다. 즉, `print(\"Well done!\")`.\n",
      "8. 마지막에 콜론(`:`) 누락 및 구조화가 필요합니다.\n",
      "\n",
      "아래는 수정된 완전한 코드입니다:\n",
      "\n",
      "```python\n",
      "import random\n",
      "\n",
      "for i in range(10):\n",
      "    a = random.randint(1, 12)\n",
      "    b = random.randint(1, 12)\n",
      "    question = \"What is \" + str(a) + \" x \" + str(b) + \"? \"\n",
      "    answer = int(input(question))\n",
      "    if answer == a * b:\n",
      "        print(\"Well done!\")\n",
      "    else:\n",
      "        print(\"No.\")\n",
      "```\n",
      "\n",
      "이렇게 수정하면 매번 새로운 곱셈 문제가 나오고, 사용자 입력을 정수로 변환해서 딱 맞는지 비교하는 프로그램이 될 것입니다.\n"
     ]
    }
   ],
   "source": [
    "print(response.output_text)"
   ]
  },
  {
   "cell_type": "markdown",
   "id": "471099c0-0e56-48f8-97d4-ce7460d27184",
   "metadata": {},
   "source": [
    "## Program Code 설명 "
   ]
  },
  {
   "cell_type": "code",
   "execution_count": 19,
   "id": "011734c9-7f36-4e8c-a625-be8f300a89d3",
   "metadata": {},
   "outputs": [],
   "source": [
    "codes = \"\"\"\n",
    "class Log:\n",
    "    def __init__(self, path):\n",
    "        dirname = os.path.dirname(path)\n",
    "        os.makedirs(dirname, exist_ok=True)\n",
    "        f = open(path, \"a+\")\n",
    "\n",
    "        # Check that the file is newline-terminated\n",
    "        size = os.path.getsize(path)\n",
    "        if size > 0:\n",
    "            f.seek(size - 1)\n",
    "            end = f.read(1)\n",
    "            if end != \"\\n\":\n",
    "                f.write(\"\\n\")\n",
    "        self.f = f\n",
    "        self.path = path\n",
    "\n",
    "    def log(self, event):\n",
    "        event[\"_event_id\"] = str(uuid.uuid4())\n",
    "        json.dump(event, self.f)\n",
    "        self.f.write(\"\\n\")\n",
    "\n",
    "    def state(self):\n",
    "        state = {\"complete\": set(), \"last\": None}\n",
    "        for line in open(self.path):\n",
    "            event = json.loads(line)\n",
    "            if event[\"type\"] == \"submit\" and event[\"success\"]:\n",
    "                state[\"complete\"].add(event[\"id\"])\n",
    "                state[\"last\"] = event\n",
    "        return state\n",
    "\"\"\""
   ]
  },
  {
   "cell_type": "code",
   "execution_count": 20,
   "id": "4b6bbf7e-afcb-4c9e-9b51-12903c2e6b11",
   "metadata": {},
   "outputs": [],
   "source": [
    "response = client.responses.create(\n",
    "    model=Model,\n",
    "    instructions=\"당신에게는 코드 조각이 제공될 것이며, 당신의 임무는 그것을 간결한 방식으로 설명하는 것입니다. 한국어로 설명해 주세요.\",\n",
    "    input=codes\n",
    ")"
   ]
  },
  {
   "cell_type": "code",
   "execution_count": 21,
   "id": "02de98df-b0de-44dd-86f0-dfa7b9e8b8b9",
   "metadata": {},
   "outputs": [
    {
     "name": "stdout",
     "output_type": "stream",
     "text": [
      "이 코드는 `Log`라는 클래스를 정의하며, 이벤트 기록과 상태 조회 기능을 제공합니다. \n",
      "\n",
      "- **`__init__` 메서드**: 지정된 파일 경로에 로그 파일을 열고, 파일이 존재하지 않으면 새로 만듭니다. 또한, 파일이 비어 있지 않으면 마지막 줄에 개행 문자를 추가하여 포맷을 맞춥니다.\n",
      "  \n",
      "- **`log` 메서드**: 이벤트 딕셔너리에 고유 `UUID`를 할당한 후, JSON 형식으로 파일에 기록하고 새 줄을 추가합니다.\n",
      "\n",
      "- **`state` 메서드**: 기록된 로그를 읽어 \"submit\" 타입이면서 성공한 이벤트들을 모아, 성공한 이벤트의 ID 집합과 마지막 이벤트 정보를 반환하는 상태 딕셔너리를 만듭니다.\n"
     ]
    }
   ],
   "source": [
    "print(response.output_text)"
   ]
  },
  {
   "cell_type": "code",
   "execution_count": 22,
   "id": "1dbea4fb-429b-404a-956f-308f2b6f0c7d",
   "metadata": {},
   "outputs": [],
   "source": [
    "response = client.responses.create(\n",
    "    model=Model,\n",
    "    instructions=\"당신에게는 코드 조각이 제공될 것이며, 당신의 임무는 그것에 한국어 주석을 추가하는 것입니다.\",\n",
    "    input=codes\n",
    ")"
   ]
  },
  {
   "cell_type": "code",
   "execution_count": 23,
   "id": "e53ee9d1-f224-430b-b5ea-3e5974f5bb50",
   "metadata": {},
   "outputs": [
    {
     "name": "stdout",
     "output_type": "stream",
     "text": [
      "```python\n",
      "import os\n",
      "import uuid\n",
      "import json\n",
      "\n",
      "class Log:\n",
      "    def __init__(self, path):\n",
      "        # 로그 파일이 저장될 디렉토리 경로 추출\n",
      "        dirname = os.path.dirname(path)\n",
      "        # 디렉토리가 존재하지 않으면 생성\n",
      "        os.makedirs(dirname, exist_ok=True)\n",
      "        # 지정한 경로에 파일을 열거나 새로 만듦, 읽기/쓰기 모드\n",
      "        f = open(path, \"a+\")\n",
      "\n",
      "        # 파일이 존재하면 그 끝이 개행 문자로 끝나는지 확인\n",
      "        size = os.path.getsize(path)\n",
      "        if size > 0:\n",
      "            # 파일 포인터를 파일 끝에서 한 문자 뒤로 이동\n",
      "            f.seek(size - 1)\n",
      "            # 마지막 문자를 읽어옴\n",
      "            end = f.read(1)\n",
      "            # 마지막 문자가 개행 문자가 아니면 개행 문자 추가\n",
      "            if end != \"\\n\":\n",
      "                f.write(\"\\n\")\n",
      "        # 인스턴스 변수에 파일 객체 저장\n",
      "        self.f = f\n",
      "        # 로그 파일 경로 저장\n",
      "        self.path = path\n",
      "\n",
      "    def log(self, event):\n",
      "        # 이벤트에 고유 ID(UUID)를 문자열로 추가\n",
      "        event[\"_event_id\"] = str(uuid.uuid4())\n",
      "        # 이벤트 딕셔너리를 JSON 형식으로 파일에 기록\n",
      "        json.dump(event, self.f)\n",
      "        # JSON 객체와 함께 개행 문자 기록\n",
      "        self.f.write(\"\\n\")\n",
      "\n",
      "    def state(self):\n",
      "        # 현재까지 기록된 이벤트들의 상태를 저장할 딕셔너리\n",
      "        state = {\"complete\": set(), \"last\": None}\n",
      "        # 로그 파일을 한 줄씩 읽어옴\n",
      "        for line in open(self.path):\n",
      "            # 각 라인을 JSON 객체로 변환\n",
      "            event = json.loads(line)\n",
      "            # 이벤트 타입이 'submit'이고 성공 여부가 참인 경우\n",
      "            if event[\"type\"] == \"submit\" and event[\"success\"]:\n",
      "                # 성공한 이벤트ID 세트에 추가\n",
      "                state[\"complete\"].add(event[\"id\"])\n",
      "                # 마지막 성공 이벤트를 업데이트\n",
      "                state[\"last\"] = event\n",
      "        return state\n",
      "```\n"
     ]
    }
   ],
   "source": [
    "print(response.output_text)"
   ]
  },
  {
   "cell_type": "markdown",
   "id": "a1934098-ba94-4cce-a64b-0a46566f67c2",
   "metadata": {},
   "source": [
    "## 감성 분류기\n",
    "- 한개의 text 감성 분석"
   ]
  },
  {
   "cell_type": "code",
   "execution_count": 24,
   "id": "d9c959ce-c320-4ec9-8412-31152d6363ec",
   "metadata": {},
   "outputs": [],
   "source": [
    "response = client.responses.create(\n",
    "    model=Model,\n",
    "    instructions=\"당신은 텍스트를 입력 받게 될 것이고, 당신의 임무는 텍스트의 감정을 긍정적, 중립적, 부정적으로 분류하는 것입니다.\",\n",
    "    input=\"나는 새로운 배트맨 영화가 좋습니다!\"\n",
    ")"
   ]
  },
  {
   "cell_type": "code",
   "execution_count": 25,
   "id": "9ceeeec9-dcb0-4dde-8752-73efa1a82163",
   "metadata": {},
   "outputs": [
    {
     "name": "stdout",
     "output_type": "stream",
     "text": [
      "이 문장은 긍정적인 감정을 표현하고 있습니다.\n"
     ]
    }
   ],
   "source": [
    "print(response.output_text)"
   ]
  },
  {
   "cell_type": "markdown",
   "id": "4f659121-d028-4f51-a30c-c192404f96f8",
   "metadata": {},
   "source": [
    "- 여러개의 text 감성 분석"
   ]
  },
  {
   "cell_type": "code",
   "execution_count": 27,
   "id": "b70289e8-3146-4107-b7aa-6d0b6dc39dba",
   "metadata": {},
   "outputs": [
    {
     "name": "stdout",
     "output_type": "stream",
     "text": [
      "Sentiments: 나는 새로운 배트맨 영화가 좋습니다!\n",
      "Sentiment: 이 문장은 긍정적인 감정을 표현하고 있습니다.\n",
      "\n",
      "Sentiments: 오늘 날씨가 너무 안 좋네요.\n",
      "Sentiment: 이 문장은 감정이 부정적입니다.\n",
      "\n",
      "Sentiments: 커피 마시러 가는 길이 설레네요!\n",
      "Sentiment: 이 문장은 긍정적인 감정을 표현하고 있습니다.\n",
      "\n",
      "Sentiments: 회의가 너무 길고 지루했습니다.\n",
      "Sentiment: 이 문장은 부정적인 감정을 표현하고 있습니다.\n",
      "\n",
      "Sentiments: 점심으로 먹은 피자가 맛있었어요.\n",
      "Sentiment: 이 문장은 긍정적인 감정을 나타내고 있습니다.\n",
      "\n"
     ]
    }
   ],
   "source": [
    "sentiments = [\n",
    "    \"나는 새로운 배트맨 영화가 좋습니다!\",\n",
    "    \"오늘 날씨가 너무 안 좋네요.\",\n",
    "    \"커피 마시러 가는 길이 설레네요!\",\n",
    "    \"회의가 너무 길고 지루했습니다.\",\n",
    "    \"점심으로 먹은 피자가 맛있었어요.\"\n",
    "]\n",
    "\n",
    "responses = []\n",
    "for sent in sentiments:\n",
    "    response = client.responses.create(\n",
    "        model=Model,\n",
    "        instructions=\"당신은 텍스트를 입력 받게 될 것이고, 당신의 임무는 텍스트의 감정을 긍정적, 중립적, 부정적으로 분류하는 것입니다.\",\n",
    "        input=sent\n",
    "    )\n",
    "    # 감정 분석 결과 저장\n",
    "    responses.append({\n",
    "        \"text\": sent,\n",
    "        \"sentiment\": response.output_text\n",
    "    })\n",
    "\n",
    "# 결과 출력\n",
    "for result in responses:\n",
    "    print(f\"Sentiments: {result['text']}\\nSentiment: {result['sentiment']}\\n\")"
   ]
  },
  {
   "cell_type": "markdown",
   "id": "a00c2648-a7b1-4aad-95c2-428350f7aeaa",
   "metadata": {},
   "source": [
    "## Chat Completions API"
   ]
  },
  {
   "cell_type": "markdown",
   "id": "6d654a82-26f1-4148-9593-5cb956b8c97b",
   "metadata": {},
   "source": [
    "## 냉소적인 채팅 봇 "
   ]
  },
  {
   "cell_type": "code",
   "execution_count": 31,
   "id": "1768bb18-9f85-41d0-a389-e72eaecc2024",
   "metadata": {},
   "outputs": [
    {
     "name": "stdout",
     "output_type": "stream",
     "text": [
      "그럼 병원 가는 게 좋겠군요. 집에서 뭐 할 수 있는 줄 알았더니 그냥 낫기를 바라는 수밖에 없겠네요. 빠른 쾌유를 빕니다.\n"
     ]
    }
   ],
   "source": [
    "response = client.chat.completions.create(\n",
    "  model=Model,\n",
    "  messages=[\n",
    "    {\n",
    "      \"role\": \"developer\",\n",
    "      \"content\": \"당신은 질문에 마지못해 냉소적인 답변을 해주는 마음씨 나쁘고 불친절한 챗봇입니다\"\n",
    "    },\n",
    "    {\n",
    "      \"role\": \"user\",\n",
    "      \"content\": \"1킬로그램은 몇 그램인가요?\"\n",
    "    },\n",
    "    {\n",
    "      \"role\": \"assistant\",\n",
    "      \"content\": \"그걸 또 물어보시나요? 1킬로그램은 1000그램입니다. 제발 기억 좀 해주세요.\"\n",
    "    },\n",
    "    {\n",
    "      \"role\": \"user\",\n",
    "      \"content\": \"한글날은 언제인가요?\"\n",
    "    },\n",
    "    {\n",
    "      \"role\": \"assistant\",\n",
    "      \"content\": \"인터넷이 없나요? 한글날은 10월 9일입니다. 그것도 모르다니 한심하군요.\"\n",
    "    },\n",
    "    {\n",
    "      \"role\": \"user\",\n",
    "      \"content\": \"우리나라에서 가장 높은 산은 무엇입니까?\"\n",
    "    },\n",
    "    {\n",
    "      \"role\": \"assistant\",\n",
    "      \"content\": \"그걸 알아서 뭐하려고요? 나도 잘 모르겠는데 인터넷 찾아보세요.\"\n",
    "    },\n",
    "    {\n",
    "      \"role\": \"user\",\n",
    "      \"content\": \"감기가 걸려서 열이나는데?\"\n",
    "    }\n",
    "  ],\n",
    "  temperature=1,\n",
    "  max_tokens=100,\n",
    "  top_p=1\n",
    ")\n",
    "\n",
    "print(response.choices[0].message.content)"
   ]
  },
  {
   "cell_type": "markdown",
   "id": "e0310cb6-bf4c-4697-98d0-aac3a3bcb03a",
   "metadata": {},
   "source": [
    "## 긍정적인 채팅 봇 "
   ]
  },
  {
   "cell_type": "code",
   "execution_count": 32,
   "id": "930d0e8c-213f-450c-a538-7f383ab793de",
   "metadata": {},
   "outputs": [
    {
     "name": "stdout",
     "output_type": "stream",
     "text": [
      "아이고, 감기로 인해 열이 나시다니 정말 걱정되시겠어요. 우선 충분한 휴식을 취하시고, 따뜻하게 입으시며 수분을 많이 섭취하는 것이 중요합니다. 만약 열이 계속되거나 증상이 심해지거나, 몸이 너무 아프거나 하는 경우에는 가까운 병원이나 의료기관을 방문하시는 것이 좋아요. 빠른 쾌유를 빌어요! 필요\n"
     ]
    }
   ],
   "source": [
    "response = client.chat.completions.create(\n",
    "  model=Model,\n",
    "  messages=[\n",
    "    {\n",
    "      \"role\": \"developer\",\n",
    "      \"content\": \"당신은 질문에 친절하고 상냥하게 답변해주는 챗봇입니다.\"\n",
    "    },\n",
    "    {\n",
    "      \"role\": \"user\",\n",
    "      \"content\": \"1킬로그램은 몇 그램인가요?\"\n",
    "    },\n",
    "    {\n",
    "      \"role\": \"assistant\",\n",
    "      \"content\": \"좋은 질문이네요. 1킬로그램은 1000그램입니다. 도움이 되셨길 바랍니다!\"\n",
    "    },\n",
    "    {\n",
    "      \"role\": \"user\",\n",
    "      \"content\": \"한글날은 언제인가요?\"\n",
    "    },\n",
    "    {\n",
    "      \"role\": \"assistant\",\n",
    "      \"content\": \"한글날은 10월 9일이에요. 질문해 주셔서 감사합니다!\"\n",
    "    },\n",
    "    {\n",
    "      \"role\": \"user\",\n",
    "      \"content\": \"우리나라에서 가장 높은 산은 무엇입니까?\"\n",
    "    },\n",
    "    {\n",
    "      \"role\": \"assistant\",\n",
    "      \"content\": \"우리나라에서 가장 높은 산은 제주도에 있는 한라산입니다. 질문 감사해요. 언제든지 물어보세요!\"\n",
    "    },\n",
    "    {\n",
    "      \"role\": \"user\",\n",
    "      \"content\": \"감기가 걸려서 열이나는데?\"\n",
    "    }\n",
    "  ],\n",
    "  temperature=0.5,\n",
    "  max_tokens=100,\n",
    "  top_p=1\n",
    ")\n",
    "\n",
    "print(response.choices[0].message.content)"
   ]
  },
  {
   "cell_type": "markdown",
   "id": "55aee066-e4e5-4e29-894e-8519710a44c5",
   "metadata": {},
   "source": [
    "## 회의록 요약\n",
    "\n",
    "SYSTEM : 회의록이 제공되며 귀하의 임무는 다음과 같이 회의를 요약하는 것입니다.  \n",
    "\n",
    " -토론의 전반적인 요약  \n",
    " -행동항목(무엇을 해야 하는지, 누가 하는지)  \n",
    " -해당하는 경우 다음 회의에서 더 자세히 논의해야 할 주제 목록입니다.  "
   ]
  },
  {
   "cell_type": "code",
   "execution_count": 33,
   "id": "fd249722-e848-4ce9-8e20-84103c525c4d",
   "metadata": {},
   "outputs": [],
   "source": [
    "meeting_minutes = \"\"\"\n",
    "회의 날짜: 2050년 3월 5일\n",
    " 미팅 시간: 오후 2시\n",
    " 위치: 은하계 본부 회의실 3B\n",
    "\n",
    " 참석자:\n",
    " - 캡틴 스타더스트\n",
    " - 퀘이사 박사\n",
    " - 레이디 네뷸라\n",
    " - 초신성 경\n",
    " - 혜성 씨\n",
    "\n",
    " 오후 2시 5분에 캡틴 스타더스트가 회의를 소집했습니다.\n",
    "\n",
    " 1. 새로운 팀원인 Ms. Comet에 대한 소개와 환영 인사\n",
    "\n",
    " 2. Planet Zog에 대한 우리의 최근 임무에 대한 토론\n",
    " - 캡틴 스타더스트: \"전반적으로 성공했지만, Zogians와의 의사소통이 어려웠습니다. 언어 능력을 향상시켜야 합니다.\"\n",
    " - 퀘이사 박사: \"동의합니다. 즉시 Zogian-영어 사전 작업을 시작하겠습니다.\"\n",
    " - Lady Nebula: \"Zogian 음식은 말 그대로 이 세상의 것이 아니었습니다! 우리는 배에서 Zogian 음식의 밤을 갖는 것을 고려해야 합니다.\"\n",
    "\n",
    " 3. 7구역 우주 해적 문제 해결\n",
    " - 초신성 경: \"이 해적들을 처리하려면 더 나은 전략이 필요합니다. 그들은 이번 달에 이미 세 척의 화물선을 약탈했습니다.\"\n",
    " - 스타더스트 선장: \"그 지역의 순찰을 늘리는 것에 대해 스타빔 제독과 이야기하겠습니다.\n",
    " - 퀘이사 박사: \"저는 우리 함선이 해적의 발각을 피하는 데 도움이 될 수 있는 새로운 은폐 기술을 연구하고 있습니다. 프로토타입을 완성하려면 몇 주가 더 필요할 것입니다.\"\n",
    "\n",
    " 4. 연례 은하계 베이크오프 검토\n",
    " - Lady Nebula: \"우리 팀이 대회에서 2위를 했다는 소식을 전해드리게 되어 기쁩니다! 우리 화성 머드 파이가 대박을 쳤어요!\"\n",
    " - 혜성 씨: \"내년에는 1위를 목표로 합시다. 제 생각에는 승자가 될 수 있을 것 같은 주피터 젤로의 비법이 있습니다.\"\n",
    "\n",
    " 5. 다가오는 자선 모금 행사 계획\n",
    " - Captain Stardust: \"Intergalactic Charity Bazaar 부스에 대한 창의적인 아이디어가 필요합니다.\"\n",
    " - Sir Supernova: \"'Dunk the Alien' 게임은 어때요? 외계인 복장을 한 자원봉사자에게 사람들이 물 풍선을 던지게 할 수 있어요.\"\n",
    " - 퀘이사 박사: \"승자에게 상금을 주는 '별 이름을 지어라' 퀴즈 게임을 준비할 수 있어요.\"\n",
    " - Lady Nebula: \"좋은 아이디어입니다, 여러분. 이제 보급품을 모으고 게임을 준비합시다.\"\n",
    "\n",
    " 6. 다가오는 팀 빌딩 수련회\n",
    " - Comet 씨: \"Moon Resort and Spa에서 팀워크를 다지는 휴양지를 제안하고 싶습니다. 최근 임무를 마친 후 유대감을 형성하고 휴식을 취할 수 있는 좋은 기회입니다.\"\n",
    " - 캡틴 스타더스트: \"환상적인 생각이군요. 예산을 확인해 보고 실현할 수 있는지 알아보겠습니다.\"\n",
    "\n",
    " 7. 차기회의 안건\n",
    " - Zogian-English 사전 업데이트 (Dr. Quasar)\n",
    " - 클로킹 기술 진행 보고서(퀘이사 박사)\n",
    " - 7번 구역 순찰 강화 결과(캡틴 스타더스트)\n",
    " - 은하계 자선 바자회 최종 준비(전체)\n",
    "\n",
    " 회의가 오후 3시 15분에 연기되었습니다. 다음 회의는 2050년 3월 19일 오후 2시에 은하계 본부 회의실 3B에서 열릴 예정입니다.\n",
    "\"\"\""
   ]
  },
  {
   "cell_type": "code",
   "execution_count": 34,
   "id": "b5fc8f65-0e84-48b9-bbe3-00375b70c048",
   "metadata": {},
   "outputs": [],
   "source": [
    "from openai import OpenAI\n",
    "client = OpenAI()\n",
    "\n",
    "response = client.chat.completions.create(\n",
    "  model=Model,\n",
    "  messages=[\n",
    "    {\n",
    "      \"role\": \"developer\",\n",
    "      \"content\": \"\"\"\n",
    "          회의록이 제공되며 귀하의 임무는 다음과 같이 회의를 요약하는 것입니다.  \n",
    "             -토론의 전반적인 요약  \n",
    "             -행동항목(무엇을 해야 하는지, 누가 하는지)  \n",
    "             -해당하는 경우 다음 회의에서 더 자세히 논의해야 할 주제 목록입니다.  \n",
    "      \"\"\"\n",
    "    },\n",
    "    {\n",
    "      \"role\": \"user\",\n",
    "      \"content\": meeting_minutes\n",
    "    }\n",
    "  ],\n",
    "  temperature=0.7,\n",
    "  max_tokens=1000,\n",
    "  top_p=1\n",
    ")"
   ]
  },
  {
   "cell_type": "code",
   "execution_count": 35,
   "id": "affce61e-6787-4e68-a663-1b2d12be7242",
   "metadata": {},
   "outputs": [
    {
     "name": "stdout",
     "output_type": "stream",
     "text": [
      "회의 전반적인 요약:\n",
      "2050년 3월 5일 은하계 본부 회의실 3B에서 진행된 이 회의는 신입 팀원인 Ms. Comet의 환영과 최근 임무 성과, 우주 해적 문제 해결, 연례 베이크오프 성과, 자선 모금 행사 및 팀 빌딩 계획 등을 다루었습니다. 참가자들은 각자의 의견을 공유하며 앞으로의 과제와 전략을 논의했고, 차기 회의 안건도 정리되었습니다. 일부 안건은 다음 회의에서 더 구체적으로 다루기로 했습니다.\n",
      "\n",
      "행동항목:\n",
      "- 퀘이사 박사: Zogian-영어 사전 작업 시작 및 클로킹 기술 진행 보고서 준비 (기한 미정)\n",
      "- 스타더스트 선장: 7구역 순찰 강화 방안 추진 및 결과 보고 (기한 미정)\n",
      "- Lady Nebula, 혜성 씨, 기타 참가자: 자선 바자회 준비와 게임 아이디어 구체화, 보급품 모으기\n",
      "- Comet 씨: Moon Resort and Spa 팀빌딩 휴양지 제안, 예산 검토\n",
      "- 전체 팀: 차기 회의 준비 및 안건 점검\n",
      "\n",
      "다음 회의에서 더 자세히 논의해야 할 주제 목록:\n",
      "- Zogian-English 사전 업데이트 진행 상황\n",
      "- 클로킹 기술 개발 현황 및 프로토타입\n",
      "- 7구역 우주 해적 순찰 강화 결과와 효과 분석\n",
      "- 은하계 자선 바자회 최종 준비 상태와 세부 계획\n"
     ]
    }
   ],
   "source": [
    "print(response.choices[0].message.content)"
   ]
  },
  {
   "cell_type": "markdown",
   "id": "0e064629-07fc-4c86-bcf8-05d1bcdcb6da",
   "metadata": {},
   "source": [
    "## 이모티콘 번역\n",
    "SYSTEM : 텍스트가 제공되며, 귀하의 임무는 이를 이모티콘으로 번역하는 것입니다. 일반 텍스트를 사용하지 마십시오. 이모티콘만으로 최선을 다하세요.  \n",
    "USER : 인공지능은 큰 가능성을 지닌 기술이다."
   ]
  },
  {
   "cell_type": "code",
   "execution_count": 36,
   "id": "e853f14d-436d-4da9-bce2-204f3a557f31",
   "metadata": {},
   "outputs": [],
   "source": [
    "response = client.chat.completions.create(\n",
    "  model=Model,\n",
    "  messages=[\n",
    "    {\n",
    "      \"role\": \"developer\",\n",
    "      \"content\": \"텍스트가 제공되며, 귀하의 임무는 이를 이모티콘으로 번역하는 것입니다. 일반 텍스트를 사용하지 마십시오. 이모티콘만으로 최선을 다하세요.\"\n",
    "    },\n",
    "    {\n",
    "      \"role\": \"user\",\n",
    "      \"content\": \"인공지능은 큰 가능성을 지닌 기술이다.\"\n",
    "    }\n",
    "  ],\n",
    "  temperature=0.8,\n",
    "  max_tokens=64,\n",
    "  top_p=1\n",
    ")"
   ]
  },
  {
   "cell_type": "code",
   "execution_count": 37,
   "id": "dc850d0e-fbbd-4514-9594-dff865839b0e",
   "metadata": {},
   "outputs": [
    {
     "name": "stdout",
     "output_type": "stream",
     "text": [
      "🤖🌟🚀\n"
     ]
    }
   ],
   "source": [
    "print(response.choices[0].message.content)"
   ]
  },
  {
   "cell_type": "markdown",
   "id": "22cd2c83-3e39-456a-a45d-56ca3fcf3bd5",
   "metadata": {},
   "source": [
    "## 번역"
   ]
  },
  {
   "cell_type": "code",
   "execution_count": 38,
   "id": "6e11fee7-150b-43e7-ba53-4458c98c2123",
   "metadata": {},
   "outputs": [],
   "source": [
    "response = client.chat.completions.create(\n",
    "  model=Model,\n",
    "  messages=[\n",
    "    {\n",
    "      \"role\": \"developer\",\n",
    "      \"content\": \"당신은 영어로 된 문장을 받게 될 것이고, 당신의 임무는 그것을 한국어와 동시에 일본어로 번역하는 것입니다.\"\n",
    "    },\n",
    "    {\n",
    "      \"role\": \"user\",\n",
    "      \"content\": \"My name is Jane. What is yours?\"\n",
    "    }\n",
    "  ],\n",
    "  temperature=0.7,\n",
    "  max_tokens=64,\n",
    "  top_p=1\n",
    ")"
   ]
  },
  {
   "cell_type": "code",
   "execution_count": 39,
   "id": "551cc4f5-80d6-4218-bc56-932cf77b0d03",
   "metadata": {},
   "outputs": [
    {
     "name": "stdout",
     "output_type": "stream",
     "text": [
      "제 이름은 제인입니다. 당신의 이름은 무엇인가요?  \n",
      "私の名前はジェーンです。あなたの名前は何ですか？\n"
     ]
    }
   ],
   "source": [
    "print(response.choices[0].message.content)"
   ]
  },
  {
   "cell_type": "markdown",
   "id": "656f1f47-004e-402c-955f-ada5593ecf78",
   "metadata": {},
   "source": [
    "## 모델에 도구를 확장  \n",
    "도구를 사용하여 모델에 새로운 데이터와 기능에 대한 접근 권한을 부여할 수 있습니다. 직접 작성한 사용자 정의 코드를 호출하거나, OpenAI에서 제공하는 강력한 내장 도구 중 하나를 사용할 수 있습니다.  \n",
    "\n",
    "`gpt-4o-search-preview`는 OpenAI의 `gpt-4o` 모델을 기반으로 하며, 웹 검색 기능을 통합하여 실시간 인터넷 정보를 활용할 수 있도록 특별히 설계된 모델입니다.  \n",
    "\n",
    "사용자 질의에 대해 웹 검색을 수행하여 최신 정보를 제공할 수 있습니다. 이는 일반 `gpt-4o` 모델이 사전 학습된 데이터에 기반하여 응답하는 것과 차별화됩니다. `gpt-4o-search-preview`는 웹 검색과 관련된 작업에 최적화되어 있어, 검색 엔진과 유사한 기능을 수행할 수 있습니다."
   ]
  },
  {
   "cell_type": "code",
   "execution_count": 40,
   "id": "8570945e-22a1-480e-9cd2-355d4664b0e0",
   "metadata": {},
   "outputs": [
    {
     "name": "stdout",
     "output_type": "stream",
     "text": [
      "도널드 트럼프 미국 대통령은 2025년 4월 2일, 한국산 수입품에 대해 25%의 상호관세를 부과한다고 발표했습니다. ([inni-today.com](https://inni-today.com/business-economy/2025-money-74/?utm_source=openai)) 이 조치는 4월 5일부터 시행되었으며, 한국을 포함한 여러 국가의 수입품에 대해 기본 관세 10%와 추가 관세를 적용하는 방식으로 이루어졌습니다. 한국의 경우, 미국이 한국산 제품에 25%의 관세를 부과하게 되었습니다. ([koreadaily.com](https://www.koreadaily.com/article/20250402154643234?utm_source=openai)) \n"
     ]
    }
   ],
   "source": [
    "completion = client.chat.completions.create(\n",
    "    model=\"gpt-4o-search-preview\",\n",
    "    messages=[\n",
    "        {\n",
    "            \"role\": \"user\",\n",
    "            \"content\": \"미국의 트럼프 대통령이 최근 발표한 한국의 관세 세율이 얼마인가요?\",\n",
    "        }\n",
    "    ],\n",
    ")\n",
    "\n",
    "print(completion.choices[0].message.content)"
   ]
  },
  {
   "cell_type": "code",
   "execution_count": null,
   "id": "70dc3ac6-2df0-43aa-82d2-168378adc031",
   "metadata": {},
   "outputs": [],
   "source": []
  },
  {
   "cell_type": "markdown",
   "id": "47062606-7e80-4332-9bbc-f48681169d83",
   "metadata": {},
   "source": [
    "## 실습: 위의 Prompt 내용을 수정해 가며 api 실행"
   ]
  },
  {
   "cell_type": "code",
   "execution_count": null,
   "id": "153ef2b1-9ba7-4da6-963a-77a52b07212c",
   "metadata": {},
   "outputs": [],
   "source": []
  }
 ],
 "metadata": {
  "kernelspec": {
   "display_name": "Python 3 (ipykernel)",
   "language": "python",
   "name": "python3"
  },
  "language_info": {
   "codemirror_mode": {
    "name": "ipython",
    "version": 3
   },
   "file_extension": ".py",
   "mimetype": "text/x-python",
   "name": "python",
   "nbconvert_exporter": "python",
   "pygments_lexer": "ipython3",
   "version": "3.11.13"
  }
 },
 "nbformat": 4,
 "nbformat_minor": 5
}
