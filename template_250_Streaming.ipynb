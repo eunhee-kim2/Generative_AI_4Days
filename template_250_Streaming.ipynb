{
 "cells": [
  {
   "cell_type": "markdown",
   "id": "5530c442-cc5f-4216-9e74-f5cb1964cb2e",
   "metadata": {},
   "source": [
    "# 스트리밍 API 응답\n",
    "기본적으로 OpenAI API에 요청을 보내면 모델의 전체 출력을 생성한 후 단일 HTTP 응답으로 다시 전송합니다. 긴 출력을 생성할 경우 응답을 기다리는 데 시간이 걸릴 수 있습니다.   \n",
    "스트리밍 응답을 사용하면 전체 응답을 생성하는 동안 모델 출력의 시작 부분을 인쇄하거나 처리할 수 있습니다.\n",
    "\n",
    "응답 스트리밍을 시작하려면 stream=True응답 엔드포인트에 대한 요청을 설정합니다."
   ]
  },
  {
   "cell_type": "code",
   "execution_count": null,
   "id": "fbd55c62",
   "metadata": {},
   "outputs": [],
   "source": []
  },
  {
   "cell_type": "code",
   "execution_count": null,
   "id": "9bbdf771",
   "metadata": {},
   "outputs": [],
   "source": []
  },
  {
   "cell_type": "code",
   "execution_count": null,
   "id": "ef8feb9a",
   "metadata": {},
   "outputs": [],
   "source": [
    "# 응답이 조각(chunk) 단위로 도착할 때마다 출력"
   ]
  },
  {
   "cell_type": "code",
   "execution_count": null,
   "id": "503eaeda",
   "metadata": {},
   "outputs": [],
   "source": []
  }
 ],
 "metadata": {
  "kernelspec": {
   "display_name": "Python 3 (ipykernel)",
   "language": "python",
   "name": "python3"
  },
  "language_info": {
   "codemirror_mode": {
    "name": "ipython",
    "version": 3
   },
   "file_extension": ".py",
   "mimetype": "text/x-python",
   "name": "python",
   "nbconvert_exporter": "python",
   "pygments_lexer": "ipython3",
   "version": "3.11.13"
  }
 },
 "nbformat": 4,
 "nbformat_minor": 5
}
