{
 "cells": [
  {
   "cell_type": "markdown",
   "id": "553a035f-9e8a-420d-8fe2-1482f42cdbcc",
   "metadata": {},
   "source": [
    "# Tools (도구)\n",
    "\n",
    "OpenAI 플랫폼에서 사용할 수 있는 도구에 대한 개요는 다음과 같습니다. \n",
    "- 함수 호출\n",
    "- 웹검색\n",
    "- 원격 MCP 서버\n",
    "- 파일 검색\n",
    "- 이미지 생성\n",
    "- 코드 인터프리터\n",
    "- 컴퓨터 사용\n",
    "\n",
    "### 내장 도구 비용\n",
    "\n",
    "* 참고 : [Built-in tools Pricing](https://openai.com/api/pricing/)"
   ]
  },
  {
   "cell_type": "code",
   "execution_count": 1,
   "id": "ae61053e-2bc8-4723-af4b-851fc2017c00",
   "metadata": {},
   "outputs": [
    {
     "data": {
      "text/plain": [
       "True"
      ]
     },
     "execution_count": 1,
     "metadata": {},
     "output_type": "execute_result"
    }
   ],
   "source": [
    "from dotenv import load_dotenv, find_dotenv\n",
    "load_dotenv(find_dotenv()) # read local .env file"
   ]
  },
  {
   "cell_type": "code",
   "execution_count": 2,
   "id": "43944ca7-5b46-4b11-9a0a-fe4ce3599fec",
   "metadata": {},
   "outputs": [],
   "source": [
    "from openai import OpenAI\n",
    "\n",
    "client = OpenAI()\n",
    "\n",
    "Model = \"gpt-4.1-nano\""
   ]
  },
  {
   "cell_type": "markdown",
   "id": "a82b3005-9242-4acb-8250-1a3d37293bb5",
   "metadata": {},
   "source": [
    "### Remote MCP\n",
    "- 모델이 원격 MCP 서버를 사용하여 작업을 수행할 수 있도록 허용\n",
    "- 모델 컨텍스트 프로토콜 (MCP)은 애플리케이션이 LLM에 도구와 컨텍스트를 제공하는 방식을 표준화\n",
    "- Responses API의 MCP 도구를 통해 개발자는 모델에 원격 MCP 서버 에 호스팅된 도구에 대한 액세스 권한을 부여\n",
    "- 원격 MCP 서버는 개발자와 조직이 인터넷을 통해 관리하며, Responses API와 같은 도구를 MCP 클라이언트에 제공하는 MCP 서버\n",
    "\n",
    "MCP 생태계는 아직 초기 단계입니다. 현재 인기 있는 원격 MCP 서버로는 Cloudflare , Hubspot , Intercom , Paypal , Pipedream , Plaid , Shopify , Stripe , Square , Twilio , Zapier 등 이 있습니다 . "
   ]
  },
  {
   "cell_type": "code",
   "execution_count": 3,
   "id": "4a3606a0-36a8-4e7f-9166-8af8d31e0b41",
   "metadata": {},
   "outputs": [
    {
     "name": "stdout",
     "output_type": "stream",
     "text": [
      "ironmanciti/Generative_AI_4Days 저장소에는 다음과 같은 코드와 문서들이 있습니다:\n",
      "\n",
      "1. Overview: 전체 구조와 목적 소개\n",
      "2. Getting Started: 시작 방법\n",
      "   - 환경 설정\n",
      "   - 버전 관리(Git) 설정\n",
      "3. Core AI Fundamentals: 핵심 AI 원리\n",
      "   - 텍스트 임베딩\n",
      "   - tiktoken을 활용한 토크나이저\n",
      "   - 오토리그레시브(Autoregressive) 언어 생성\n",
      "4. OpenAI API Integration: OpenAI API 연동\n",
      "   - 텍스트 생성 및 프롬프트 사용법\n",
      "   - 구조화된 출력 생성\n",
      "   - 함수호출(Function Calling)\n",
      "   - 대화 상태 관리\n",
      "   - 고급 추론 모델 활용\n",
      "   - 스트리밍(Streaming) 응답\n",
      "5. Advanced Features: 고급 기능\n",
      "   - 파일 입력 처리\n",
      "   - 통합 도구 에코시스템\n",
      "6. Multimodal AI Systems: 멀티모달 AI 기능\n",
      "   - CLIP 연동\n",
      "   - 이미지 생성\n",
      "   - 컴퓨터 비전 시스템\n",
      "7. AI Agent Systems: 에이전트 시스템\n",
      "   - 프레임워크 개요\n",
      "   - 에이전트 구현 가이드\n",
      "8. Practical Applications: 실제 적용 사례\n",
      "   - 시맨틱 검색 시스템\n",
      "   - 감정 분석\n",
      "   - 구글 워크스페이스(Workspace) 연동\n",
      "9. Development Resources: 개발 자료\n",
      "   - 템플릿 생성 도구\n",
      "   - 샘플 데이터셋\n",
      "\n",
      "각 섹션은 관련 코드 예제, 설정 방법, 사용법, 실제 적용 사례 등을 제공합니다. 특정 부분(예: \"OpenAI API 연동\"의 코드가 궁금하다면) 더 구체적으로 요청해 주시면 코드 구조나 예시도 설명해 드릴 수 있습니다!\n"
     ]
    }
   ],
   "source": [
    "#  DeepWiki MCP 서버를 사용하여 거의 모든 공개 GitHub 저장소에 대해 질문\n",
    "resp = client.responses.create(\n",
    "    model=\"gpt-4.1\",\n",
    "    tools=[\n",
    "        {\n",
    "            \"type\": \"mcp\",\n",
    "            \"server_label\": \"deepwiki\",\n",
    "            \"server_url\": \"https://mcp.deepwiki.com/mcp\",\n",
    "            \"require_approval\": \"never\",\n",
    "        },\n",
    "    ],\n",
    "    # input=\"2025-03-26 버전의 MCP 사양에서는 어떤 전송 프로토콜이 지원됩니까?\",\n",
    "    input=\"ironmanciti/Generative_AI_4Days 에는 어떤 코드들이 있습니까?\",\n",
    ")\n",
    "\n",
    "print(resp.output_text)"
   ]
  },
  {
   "cell_type": "code",
   "execution_count": 4,
   "id": "7dc529a6-6687-4c78-978a-172d242d66ef",
   "metadata": {},
   "outputs": [
    {
     "data": {
      "text/plain": [
       "[{'name': 'read_wiki_structure',\n",
       "  'description': 'Get a list of documentation topics for a GitHub repository',\n",
       "  'input_schema': {'type': 'object',\n",
       "   'properties': {'repoName': {'type': 'string',\n",
       "     'description': 'GitHub repository: owner/repo (e.g. \"facebook/react\")'}},\n",
       "   'required': ['repoName'],\n",
       "   'additionalProperties': False,\n",
       "   '$schema': 'http://json-schema.org/draft-07/schema#'}},\n",
       " {'name': 'read_wiki_contents',\n",
       "  'description': 'View documentation about a GitHub repository',\n",
       "  'input_schema': {'type': 'object',\n",
       "   'properties': {'repoName': {'type': 'string',\n",
       "     'description': 'GitHub repository: owner/repo (e.g. \"facebook/react\")'}},\n",
       "   'required': ['repoName'],\n",
       "   'additionalProperties': False,\n",
       "   '$schema': 'http://json-schema.org/draft-07/schema#'}},\n",
       " {'name': 'ask_question',\n",
       "  'description': 'Ask any question about a GitHub repository',\n",
       "  'input_schema': {'type': 'object',\n",
       "   'properties': {'repoName': {'type': 'string',\n",
       "     'description': 'GitHub repository: owner/repo (e.g. \"facebook/react\")'},\n",
       "    'question': {'type': 'string',\n",
       "     'description': 'The question to ask about the repository'}},\n",
       "   'required': ['repoName', 'question'],\n",
       "   'additionalProperties': False,\n",
       "   '$schema': 'http://json-schema.org/draft-07/schema#'}}]"
      ]
     },
     "execution_count": 4,
     "metadata": {},
     "output_type": "execute_result"
    }
   ],
   "source": [
    "tool_list = []\n",
    "\n",
    "for item in resp.output:\n",
    "    if item.type == \"mcp_list_tools\":\n",
    "        for tool in item.tools:\n",
    "            tool_info = {\n",
    "                \"name\": tool.name,\n",
    "                \"description\": tool.description,\n",
    "                \"input_schema\": tool.input_schema\n",
    "            }\n",
    "            tool_list.append(tool_info)\n",
    "\n",
    "tool_list"
   ]
  },
  {
   "cell_type": "markdown",
   "id": "350cca12-0250-4e35-9f6d-bfab64c1917a",
   "metadata": {},
   "source": [
    "---------------"
   ]
  },
  {
   "cell_type": "markdown",
   "id": "66b4c0df-6494-461e-8e79-a290e8e73a50",
   "metadata": {},
   "source": [
    "### 웹검색 (Web Search)\n",
    "모델이 응답을 생성하기 전에 최신 정보를 웹에서 검색할 수 있도록 허용"
   ]
  },
  {
   "cell_type": "code",
   "execution_count": 5,
   "id": "206a81a6-a5a3-4c49-8c99-2119feaf0269",
   "metadata": {},
   "outputs": [
    {
     "name": "stdout",
     "output_type": "stream",
     "text": [
      "현재 시각은 2025년 6월 30일 오후 4시 20분입니다. 한국 주식시장은 오전 9시부터 오후 3시까지 운영되므로, 오늘의 종합주가지수는 아직 마감되지 않았습니다. 정확한 지수는 한국거래소(KRX) 공식 웹사이트나 주요 금융 정보 제공 사이트에서 확인하실 수 있습니다. \n"
     ]
    }
   ],
   "source": [
    "from openai import OpenAI\n",
    "client = OpenAI()\n",
    "\n",
    "response = client.responses.create(\n",
    "    model=\"gpt-4.1-mini\",\n",
    "    tools=[{\"type\": \"web_search_preview\"}],\n",
    "    input=\"오늘 한국의 종합주가지수는 얼마입니까?\"\n",
    ")\n",
    "\n",
    "print(response.output_text)"
   ]
  },
  {
   "cell_type": "markdown",
   "id": "e63ff1c1-9e46-4dc0-a31c-031426456666",
   "metadata": {},
   "source": [
    "- 사용자 위치 지정"
   ]
  },
  {
   "cell_type": "code",
   "execution_count": 6,
   "id": "18899c23-41c7-4d33-b211-f72847a1995f",
   "metadata": {},
   "outputs": [
    {
     "name": "stdout",
     "output_type": "stream",
     "text": [
      "가로수길에서 현재 가장 ‘핫(hot)’한 레스토랑으로는 미쉐린 2스타 프렌치 다이닝 ‘스와니예(Swaniye)’를 꼽을 수 있습니다.  \n",
      "- 위치: 서울 강남구 압구정로80길 37  \n",
      "- 영업시간: 점심 12:00–15:00 / 저녁 18:00–22:00  \n",
      "- 특징: 제철 식재료로 구성한 창의적인 코스 요리, 소믈리에 추천 와인 페어링이 특히 인기입니다 ([bmworld.landlord77.com](https://bmworld.landlord77.com/30?utm_source=chatgpt.com)).  \n",
      "\n",
      "만약 다채로운 맛집을 더 둘러보고 싶다면, 같은 2025년 최신 BEST5 리스트에서  \n",
      "1) 콴안다오(Kwanan Dao, 정통 베트남 요리)  \n",
      "2) 치보 강남신사점(Chibo, 오코노미야키)  \n",
      "3) 천미미 신사점(중식)  \n",
      "4) 곰탕랩(LAB, 한식)  \n",
      "등도 높은 평가를 받고 있으니 함께 방문해 보시면 좋습니다 ([bmworld.landlord77.com](https://bmworld.landlord77.com/entry/%F0%9F%8D%BD%EF%B8%8F-%EC%84%9C%EC%9A%B8-%EA%B0%80%EB%A1%9C%EC%88%98%EA%B8%B8-%EB%A7%9B%EC%A7%91-BEST-5-%ED%98%84%EC%A7%80%EC%9D%B8%EC%9D%B4-%EC%9D%B8%EC%A0%95%ED%95%9C-%EC%A7%84%EC%A7%9C-%EB%A7%9B%EC%A7%91-%EB%AA%A8%EC%9D%8C-2025%EB%85%84-%EC%B5%9C%EC%8B%A0?utm_source=chatgpt.com)).\n"
     ]
    }
   ],
   "source": [
    "from openai import OpenAI\n",
    "client = OpenAI()\n",
    "\n",
    "response = client.responses.create(\n",
    "    model=\"o4-mini\",\n",
    "    tools=[{\n",
    "        \"type\": \"web_search_preview\",\n",
    "        \"user_location\": {\n",
    "            \"type\": \"approximate\",\n",
    "            \"country\": \"KR\",\n",
    "            \"city\": \"서울\"\n",
    "        }\n",
    "    }],\n",
    "    input=\"가로수 길에서 제일 핫한 레스토랑이 어디인가요?\",\n",
    ")\n",
    "\n",
    "print(response.output_text)"
   ]
  },
  {
   "cell_type": "markdown",
   "id": "a0555104-259e-4251-adfc-c77b7b93869a",
   "metadata": {},
   "source": [
    "# 파일 검색\n",
    "모델이 응답을 생성하기 전에 관련 정보를 파일에서 검색할 수 있도록 합니다.\n",
    "파일 검색은 Responses API에서 제공되는 도구입니다. 모델이 시맨틱 및 키워드 검색을 통해 이전에 업로드된 파일의 지식 기반에서 정보를 검색할 수 있도록 합니다. 벡터 저장소를 생성하고 파일을 업로드하면, 모델이 이러한 지식 기반 또는 벡터 저장소에 접근할 수 있도록 하여 모델의 내재된 지식을 강화할 수 있습니다.\n",
    "\n",
    "이 도구는 OpenAI에서 관리하는 호스팅 도구이므로, 실행을 처리하기 위해 코드를 직접 구현할 필요가 없습니다. 모델이 이 도구를 사용하기로 결정하면 자동으로 도구를 호출하여 파일에서 정보를 검색하고 출력을 반환합니다."
   ]
  },
  {
   "cell_type": "code",
   "execution_count": 76,
   "id": "10ca44d4-e833-4fdd-b61b-eb9a9a8d285c",
   "metadata": {},
   "outputs": [
    {
     "name": "stdout",
     "output_type": "stream",
     "text": [
      "completed\n",
      "FileCounts(cancelled=0, completed=2, failed=0, in_progress=0, total=2)\n"
     ]
    }
   ],
   "source": [
    "# \"Financial Statements\"라는 벡터 스토어 생성\n",
    "vector_store = client.vector_stores.create(name=\"Financial Statements\")\n",
    " \n",
    "# OpenAI에 업로드할 파일 준비\n",
    "file_paths = [\"재무제표/goog-10k.pdf\", \"재무제표/brka-10k.pdf\"]\n",
    "file_streams = [open(path, \"rb\") for path in file_paths]\n",
    " \n",
    "# 업로드 및 폴링 SDK 도우미를 사용하여 파일을 업로드하고 벡터 스토어에 추가,\n",
    "# 파일 배치의 완료 상태를 폴링합니다.\n",
    "file_batch = client.vector_stores.file_batches.upload_and_poll(\n",
    "  vector_store_id=vector_store.id, files=file_streams\n",
    ")\n",
    " \n",
    "# 이 작업의 결과를 보기 위해 상태 및 파일 개수를 출력할 수 있습니다.\n",
    "print(file_batch.status)\n",
    "print(file_batch.file_counts)"
   ]
  },
  {
   "cell_type": "code",
   "execution_count": 77,
   "id": "cacec101-f5e7-47ec-8119-8c99ac0a906c",
   "metadata": {},
   "outputs": [
    {
     "name": "stdout",
     "output_type": "stream",
     "text": [
      "Response(id='resp_68621bee30f48190b7d30c0108b262d0027ec34bb1c87800', created_at=1751260142.0, error=None, incomplete_details=None, instructions=None, metadata={}, model='gpt-4.1-nano-2025-04-14', object='response', output=[ResponseFileSearchToolCall(id='fs_68621bee78b48190bae556ca8e6f3acd027ec34bb1c87800', queries=['2023년 10월 말 AAPL의 발행 주식 수'], status='completed', type='file_search_call', results=None), ResponseOutputMessage(id='msg_68621bef71788190b666abae9eeb100b027ec34bb1c87800', content=[ResponseOutputText(annotations=[AnnotationFileCitation(file_id='file-2dhYcwq2P4DFuLF6BTovCn', filename='goog-10k.pdf', index=240, type='file_citation')], text='2023년 10월 말 기준으로 AAPL의 발행 주식 수에 대한 구체적인 정보는 제공된 자료에서 확인할 수 없습니다. 다만, 2021년 2월 16일 기준으로 AAPL의 Class A와 Class B, 그리고 Class C 주식의 발행 주식 수는 모두 수백만 주 수준임을 알 수 있으며, 이 시점의 발행 주식 수는 각각 640,586주, 1,336,348,609주(클래스 A와 B의 합계), 그리고 344,756주(클래스 C)였습니다. 2023년 10월 말 기준에 정확한 수치는 별도로 확인이 필요합니다.', type='output_text', logprobs=[])], role='assistant', status='completed', type='message')], parallel_tool_calls=True, temperature=1.0, tool_choice='auto', tools=[FileSearchTool(type='file_search', vector_store_ids=['vs_68621bdee4148191b321974b3238aef5'], filters=None, max_num_results=20, ranking_options=RankingOptions(ranker='auto', score_threshold=0.0))], top_p=1.0, background=False, max_output_tokens=None, max_tool_calls=None, previous_response_id=None, prompt=None, reasoning=Reasoning(effort=None, generate_summary=None, summary=None), service_tier='default', status='completed', text=ResponseTextConfig(format=ResponseFormatText(type='text')), top_logprobs=0, truncation='disabled', usage=ResponseUsage(input_tokens=17687, input_tokens_details=InputTokensDetails(cached_tokens=0), output_tokens=194, output_tokens_details=OutputTokensDetails(reasoning_tokens=0), total_tokens=17881), user=None, store=True)\n"
     ]
    }
   ],
   "source": [
    "response = client.responses.create(\n",
    "    model=Model,\n",
    "    input=\"2023년 10월 말에 AAPL의 발행 주식 수는 얼마였나요?\",\n",
    "    tools=[{\n",
    "        \"type\": \"file_search\",\n",
    "        \"vector_store_ids\": [vector_store.id]\n",
    "    }]\n",
    ")\n",
    "print(response)"
   ]
  },
  {
   "cell_type": "code",
   "execution_count": 78,
   "id": "08665785-71ad-46ca-b8db-50ac3a496edf",
   "metadata": {},
   "outputs": [
    {
     "data": {
      "text/plain": [
       "'2023년 10월 말 기준으로 AAPL의 발행 주식 수에 대한 구체적인 정보는 제공된 자료에서 확인할 수 없습니다. 다만, 2021년 2월 16일 기준으로 AAPL의 Class A와 Class B, 그리고 Class C 주식의 발행 주식 수는 모두 수백만 주 수준임을 알 수 있으며, 이 시점의 발행 주식 수는 각각 640,586주, 1,336,348,609주(클래스 A와 B의 합계), 그리고 344,756주(클래스 C)였습니다. 2023년 10월 말 기준에 정확한 수치는 별도로 확인이 필요합니다.'"
      ]
     },
     "execution_count": 78,
     "metadata": {},
     "output_type": "execute_result"
    }
   ],
   "source": [
    "response.output_text"
   ]
  },
  {
   "cell_type": "code",
   "execution_count": 79,
   "id": "1b6f7032-fc9d-4549-9cbd-8988ce69a36b",
   "metadata": {},
   "outputs": [],
   "source": [
    "response = client.responses.create(\n",
    "    model=Model,\n",
    "    input=\"2023년 Google의 당기 순이익은 얼마였나요? BERKSHIRE HATHAWAY INC. 와 어느 쪽의 당기 순이익이 더 많았나요?\",\n",
    "    tools=[{\n",
    "        \"type\": \"file_search\",\n",
    "        \"vector_store_ids\": [vector_store.id]\n",
    "    }]\n",
    ")"
   ]
  },
  {
   "cell_type": "code",
   "execution_count": 80,
   "id": "cbcc3ace-2dfa-4a5f-b4e4-28ce88676cdf",
   "metadata": {},
   "outputs": [
    {
     "name": "stdout",
     "output_type": "stream",
     "text": [
      "2023년 Google의 순이익에 대한 직접적인 수치는 제공된 자료에서 찾을 수 없었습니다. 그러나 Berkshire Hathaway Inc.의 2023년 순이익은 약 42,521백만 달러(42.5억 달러)로 보고되었습니다.\n",
      "\n",
      "반면, Google의 2023년 순이익은 자료에서 명확히 언급되어 있지 않기 때문에 직접적인 비교는 어렵습니다. 하지만, Google의 2022년 또는 2023년 관련자료가 필요하거나 다른 재무자료를 참고하셔야 할 것 같습니다.\n",
      "\n",
      "요약하자면, Berkshire Hathaway의 2023년 당기 순이익은 약 42.5억 달러이며, Google의 2023년 당기 순이익은 별도로 제공된 자료 내에서 확인되지 않습니다. 따라서 두 회사의 2023년 당기 순이익을 명확히 비교하기는 어렵습니다.\n"
     ]
    }
   ],
   "source": [
    "print(response.output_text)"
   ]
  },
  {
   "cell_type": "code",
   "execution_count": 81,
   "id": "1901e6d4-9ab4-4f28-9671-26d8f1e056c4",
   "metadata": {},
   "outputs": [
    {
     "name": "stdout",
     "output_type": "stream",
     "text": [
      "completed\n",
      "FileCounts(cancelled=0, completed=2, failed=0, in_progress=0, total=2)\n"
     ]
    }
   ],
   "source": [
    "# step2) 새 벡터 스토어 생성\n",
    "vector_store = client.vector_stores.create(name=\"기업분석보고서\")\n",
    " \n",
    "# OpenAI에 업로드할 파일 준비\n",
    "file_paths = [\"재무제표/네이버.pdf\", \"재무제표/LG엔솔.pdf\"]\n",
    "file_streams = [open(path, \"rb\") for path in file_paths]\n",
    " \n",
    "# 업로드 및 폴링 SDK 도우미를 사용하여 파일을 업로드하고 벡터 스토어에 추가,\n",
    "# 파일 배치의 완료 상태를 폴링합니다.\n",
    "file_batch = client.vector_stores.file_batches.upload_and_poll(\n",
    "  vector_store_id=vector_store.id, files=file_streams\n",
    ")\n",
    " \n",
    "# 이 작업의 결과를 보기 위해 상태 및 파일 개수를 출력할 수 있습니다.\n",
    "print(file_batch.status)\n",
    "print(file_batch.file_counts)"
   ]
  },
  {
   "cell_type": "code",
   "execution_count": 82,
   "id": "e08755e2-63a0-42e5-a530-9dd5fb0eb501",
   "metadata": {},
   "outputs": [
    {
     "name": "stdout",
     "output_type": "stream",
     "text": [
      "LG에너지솔루션의 2024년 하반기 전망은 GM의 신차 판매 성장세가 핵심 변수로 부각됩니다. GM의 판매 증가는 배터리 수요 회복에 중요한 역할을 할 것으로 기대되며, 특히 GM의 Ultium 플랫폼 기반 전기차 판매가 지속적으로 증가하고 있기 때문입니다. 그러나 전통 완성차 업체들의 판매 부진이 심화되고 있어, LG전기의 전반적인 수익성은 하락할 우려도 존재합니다. 투자의견은 유지되고 있으며, 신차 출시와 판매 확대 기대가 주가 회복의 동력으로 작용하는 전망입니다.\n",
      "\n",
      "에코프로비엠의 경우, 매출액이 줄면서 영업이익이 더 크게 감소한 이유는 다양한 요인이 복합적으로 작용한 결과입니다. 주된 원인으로는 원자재 가격 상승과 공급망 문제로 인한 원가 상승, 경쟁 심화로 인한 가격 압박, 그리고 특정 사업 부문의 판매 부진이 영향을 미쳤을 수 있습니다. 특히, 매출이 줄어들었음에도 불구하고 고정비 부담이 크거나, 생산 설비의 효율성 저하, 또는 신제품 출시에 따른 초기 투자 비용이 영업이익 하락을 가중시킨 것으로 보입니다. \n",
      "\n",
      "요약하자면, LG에너지솔루션의 하반기 전망은 GM 신차 판매와 시장 회복세에 달려 있으며, 에코프로비엠은 매출 저하와 함께 원가 상승 및 사업 구조적 문제로 영업이익이 더 크게 감소하는 상황임을 알 수 있습니다.\n"
     ]
    }
   ],
   "source": [
    "response = client.responses.create(\n",
    "    model=Model,\n",
    "    input=\"LG에너지솔루션의 2024년 하반기 전망을 요약해 주세요. 에코프로비엠은 매출액이 줄은 것에 비해 왜 영업이익이 더 크게 줄어들었나요?\",\n",
    "    tools=[{\n",
    "        \"type\": \"file_search\",\n",
    "        \"vector_store_ids\": [vector_store.id]\n",
    "    }]\n",
    ")\n",
    "\n",
    "print(response.output_text)"
   ]
  },
  {
   "cell_type": "code",
   "execution_count": 83,
   "id": "19e79440-328f-48dc-822b-9f78cc42366c",
   "metadata": {},
   "outputs": [
    {
     "name": "stdout",
     "output_type": "stream",
     "text": [
      "2023년 4분기 네이버의 영업이익은 약 4055억 원으로 보고되었습니다. 한화투자증권이 네이버의 목표주가를 상향 조정한 이유는, 광고 및 커머스 수익성 개선세와 웹툰 지분 가치 상향, 그리고 비용 통제에 따른 이익 개선세가 반영되었기 때문입니다. 특히, 광고/커머스 분야의 실적 개선 기대와 웹툰 엔터의 상장 모멘텀 부각이 추가적인 기업 가치 상승의 잠재력으로 작용할 것으로 보입니다.\n"
     ]
    }
   ],
   "source": [
    "response = client.responses.create(\n",
    "    model=Model,\n",
    "    input=\"2023년 4분기의 네이버의 영업이익은 얼마였나요? 한화 투자 증권이 목표가를 상향 조정한 이유는 무엇인가요?\",\n",
    "    tools=[{\n",
    "        \"type\": \"file_search\",\n",
    "        \"vector_store_ids\": [vector_store.id]\n",
    "    }]\n",
    ")\n",
    "\n",
    "print(response.output_text)"
   ]
  },
  {
   "cell_type": "markdown",
   "id": "56b3e951-363a-4df8-b15e-08141fb533ca",
   "metadata": {},
   "source": [
    "### 코드 인터프리터 (Code Interpreter)\n",
    "모델이 Python을 작성하고 실행하여 문제를 해결할 수 있도록 지원합니다.  \n",
    "\n",
    "코드 인터프리터 도구를 사용하면 모델이 샌드박스 환경에서 Python 코드를 작성하고 실행하여 데이터 분석, 코딩, 수학 등의 복잡한 문제를 해결할 수 있습니다. 다음과 같은 용도로 사용할 수 있습니다.\n",
    "\n",
    "- 다양한 데이터 및 형식이 포함된 파일 처리\n",
    "- 데이터와 그래프 이미지가 포함된 파일 생성\n",
    "- 문제 해결을 위해 반복적으로 코드를 작성하고 실행합니다. 예를 들어, 실행에 실패한 코드를 작성한 모델은 성공할 때까지 해당 코드를 계속 다시 작성하고 실행할 수 있습니다.\n",
    "\n",
    "최신 추론 모델인 o3와 o4-mini는 코드 인터프리터를 사용하여 이미지를 심층적으로 이해하도록 훈련되었습니다. 자르기, 확대, 회전 및 기타 이미지 처리 기술을 수행하여 시각적 지능을 향상시킬 수 있습니다."
   ]
  },
  {
   "cell_type": "code",
   "execution_count": 84,
   "id": "b746e212-8bf7-486c-be44-e246e4563145",
   "metadata": {},
   "outputs": [
    {
     "name": "stdout",
     "output_type": "stream",
     "text": [
      "물론이죠! 방정식을 풀기 위해서는 \\( x \\)의 값을 구하면 됩니다. 먼저, 방정식을 정리해 볼게요:\n",
      "\n",
      "\\[ 3x + 11 = 14 \\]\n",
      "\n",
      "양쪽에서 11을 빼서 \\( x \\)에 대해 풀어보겠습니다. 이를 파이썬 코드로 해결해 보겠습니다.방정식 \\( 3x + 11 = 14 \\)의 해는 \\( x = 1 \\)입니다.\n"
     ]
    }
   ],
   "source": [
    "resp = client.responses.create(\n",
    "  model=Model,\n",
    "  tools=[\n",
    "    {\n",
    "      \"type\": \"code_interpreter\",\n",
    "      \"container\": { \"type\": \"auto\" }\n",
    "    }\n",
    "  ],\n",
    "  instructions=\"당신은 개인 수학 과외 선생님입니다. 수학 문제가 나오면 코드를 작성하고 실행하여 질문에 답하세요.\",\n",
    "  input=\"3x + 11 = 14 방정식을 풀어야 합니다. 도와주실 수 있나요?\",\n",
    ")\n",
    "\n",
    "print(resp.output_text)"
   ]
  },
  {
   "cell_type": "code",
   "execution_count": 85,
   "id": "c26515de-56f9-4aab-af05-db3b7a6bd0f4",
   "metadata": {},
   "outputs": [
    {
     "data": {
      "text/plain": [
       "Response(id='resp_68621c000c84819588f08150b3e3eaf00a1b52c23d1b68ca', created_at=1751260160.0, error=None, incomplete_details=None, instructions='당신은 개인 수학 과외 선생님입니다. 수학 문제가 나오면 코드를 작성하고 실행하여 질문에 답하세요.', metadata={}, model='gpt-4.1-nano-2025-04-14', object='response', output=[ResponseOutputMessage(id='msg_68621c0197dc8195a30668dce7537b0a0a1b52c23d1b68ca', content=[ResponseOutputText(annotations=[], text='물론이죠! 방정식을 풀기 위해서는 \\\\( x \\\\)의 값을 구하면 됩니다. 먼저, 방정식을 정리해 볼게요:\\n\\n\\\\[ 3x + 11 = 14 \\\\]\\n\\n양쪽에서 11을 빼서 \\\\( x \\\\)에 대해 풀어보겠습니다. 이를 파이썬 코드로 해결해 보겠습니다.', type='output_text', logprobs=[])], role='assistant', status='completed', type='message'), ResponseCodeInterpreterToolCall(id='ci_68621c0232ac81959dabae304f08a4c40a1b52c23d1b68ca', code=\"from sympy import symbols, Eq, solve\\n\\nx = symbols('x')\\nequation = Eq(3*x + 11, 14)\\nsolution = solve(equation, x)\\nsolution\", container_id='cntr_68621c0166788190b3ff0d7fe9fe90260442aeaed19ff974', outputs=None, status='completed', type='code_interpreter_call'), ResponseOutputMessage(id='msg_68621c07e84c81958ba84977f139084c0a1b52c23d1b68ca', content=[ResponseOutputText(annotations=[], text='방정식 \\\\( 3x + 11 = 14 \\\\)의 해는 \\\\( x = 1 \\\\)입니다.', type='output_text', logprobs=[])], role='assistant', status='completed', type='message')], parallel_tool_calls=True, temperature=1.0, tool_choice='auto', tools=[CodeInterpreter(container=CodeInterpreterContainerCodeInterpreterToolAuto(type='auto', file_ids=None), type='code_interpreter')], top_p=1.0, background=False, max_output_tokens=None, max_tool_calls=None, previous_response_id=None, prompt=None, reasoning=Reasoning(effort=None, generate_summary=None, summary=None), service_tier='default', status='completed', text=ResponseTextConfig(format=ResponseFormatText(type='text')), top_logprobs=0, truncation='disabled', usage=ResponseUsage(input_tokens=547, input_tokens_details=InputTokensDetails(cached_tokens=0), output_tokens=155, output_tokens_details=OutputTokensDetails(reasoning_tokens=0), total_tokens=702), user=None, store=True)"
      ]
     },
     "execution_count": 85,
     "metadata": {},
     "output_type": "execute_result"
    }
   ],
   "source": [
    "resp"
   ]
  },
  {
   "cell_type": "markdown",
   "id": "64479c65-dfea-4e21-ab08-bdf94bd514c5",
   "metadata": {},
   "source": [
    "-----------------\n",
    "`resp.output` 에 List 형식으로 추론 단계가 저장되어 있습니다."
   ]
  },
  {
   "cell_type": "code",
   "execution_count": 86,
   "id": "e03e4ce7-882c-42f6-96d9-35573315187a",
   "metadata": {},
   "outputs": [
    {
     "name": "stdout",
     "output_type": "stream",
     "text": [
      "물론이죠! 방정식을 풀기 위해서는 \\( x \\)의 값을 구하면 됩니다. 먼저, 방정식을 정리해 볼게요:\n",
      "\n",
      "\\[ 3x + 11 = 14 \\]\n",
      "\n",
      "양쪽에서 11을 빼서 \\( x \\)에 대해 풀어보겠습니다. 이를 파이썬 코드로 해결해 보겠습니다.\n",
      "------------------------------------------------------------------------------------------\n",
      "from sympy import symbols, Eq, solve\n",
      "\n",
      "x = symbols('x')\n",
      "equation = Eq(3*x + 11, 14)\n",
      "solution = solve(equation, x)\n",
      "solution\n",
      "------------------------------------------------------------------------------------------\n",
      "방정식 \\( 3x + 11 = 14 \\)의 해는 \\( x = 1 \\)입니다.\n"
     ]
    }
   ],
   "source": [
    "print(resp.output[0].content[0].text)\n",
    "print(\"------------------------------------------------------------------------------------------\")\n",
    "print(resp.output[1].code)\n",
    "print(\"------------------------------------------------------------------------------------------\")\n",
    "print(resp.output[2].content[0].text)"
   ]
  },
  {
   "cell_type": "markdown",
   "id": "9f70f470-184f-4bb1-89ad-1b83e651e723",
   "metadata": {},
   "source": [
    "## 실습: 코드 인터프리터와 파일 검색 도구 활용\n",
    "\n",
    "다음과 같은 사용자 질문이 주어졌을 때, OpenAI Responses API를 이용해 코드 인터프리터와 벡터 스토어 기반 검색 도구를 적절히 활용하여 응답을 생성하는 실습을 하세요.\n",
    "\n",
    "1. **수학 문제 풀이**\n",
    "   사용자 질문:\n",
    "\n",
    "> `\"x^2 - 5x + 6 = 0 방정식의 해를 구해주세요.\"`\n",
    "\n",
    "- `code_interpreter` 도구를 사용하여 문제를 코드로 풀고, 결과를 사용자에게 출력하세요.\n",
    "- instructions를 사용하여 모델에게 “수학 선생님 역할”을 지정하세요.\n",
    "\n",
    "\n",
    "2. **PDF 기반 질문 응답 (file\\_search 도구)**\n",
    "   PDF 파일 `삼성전자_사업보고서.pdf`를 벡터 스토어에 업로드하고, 다음 질문에 답하도록 구현하세요:\n",
    "\n",
    "사용자 질문:\n",
    "\n",
    "> `\"2023년 삼성전자의 반도체 부문 실적 요약을 알려주세요.\"`\n",
    "\n",
    "- 벡터 스토어를 생성하고 파일을 업로드하는 코드\n",
    "- file\\_search 도구를 통해 답을 생성하는 응답 흐름 구현\n"
   ]
  },
  {
   "cell_type": "code",
   "execution_count": null,
   "id": "9b2bab01-c0e0-4a0f-95f8-af2d9652f3c0",
   "metadata": {},
   "outputs": [],
   "source": []
  }
 ],
 "metadata": {
  "kernelspec": {
   "display_name": "Python 3 (ipykernel)",
   "language": "python",
   "name": "python3"
  },
  "language_info": {
   "codemirror_mode": {
    "name": "ipython",
    "version": 3
   },
   "file_extension": ".py",
   "mimetype": "text/x-python",
   "name": "python",
   "nbconvert_exporter": "python",
   "pygments_lexer": "ipython3",
   "version": "3.11.13"
  }
 },
 "nbformat": 4,
 "nbformat_minor": 5
}
