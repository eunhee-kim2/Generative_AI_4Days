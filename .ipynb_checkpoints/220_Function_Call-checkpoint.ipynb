{
 "cells": [
  {
   "cell_type": "markdown",
   "id": "14745a6a-9274-4410-8223-d47c135d3923",
   "metadata": {},
   "source": [
    "# 함수 호출\n",
    "- 대규모 언어 모델을 외부 도구에 연결하는 방법  \n",
    "\n",
    "- API 호출에서 함수를 설명하고 모델이 하나 이상의 함수를 호출하기 위한 인수가 포함된 JSON 개체를 출력하도록 지능적으로 선택하도록 할 수 있습니다. Chat Completions API는 함수를 호출하지 않습니다. 대신 모델은 코드에서 함수를 호출하는 데 사용할 수 있는 JSON을 생성합니다.\n",
    "- 모델은 함수를 호출해야 하는 시기를 감지하고 함수를 준수하는 JSON으로 응답하도록 훈련되었습니다. 이 기능에는 잠재적인 위험도 따릅니다. 사용자를 대신하여 세상에 영향을 미치는 조치(이메일 전송, 온라인 게시, 구매 등)를 수행하기 전에 사용자 확인 흐름을 구축하는 것이 좋습니다."
   ]
  },
  {
   "cell_type": "markdown",
   "id": "25632191-7a44-4ea2-81a0-7ef6529140c7",
   "metadata": {},
   "source": [
    "### 채팅 모델로 함수를 호출하는 방법\n",
    "\n",
    "함수 호출을 위한 기본 단계는 다음과 같습니다:\n",
    "\n",
    "1. **모델 호출**: 사용자 질의와 함께 함수 집합을 정의하여 모델을 호출합니다. 함수 목록을 `tools` 파라미터에 제공합니다.\n",
    "\n",
    "\n",
    "2. **모델의 함수 호출 선택**: 모델은 하나 이상의 함수를 호출할 수 있습니다. 이 경우, 모델의 응답 내용은 사용자가 정의한 스키마에 따른 JSON 객체 문자열이 됩니다. \n",
    "\n",
    "\n",
    "3. **JSON 파싱 및 함수 호출**: 코드에서 문자열을 JSON으로 파싱하고, 제공된 인수가 있는 경우 함수를 호출합니다.\n",
    "\n",
    "\n",
    "4. **모델 재호출 및 결과 요약**: 함수 응답을 새로운 메시지로 추가하여 모델을 다시 호출합니다. 모델이 결과를 사용자에게 요약하여 전달합니다.\n",
    "\n",
    "이 단계들은 사용자 질의에 따라 적절한 함수를 선택하고, 해당 함수의 응답을 처리하여 최종 결과를 사용자에게 제공하는 과정을 포함합니다. 이를 통해 사용자는 더 나은 응답을 받을 수 있습니다.\n",
    "\n",
    "<img src=\"https://i.imgur.com/fR4FuHa.png\" width=400 />"
   ]
  },
  {
   "cell_type": "markdown",
   "id": "86bcdef2-ea2f-4ebf-bd91-b1c02e594394",
   "metadata": {},
   "source": [
    "### 함수 정의 (Defining Functions)\n",
    "- 각 API 요청의 tools 매개변수 내에서 함수를 정의할 수 있습니다.\n",
    "- 함수는 스키마(Schema) 를 통해 정의되며, 모델이 함수의 목적과 입력 인수를 이해할 수 있도록 돕습니다.\n",
    "스키마는 다음과 같은 필드로 구성됩니다.\n",
    "| 필드        | 설명                                      |\n",
    "|------------|------------------------------------------|\n",
    "| **name**   | 함수의 이름 (예: `get_weather`)          |\n",
    "| **description** | 함수가 언제, 어떻게 사용되는지 설명  |\n",
    "| **parameters**  | 함수의 입력 인수를 정의하는 JSON 스키마 |\n"
   ]
  },
  {
   "cell_type": "code",
   "execution_count": 1,
   "id": "334d11fd-c651-4d59-9c38-e5f7b14aae06",
   "metadata": {},
   "outputs": [
    {
     "data": {
      "text/plain": [
       "True"
      ]
     },
     "execution_count": 1,
     "metadata": {},
     "output_type": "execute_result"
    }
   ],
   "source": [
    "from dotenv import load_dotenv, find_dotenv\n",
    "load_dotenv(find_dotenv()) # read local .env file"
   ]
  },
  {
   "cell_type": "code",
   "execution_count": 2,
   "id": "e06c229b-b633-456e-9ae1-c62ebe6c79b9",
   "metadata": {},
   "outputs": [],
   "source": [
    "from openai import OpenAI\n",
    "import json\n",
    "\n",
    "client = OpenAI()\n",
    "\n",
    "Model = \"gpt-4.1-nano\""
   ]
  },
  {
   "cell_type": "code",
   "execution_count": 3,
   "id": "8b0cc744-bed3-4a63-8874-1ab7f8f6bcec",
   "metadata": {},
   "outputs": [
    {
     "data": {
      "text/plain": [
       "'{\"location\": \"Paris\", \"temperature\": \"22\", \"unit\": \"celsius\"}'"
      ]
     },
     "execution_count": 3,
     "metadata": {},
     "output_type": "execute_result"
    }
   ],
   "source": [
    "# 예제 더미 함수로 하드 코딩된 동일한 날씨 정보를 반환합니다.\n",
    "# 실제 환경에서는 백엔드 API 또는 외부 API가 될 수 있습니다.\n",
    "def get_current_weather(location, unit=\"celsius\"):\n",
    "    \"\"\"지정된 위치의 현재 날씨를 가져옵니다.\"\"\"\n",
    "    if \"tokyo\" in location.lower():\n",
    "        return json.dumps({\"location\": \"Tokyo\", \"temperature\": \"10\", \"unit\": unit})\n",
    "    elif \"san francisco\" in location.lower():\n",
    "        return json.dumps({\"location\": \"San Francisco\", \"temperature\": \"22.2\", \"unit\": unit})\n",
    "    elif \"paris\" in location.lower():\n",
    "        return json.dumps({\"location\": \"Paris\", \"temperature\": \"22\", \"unit\": unit})\n",
    "    else:\n",
    "        return json.dumps({\"location\": location, \"temperature\": \"unknown\"})\n",
    "\n",
    "get_current_weather(\"Paris\")"
   ]
  },
  {
   "cell_type": "code",
   "execution_count": 4,
   "id": "8cee8de6-60e3-429a-813a-ba39c588b0b2",
   "metadata": {},
   "outputs": [],
   "source": [
    "#함수 집합 정의\n",
    "tools = [\n",
    "    {\n",
    "        \"type\": \"function\",   # 도구의 유형을 함수로 설정\n",
    "        \"name\": \"get_current_weather\",   # 함수 이름\n",
    "        \"description\": \"지정된 위치의 현재 날씨를 가져오는 함수.\",    # 함수 설명\n",
    "        \"parameters\": {\n",
    "            \"type\": \"object\",    # 파라미터의 유형을 객체로 설정\n",
    "            \"properties\": {\n",
    "                \"location\": {\n",
    "                    \"type\": \"string\",   # location 파라미터의 데이터 유형을 문자열로 설정\n",
    "                    \"description\": \"날씨를 알고 싶은 도시와 주 이름. 예: San Francisco, CA\",  # location 파라미터 설명\n",
    "                },\n",
    "            },\n",
    "            \"required\": [\"location\"],   # location 파라미터는 필수\n",
    "        },\n",
    "    }\n",
    "]"
   ]
  },
  {
   "cell_type": "code",
   "execution_count": 5,
   "id": "79eba1e8-e239-4070-bb02-2be6c0f5395f",
   "metadata": {},
   "outputs": [
    {
     "data": {
      "text/plain": [
       "[ResponseFunctionToolCall(arguments='{\"location\":\"San Francisco\"}', call_id='call_Hvs8aIwUYJo91BTQB50Iek7j', name='get_current_weather', type='function_call', id='fc_686207a8fe688195a1a7d7f0ed6bc6360df6c12913b8d479', status='completed'),\n",
       " ResponseFunctionToolCall(arguments='{\"location\":\"Tokyo\"}', call_id='call_W7KvxYqDb1IfTCpquz27RAtU', name='get_current_weather', type='function_call', id='fc_686207a91a7481959bb2f2faa582f9110df6c12913b8d479', status='completed'),\n",
       " ResponseFunctionToolCall(arguments='{\"location\":\"Paris\"}', call_id='call_UpHkPxxcNo9cWGhfcdyVxyww', name='get_current_weather', type='function_call', id='fc_686207a931f481958952443fa92f4bde0df6c12913b8d479', status='completed')]"
      ]
     },
     "execution_count": 5,
     "metadata": {},
     "output_type": "execute_result"
    }
   ],
   "source": [
    "# Step 1: 모델 호출: 사용자 질의와 함께 함수 집합을 정의하여 모델을 호출합니다. 함수 목록을 tools 파라미터에 제공합니다.\n",
    "# Step 2: 모델은 함수를 호출하기로 결정합니다. 모델은 이름 과 입력 인수를 반환합니다 . \n",
    "# 이 경우, 모델의 응답 내용은 사용자가 정의한 스키마에 따른 JSON 객체 문자열이 됩니다.\n",
    "response = client.responses.create(\n",
    "    model=Model,\n",
    "    input=[{\"role\": \"user\", \"content\": \"샌프란시스코, 도쿄, 파리의 날씨는 어떻습니까?\"}],\n",
    "    tools=tools\n",
    ")\n",
    "\n",
    "response.output"
   ]
  },
  {
   "cell_type": "code",
   "execution_count": 6,
   "id": "08c0a1e2-7f96-464d-8143-75b53802ad8f",
   "metadata": {},
   "outputs": [
    {
     "data": {
      "text/plain": [
       "[{'role': 'user', 'content': '샌프란시스코, 도쿄, 파리의 날씨는 어떻습니까?'},\n",
       " ResponseFunctionToolCall(arguments='{\"location\":\"San Francisco\"}', call_id='call_Hvs8aIwUYJo91BTQB50Iek7j', name='get_current_weather', type='function_call', id='fc_686207a8fe688195a1a7d7f0ed6bc6360df6c12913b8d479', status='completed'),\n",
       " {'type': 'function_call_output',\n",
       "  'call_id': 'call_Hvs8aIwUYJo91BTQB50Iek7j',\n",
       "  'output': '{\"location\": \"San Francisco\", \"temperature\": \"22.2\", \"unit\": \"celsius\"}'},\n",
       " ResponseFunctionToolCall(arguments='{\"location\":\"Tokyo\"}', call_id='call_W7KvxYqDb1IfTCpquz27RAtU', name='get_current_weather', type='function_call', id='fc_686207a91a7481959bb2f2faa582f9110df6c12913b8d479', status='completed'),\n",
       " {'type': 'function_call_output',\n",
       "  'call_id': 'call_W7KvxYqDb1IfTCpquz27RAtU',\n",
       "  'output': '{\"location\": \"Tokyo\", \"temperature\": \"10\", \"unit\": \"celsius\"}'},\n",
       " ResponseFunctionToolCall(arguments='{\"location\":\"Paris\"}', call_id='call_UpHkPxxcNo9cWGhfcdyVxyww', name='get_current_weather', type='function_call', id='fc_686207a931f481958952443fa92f4bde0df6c12913b8d479', status='completed'),\n",
       " {'type': 'function_call_output',\n",
       "  'call_id': 'call_UpHkPxxcNo9cWGhfcdyVxyww',\n",
       "  'output': '{\"location\": \"Paris\", \"temperature\": \"22\", \"unit\": \"celsius\"}'}]"
      ]
     },
     "execution_count": 6,
     "metadata": {},
     "output_type": "execute_result"
    }
   ],
   "source": [
    "# step 3: 함수 코드 실행 – 모델의 응답을 구문 분석하고 함수 호출을 처리합니다 .\n",
    "input_messages = [{\"role\": \"user\", \"content\": \"샌프란시스코, 도쿄, 파리의 날씨는 어떻습니까?\"}]\n",
    "\n",
    "for i in range(len(response.output)):\n",
    "    tool_call = response.output[i]    # 모델이 호출한 함수 응답 하나를 가져옵니다\n",
    "    args = json.loads(tool_call.arguments)     # 함수 인자(JSON 문자열)를 파싱하여 딕셔너리로 변환\n",
    "    result = get_current_weather(args['location'])   # location 인자를 이용해 실제 날씨 정보를 조회\n",
    "    input_messages.append(tool_call)    # 모델이 호출한 함수 호출 메시지를 추가\n",
    "    input_messages.append({             # 실제 함수 호출 결과를 추가\n",
    "        \"type\": \"function_call_output\",    # 함수 호출 결과라는 타입을 명시\n",
    "        \"call_id\": tool_call.call_id,      # 어느 함수 호출에 대한 결과인지 연결\n",
    "        \"output\": str(result)          # 함수의 결과를 문자열로 변환\n",
    "    })\n",
    "\n",
    "input_messages"
   ]
  },
  {
   "cell_type": "code",
   "execution_count": 7,
   "id": "7a71261f-8f11-4921-93d0-51765aac0cbf",
   "metadata": {},
   "outputs": [
    {
     "name": "stdout",
     "output_type": "stream",
     "text": [
      "현재 샌프란시스코의 기온은 약 22.2도, 도쿄는 약 10도, 파리는 약 22도입니다. 날씨 정보가 도움이 되었기를 바랍니다!\n"
     ]
    }
   ],
   "source": [
    "# step 4: 결과가 포함된 모델을 제공하여 최종 대응에 반영할 수 있습니다.\n",
    "response_2 = client.responses.create(\n",
    "    model=Model,\n",
    "    input=input_messages,\n",
    "    tools=tools,\n",
    ")\n",
    "print(response_2.output_text)"
   ]
  },
  {
   "cell_type": "markdown",
   "id": "5af0ec0f-ba19-4cc8-ae09-252da6de50eb",
   "metadata": {},
   "source": [
    "### Free Weather API 이용\n",
    "https://open-meteo.com/"
   ]
  },
  {
   "cell_type": "code",
   "execution_count": 4,
   "id": "9561e47c-48f9-42e5-866b-3e93c0b45b07",
   "metadata": {},
   "outputs": [
    {
     "data": {
      "text/plain": [
       "26.4"
      ]
     },
     "execution_count": 4,
     "metadata": {},
     "output_type": "execute_result"
    }
   ],
   "source": [
    "import requests\n",
    "\n",
    "# 현재의 온도 가져오기\n",
    "def get_weather(latitude, longitude):\n",
    "    response = requests.get(f\"https://api.open-meteo.com/v1/forecast?latitude={latitude}&longitude={longitude}&current=temperature_2m\")\n",
    "    data = response.json()\n",
    "    return data['current']['temperature_2m']\n",
    "\n",
    "# 서울의 위도, 경도\n",
    "get_weather(37.56667, 126.97806)"
   ]
  },
  {
   "cell_type": "code",
   "execution_count": 10,
   "id": "6cef1f06-d513-43ee-97af-e49168ead4d2",
   "metadata": {},
   "outputs": [
    {
     "data": {
      "text/plain": [
       "[ResponseFunctionToolCall(arguments='{\"latitude\":37.5665,\"longitude\":126.978}', call_id='call_CMX4Nqzpk3S4y4mRHUARsIr6', name='get_weather', type='function_call', id='fc_686208bb06d48193a7267bc9ce1613ae0dbd2a0c7762929a', status='completed')]"
      ]
     },
     "execution_count": 10,
     "metadata": {},
     "output_type": "execute_result"
    }
   ],
   "source": [
    "import json\n",
    "\n",
    "tools = [{\n",
    "    \"type\": \"function\",\n",
    "    \"name\": \"get_weather\",\n",
    "    \"description\": \"제공된 좌표의 현재 기온을 섭씨(Celsius) 단위로 가져오세요.\",\n",
    "    \"parameters\": {\n",
    "        \"type\": \"object\",\n",
    "        \"properties\": {\n",
    "            \"latitude\": {\"type\": \"number\"},\n",
    "            \"longitude\": {\"type\": \"number\"}\n",
    "        },\n",
    "        \"required\": [\"latitude\", \"longitude\"],\n",
    "        \"additionalProperties\": False\n",
    "    },\n",
    "    \"strict\": True   # JSON 스키마의 엄격한 준수(strict mode)를 적용\n",
    "    }]\n",
    "\n",
    "response = client.responses.create(\n",
    "    model=\"gpt-4.1-mini\",\n",
    "    input=[{\"role\": \"user\", \"content\": \"오늘 서울의 기온이 어때?\"}],\n",
    "    tools=tools,\n",
    ")\n",
    "\n",
    "response.output"
   ]
  },
  {
   "cell_type": "code",
   "execution_count": 11,
   "id": "5be95e55-98b5-449f-af53-94e5ca080cf9",
   "metadata": {},
   "outputs": [
    {
     "data": {
      "text/plain": [
       "28.8"
      ]
     },
     "execution_count": 11,
     "metadata": {},
     "output_type": "execute_result"
    }
   ],
   "source": [
    "# 함수 호출 실행\n",
    "tool_call = response.output[0]\n",
    "args = json.loads(tool_call.arguments)\n",
    "\n",
    "result = get_weather(args['latitude'], args['longitude'])\n",
    "result"
   ]
  },
  {
   "cell_type": "code",
   "execution_count": 12,
   "id": "1a2a6b06-ed24-4bcd-a4f2-6074f3148239",
   "metadata": {},
   "outputs": [
    {
     "data": {
      "text/plain": [
       "'오늘 서울의 기온은 약 28.8도입니다.'"
      ]
     },
     "execution_count": 12,
     "metadata": {},
     "output_type": "execute_result"
    }
   ],
   "source": [
    "# 함수 호출 실행 결과를 추가합니다.\n",
    "input_messages = [{\"role\": \"user\", \"content\": \"오늘 서울의 기온이 어때?\"}]\n",
    "input_messages.append(tool_call)\n",
    "input_messages.append({\n",
    "    \"type\": \"function_call_output\",\n",
    "    \"call_id\": tool_call.call_id,\n",
    "    \"output\": str(result)\n",
    "})\n",
    "\n",
    "response_2 = client.responses.create(\n",
    "    model=Model,\n",
    "    input=input_messages,\n",
    "    tools=tools,\n",
    ")\n",
    "\n",
    "response_2.output_text"
   ]
  },
  {
   "cell_type": "markdown",
   "id": "8b0e5a52-3eb4-4f92-951e-2282287902f2",
   "metadata": {},
   "source": [
    "### Email 보내기"
   ]
  },
  {
   "cell_type": "code",
   "execution_count": 13,
   "id": "36be27d9-ffc8-44c6-8107-4a2216d6a896",
   "metadata": {},
   "outputs": [
    {
     "data": {
      "text/plain": [
       "'test@naver.com 에게 성공적으로 메일 발송'"
      ]
     },
     "execution_count": 13,
     "metadata": {},
     "output_type": "execute_result"
    }
   ],
   "source": [
    "# email 생성 함수\n",
    "def send_email(to, subject, body):\n",
    "    from email.utils import formatdate\n",
    "    from email.mime.multipart import MIMEMultipart\n",
    "    from email.header import Header\n",
    "    # 메일 제목과 내용을 설정하는 모듈\n",
    "    from email.mime.text import MIMEText\n",
    "    \n",
    "    msg = MIMEMultipart()\n",
    "\n",
    "    port = 465  # For SSL\n",
    "    smtp_server = \"smtp.gmail.com\"\n",
    "    sender_email = \"xxcompany@xxx.com\" \n",
    "    receiver_email = to\n",
    "\n",
    "    msg['From'] = sender_email \n",
    "    msg['To'] = receiver_email \n",
    "    msg['Date'] = formatdate(localtime=True)\n",
    "\n",
    "    msg['Subject'] = Header(s=subject, charset='utf-8')\n",
    "    body = MIMEText(body, _charset='utf-8')\n",
    "    msg.attach(body)\n",
    "        \n",
    "    return f\"{to} 에게 성공적으로 메일 발송\"\n",
    "    \n",
    "\n",
    "send_email(\"test@naver.com\", \"test\", \"test\")"
   ]
  },
  {
   "cell_type": "code",
   "execution_count": 14,
   "id": "9360d402-e935-4013-ab92-e10c1fc9a162",
   "metadata": {},
   "outputs": [
    {
     "data": {
      "text/plain": [
       "[ResponseFunctionToolCall(arguments='{\"to\":\"ilan@example.com\",\"subject\":\"안녕하세요\",\"body\":\"안녕하세요\"}', call_id='call_DJZhlv4UH784CDTacRobBlSx', name='send_email', type='function_call', id='fc_686208dedcb88197b1317325931655db0fe63f5dcfbcf5d9', status='completed'),\n",
       " ResponseFunctionToolCall(arguments='{\"to\":\"katia@example.com\",\"subject\":\"안녕하세요\",\"body\":\"안녕하세요\"}', call_id='call_5ocQdYE6UBhFt3wkQxA1ah09', name='send_email', type='function_call', id='fc_686208defd208197a51affc419d1c2810fe63f5dcfbcf5d9', status='completed')]"
      ]
     },
     "execution_count": 14,
     "metadata": {},
     "output_type": "execute_result"
    }
   ],
   "source": [
    "# 이메일 보내기(send_email) 함수 호출 예제\n",
    "tools = [{\n",
    "    \"type\": \"function\",\n",
    "    \"name\": \"send_email\",\n",
    "    \"description\": \"지정된 수신자에게 제목과 메시지를 포함한 이메일을 보내세요.\",\n",
    "    \"parameters\": {\n",
    "        \"type\": \"object\",\n",
    "        \"properties\": {\n",
    "            \"to\": {\n",
    "                \"type\": \"string\",\n",
    "                \"description\": \"수신자의 이메일 주소\"\n",
    "            },\n",
    "            \"subject\": {\n",
    "                \"type\": \"string\",\n",
    "                \"description\": \"이메일 제목 줄\"\n",
    "            },\n",
    "            \"body\": {\n",
    "                \"type\": \"string\",\n",
    "                \"description\": \"이메일 본문\"\n",
    "            }\n",
    "        },\n",
    "        \"required\": [\n",
    "            \"to\",\n",
    "            \"subject\",\n",
    "            \"body\"\n",
    "        ],\n",
    "        \"additionalProperties\": False\n",
    "    },\n",
    "    \"strict\": True\n",
    "}]\n",
    "\n",
    "messages=[{\"role\": \"user\", \n",
    "           \"content\": \"ilan@example.com 과 katia@example.com 에게 `안녕하세요`라는 내용을 담은 이메일을 보내줄 수 있나요?\"}]\n",
    "\n",
    "response = client.responses.create(\n",
    "    model=Model,\n",
    "    input=messages,\n",
    "    tools=tools\n",
    ")\n",
    "\n",
    "response.output"
   ]
  },
  {
   "cell_type": "code",
   "execution_count": 15,
   "id": "97dc4d7a-7acf-49ad-a64e-36cf7f55285a",
   "metadata": {},
   "outputs": [],
   "source": [
    "def call_function(name, args):\n",
    "    if name == \"get_weather\":\n",
    "        return get_weather(**args)\n",
    "    if name == \"send_email\":\n",
    "        return send_email(**args)"
   ]
  },
  {
   "cell_type": "code",
   "execution_count": 16,
   "id": "8a9dc2a6-fbc9-43ef-90d3-e03f03067041",
   "metadata": {},
   "outputs": [
    {
     "data": {
      "text/plain": [
       "[{'role': 'user',\n",
       "  'content': 'ilan@example.com 과 katia@example.com 에게 `안녕하세요`라는 내용을 담은 이메일을 보내줄 수 있나요?'},\n",
       " ResponseFunctionToolCall(arguments='{\"to\":\"ilan@example.com\",\"subject\":\"안녕하세요\",\"body\":\"안녕하세요\"}', call_id='call_DJZhlv4UH784CDTacRobBlSx', name='send_email', type='function_call', id='fc_686208dedcb88197b1317325931655db0fe63f5dcfbcf5d9', status='completed'),\n",
       " {'type': 'function_call_output',\n",
       "  'call_id': 'call_DJZhlv4UH784CDTacRobBlSx',\n",
       "  'output': 'ilan@example.com 에게 성공적으로 메일 발송'},\n",
       " ResponseFunctionToolCall(arguments='{\"to\":\"katia@example.com\",\"subject\":\"안녕하세요\",\"body\":\"안녕하세요\"}', call_id='call_5ocQdYE6UBhFt3wkQxA1ah09', name='send_email', type='function_call', id='fc_686208defd208197a51affc419d1c2810fe63f5dcfbcf5d9', status='completed'),\n",
       " {'type': 'function_call_output',\n",
       "  'call_id': 'call_5ocQdYE6UBhFt3wkQxA1ah09',\n",
       "  'output': 'katia@example.com 에게 성공적으로 메일 발송'}]"
      ]
     },
     "execution_count": 16,
     "metadata": {},
     "output_type": "execute_result"
    }
   ],
   "source": [
    "#함수 호출 및 실행 결과 추가\n",
    "input_messages = messages\n",
    "\n",
    "for tool_call in response.output:\n",
    "    if tool_call.type != \"function_call\":\n",
    "        continue      # 함수 호출이 아닌 경우는 무시하고 다음으로 넘어감\n",
    "\n",
    "    name = tool_call.name    # 호출된 함수 이름을 추출\n",
    "    args = json.loads(tool_call.arguments)   # 인자를 JSON 문자열에서 파이썬 dict로 파싱\n",
    "    result = call_function(name, args)    # 해당 이름과 인자를 가진 함수를 실제로 실행\n",
    "    \n",
    "    input_messages.append(tool_call)  # 모델이 생성한 함수 호출 메시지를 대화 기록에 추가\n",
    "    input_messages.append({       # 함수 실행 결과 메시지를 추가\n",
    "        \"type\": \"function_call_output\",    # 이 메시지는 함수 실행 결과임을 나타냄\n",
    "        \"call_id\": tool_call.call_id,\n",
    "        \"output\": str(result)\n",
    "    })\n",
    "\n",
    "input_messages"
   ]
  },
  {
   "cell_type": "code",
   "execution_count": 17,
   "id": "72550982-36a3-402c-948b-681e24648b02",
   "metadata": {},
   "outputs": [
    {
     "data": {
      "text/plain": [
       "'이메일이 성공적으로 발송되었습니다. 추가로 도와드릴 일이 있으신가요?'"
      ]
     },
     "execution_count": 17,
     "metadata": {},
     "output_type": "execute_result"
    }
   ],
   "source": [
    "# 함수 호출 결과를 모델에 다시 보내기\n",
    "response_2 = client.responses.create(\n",
    "    model=Model,\n",
    "    input=input_messages,\n",
    "    tools=tools,\n",
    ")\n",
    "\n",
    "response_2.output_text"
   ]
  },
  {
   "cell_type": "code",
   "execution_count": null,
   "id": "6a3e9ede-c844-4103-989b-61905e8f75d6",
   "metadata": {},
   "outputs": [],
   "source": []
  },
  {
   "cell_type": "markdown",
   "id": "52dd588a-a0e7-4119-9213-9364e3cb7c3d",
   "metadata": {},
   "source": [
    "--------------------------\n",
    "# 실습: 함수 호출 코드 작성\n",
    "\n",
    "\n",
    "### 문제 1: 간단한 날씨 함수 호출 흐름 구성\n",
    "\n",
    "**목표:**\n",
    "다음 사용자 질문에 대해 모델이 `get_current_weather` 함수를 호출하고, 결과를 받아 최종 응답을 생성하도록 전체 흐름을 완성하세요.\n",
    "\n",
    "**사용자 입력:**\n",
    "\n",
    "> `\"부산의 날씨가 어떤지 알려줘\"`\n",
    "\n",
    "**요구사항:**\n",
    "\n",
    "* `tools` 정의\n",
    "* `client.responses.create()` 호출 → 함수 호출 유도\n",
    "* 함수 실행 결과를 포함한 메시지 리스트 구성\n",
    "* 모델에게 최종 응답 요청\n",
    "\n",
    "<details>\n",
    "<summary>추가 조건</summary>\n",
    "\n",
    "`get_current_weather` 함수는 \"busan\"에 대해 `\"temperature\": \"24\"`를 반환하도록 하드코딩하세요.\n",
    "\n",
    "</details>"
   ]
  },
  {
   "cell_type": "code",
   "execution_count": null,
   "id": "810839f2-a7fd-444d-8083-5b141765ebbb",
   "metadata": {},
   "outputs": [],
   "source": []
  },
  {
   "cell_type": "markdown",
   "id": "911a1256-8995-4fb7-9ac9-f6185f03fd12",
   "metadata": {},
   "source": [
    "### 문제 2: Open-Meteo API를 이용한 실제 날씨 정보 조회 \n",
    "\n",
    "**목표:**\n",
    "사용자가 \"서울 날씨 알려줘\"라고 입력하면 모델이 위도/경도를 추론하고, `get_weather(latitude, longitude)` 함수를 호출한 뒤, 결과를 출력하도록 하세요.\n",
    "\n",
    "**요구사항:**\n",
    "\n",
    "* 서울의 위도: `37.56667`, 경도: `126.97806`\n",
    "* `tools` 파라미터에 함수 스키마 정의\n",
    "* JSON으로 파라미터가 잘 전달되었는지 확인\n",
    "* `function_call_output` 메시지를 구성하여 최종 응답 요청"
   ]
  },
  {
   "cell_type": "code",
   "execution_count": null,
   "id": "b3447036-db63-48e3-bb2d-8eebeaf61d4d",
   "metadata": {},
   "outputs": [],
   "source": []
  },
  {
   "cell_type": "markdown",
   "id": "8742fe05-209f-4f65-a81c-71aa3f816deb",
   "metadata": {},
   "source": [
    "### 문제 3: 이메일 전송 함수 호출 (심화)\n",
    "\n",
    "**목표:**\n",
    "사용자가 다음 문장을 입력하면 모델이 `send_email()` 함수를 호출하도록 구성하세요.\n",
    "\n",
    "> `\"kim@example.com에게 제목은 '중요 공지', 내용은 '내일 회의가 연기되었습니다'라는 이메일을 보내줘\"`\n",
    "\n",
    "**요구사항:**\n",
    "\n",
    "* `tools` 정의\n",
    "* 호출된 함수의 arguments를 JSON으로 파싱하여 `send_email()`을 실행\n",
    "* 최종 응답 지까지 완성\n",
    "\n",
    "---"
   ]
  },
  {
   "cell_type": "code",
   "execution_count": null,
   "id": "ab6b7c3f-9b0b-4a41-a9a6-7da4b3636ee8",
   "metadata": {},
   "outputs": [],
   "source": []
  }
 ],
 "metadata": {
  "kernelspec": {
   "display_name": "Python 3 (ipykernel)",
   "language": "python",
   "name": "python3"
  },
  "language_info": {
   "codemirror_mode": {
    "name": "ipython",
    "version": 3
   },
   "file_extension": ".py",
   "mimetype": "text/x-python",
   "name": "python",
   "nbconvert_exporter": "python",
   "pygments_lexer": "ipython3",
   "version": "3.8.13"
  }
 },
 "nbformat": 4,
 "nbformat_minor": 5
}
