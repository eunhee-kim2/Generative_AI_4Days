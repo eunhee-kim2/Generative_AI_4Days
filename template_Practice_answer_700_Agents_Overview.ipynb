{
 "cells": [
  {
   "cell_type": "markdown",
   "id": "3155e6df-a68d-4708-b485-07cf6f5f09e6",
   "metadata": {},
   "source": [
    "### 실습 문제\n",
    "\n",
    "1. **분류 에이전트**:  \n",
    "   사용자 입력이 \\*\\*‘수학 문제’\\*\\*인지 \\*\\*‘기타 질문’\\*\\*인지 분류하세요.  \n",
    "   분류 결과에 따라 적절한 에이전트로 handoff 하도록 하세요.\n",
    "\n",
    "3. **수학 에이전트**:  \n",
    "   수학 문제일 경우, Python 함수 `calculate_area(length: float, width: float)`를 도구로 등록하여 `직사각형의 넓이`를 계산해주는 역할을 수행하세요.\n",
    "\n",
    "4. **일반 에이전트**:  \n",
    "   기타 질문에 대해서는 \"질문을 이해했지만 수학 관련 질문만 도와드릴 수 있어요.\" 라고 응답하세요.\n",
    "\n",
    "5. **가드레일**:  \n",
    "   입력 내용에 \\*\\*금지어(`해킹`, `폭탄`)\\*\\*가 포함되어 있으면 guardrail을 작동시켜 에이전트 실행을 **중단**시키세요.  \n",
    "   (힌트: InputGuardrail 사용)\n",
    "\n",
    "\n",
    "### 테스트 입력 예시\n",
    "\n",
    "* `\"가로 5, 세로 7인 직사각형의 넓이를 구해주세요.\"`  \n",
    "  👉 수학 에이전트 → 함수 실행 → 넓이 출력  \n",
    "\n",
    "* `\"어제 뉴스에 나온 해킹 사고에 대해 말해줘\"`  \n",
    "  👉 가드레일 트리거 → 실행 중단  \n",
    "\n",
    "* `\"오늘 날씨 어때?\"`  \n",
    "  👉 일반 에이전트 응답"
   ]
  },
  {
   "cell_type": "code",
   "execution_count": null,
   "id": "bf02d64d",
   "metadata": {},
   "outputs": [],
   "source": [
    "# .env 파일 로드\n",
    "# OpenAI Agents SDK 임포트\n",
    "# 모델 설정"
   ]
  },
  {
   "cell_type": "code",
   "execution_count": null,
   "id": "d9a12d12",
   "metadata": {},
   "outputs": [],
   "source": [
    "# ==================== 도구 함수 정의 ====================\n",
    "def calculate_area(length: float, width: float) -> float:\n",
    "# ==================== 출력 모델 정의 ====================\n",
    "class QuestionType(BaseModel):\n",
    "class GuardrailOutput(BaseModel):\n",
    "# ==================== 가드레일 함수 정의 ====================\n",
    "    # 금지어 목록"
   ]
  },
  {
   "cell_type": "code",
   "execution_count": null,
   "id": "dca31a4e",
   "metadata": {},
   "outputs": [],
   "source": [
    "# ==================== 에이전트 정의 ====================\n",
    "# 분류 에이전트: 질문이 수학 문제인지 분류\n",
    "# 수학 에이전트: 수학 문제 해결\n",
    "# 일반 에이전트: 기타 질문 처리\n",
    "# 메인 분류 및 핸드오프 에이전트"
   ]
  },
  {
   "cell_type": "code",
   "execution_count": null,
   "id": "bee2fde8",
   "metadata": {},
   "outputs": [],
   "source": [
    "# ==================== 테스트 함수 ====================\n",
    "        # 먼저 분류 에이전트로 질문 타입 분류\n",
    "        # 메인 에이전트로 처리\n",
    "# ==================== 메인 실행 함수 ====================\n",
    "    # 테스트 케이스들\n",
    "# ==================== 실행 ===================="
   ]
  },
  {
   "cell_type": "code",
   "execution_count": null,
   "id": "5502c63d",
   "metadata": {},
   "outputs": [],
   "source": []
  }
 ],
 "metadata": {
  "kernelspec": {
   "display_name": "Python 3 (ipykernel)",
   "language": "python",
   "name": "python3"
  },
  "language_info": {
   "codemirror_mode": {
    "name": "ipython",
    "version": 3
   },
   "file_extension": ".py",
   "mimetype": "text/x-python",
   "name": "python",
   "nbconvert_exporter": "python",
   "pygments_lexer": "ipython3",
   "version": "3.9.16"
  }
 },
 "nbformat": 4,
 "nbformat_minor": 5
}
