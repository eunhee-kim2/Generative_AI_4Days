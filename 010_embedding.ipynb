{
 "cells": [
  {
   "cell_type": "markdown",
   "id": "c387e7ef",
   "metadata": {},
   "source": [
    "#  문장 내의 단어들을 임베딩\n",
    "- keras.layers.Embedding 레이어 사용"
   ]
  },
  {
   "cell_type": "code",
   "execution_count": 8,
   "id": "1796e764-349c-475f-a1c8-633840119186",
   "metadata": {},
   "outputs": [
    {
     "data": {
      "text/plain": [
       "True"
      ]
     },
     "execution_count": 8,
     "metadata": {},
     "output_type": "execute_result"
    }
   ],
   "source": [
    "# OpenAI 임베딩(text-embedding-3-small) 모델을 사용한 문장 임베딩 예제\n",
    "import numpy as np\n",
    "import pandas as pd\n",
    "from openai import OpenAI\n",
    "import os\n",
    "from sklearn.metrics.pairwise import cosine_similarity\n",
    "\n",
    "from dotenv import load_dotenv, find_dotenv\n",
    "load_dotenv(find_dotenv()) # read local .env file"
   ]
  },
  {
   "cell_type": "code",
   "execution_count": 2,
   "id": "9c503a45",
   "metadata": {},
   "outputs": [],
   "source": [
    "# OpenAI API 키를 환경변수에서 가져와 클라이언트 생성\n",
    "from openai import OpenAI \n",
    "client = OpenAI()  # OpenAI 클라이언트 생성\n",
    "\n",
    "embedding_model = \"text-embedding-3-small\"  # 사용할 텍스트 임베딩 모델\n",
    "\n",
    "# 샘플 데이터: 간단한 문장들의 모음\n",
    "sentences = [\n",
    "    '나는 인공지능 공부를 좋아한다.',\n",
    "    '인공지능은 매우 흥미롭다.',\n",
    "    '오늘 날씨가 흐리고 비가 온다.'\n",
    "]"
   ]
  },
  {
   "cell_type": "code",
   "execution_count": 3,
   "id": "7cba1368",
   "metadata": {},
   "outputs": [],
   "source": [
    "# OpenAI Embedding API를 사용하여 문장 임베딩 함수\n",
    "def get_embeddings(texts, model='text-embedding-3-small'):\n",
    "    response = client.embeddings.create(\n",
    "        input=texts,\n",
    "        model=model\n",
    "    )\n",
    "    embeddings = [data.embedding for data in response.data]\n",
    "    return np.array(embeddings)"
   ]
  },
  {
   "cell_type": "code",
   "execution_count": 4,
   "id": "c36759a0",
   "metadata": {},
   "outputs": [
    {
     "name": "stdout",
     "output_type": "stream",
     "text": [
      "임베딩 차원: 1536\n",
      "임베딩 결과 shape: (3, 1536)\n"
     ]
    }
   ],
   "source": [
    "# 문장 임베딩 실행\n",
    "embeddings = get_embeddings(sentences)\n",
    "print(f'임베딩 차원: {embeddings.shape[1]}')\n",
    "print(f'임베딩 결과 shape: {embeddings.shape}')"
   ]
  },
  {
   "cell_type": "code",
   "execution_count": 5,
   "id": "e9256857-fc62-4496-a3cb-34fe52b9c100",
   "metadata": {},
   "outputs": [
    {
     "name": "stdout",
     "output_type": "stream",
     "text": [
      "첫 번째 문장의 임베딩 벡터 (처음 10개 값):\n",
      "[-0.02173833 -0.01200137 -0.01317295  0.01154849  0.04914752 -0.01533891\n",
      " -0.01949361  0.07962844 -0.02654281 -0.01011108]\n"
     ]
    }
   ],
   "source": [
    "# 임베딩 결과 확인\n",
    "print('첫 번째 문장의 임베딩 벡터 (처음 10개 값):')\n",
    "print(embeddings[0][:10])"
   ]
  },
  {
   "cell_type": "code",
   "execution_count": 10,
   "id": "a762d5d1-b975-406e-8864-7bc2da1fc978",
   "metadata": {},
   "outputs": [
    {
     "name": "stdout",
     "output_type": "stream",
     "text": [
      "                       0         1         2         3         4         5     \\\n",
      "나는 인공지능 공부를 좋아한다. -0.021738 -0.012001 -0.013173  0.011548  0.049148 -0.015339   \n",
      "인공지능은 매우 흥미롭다.    -0.015396  0.010621 -0.042270  0.030104  0.010643 -0.035229   \n",
      "오늘 날씨가 흐리고 비가 온다.  0.019867 -0.001774 -0.074277 -0.024289  0.029764  0.045755   \n",
      "\n",
      "                       6         7         8         9     ...      1526  \\\n",
      "나는 인공지능 공부를 좋아한다. -0.019494  0.079628 -0.026543 -0.010111  ...  0.004903   \n",
      "인공지능은 매우 흥미롭다.    -0.028661  0.067615  0.020155  0.009103  ... -0.002463   \n",
      "오늘 날씨가 흐리고 비가 온다.  0.029293  0.041014 -0.052641 -0.038945  ... -0.013508   \n",
      "\n",
      "                       1527      1528      1529      1530      1531      1532  \\\n",
      "나는 인공지능 공부를 좋아한다.  0.026405 -0.067184  0.024081  0.018224  0.026720  0.017554   \n",
      "인공지능은 매우 흥미롭다.     0.023041 -0.031137  0.011348  0.016451  0.005494  0.038480   \n",
      "오늘 날씨가 흐리고 비가 온다. -0.022031 -0.023969 -0.008438  0.024082  0.036386 -0.010282   \n",
      "\n",
      "                       1533      1534      1535  \n",
      "나는 인공지능 공부를 좋아한다.  0.005351  0.020419 -0.014729  \n",
      "인공지능은 매우 흥미롭다.    -0.000541  0.015504  0.008543  \n",
      "오늘 날씨가 흐리고 비가 온다. -0.022144  0.021166 -0.005244  \n",
      "\n",
      "[3 rows x 1536 columns]\n"
     ]
    }
   ],
   "source": [
    "# 임베딩 결과를 DataFrame으로 변환하여 시각화\n",
    "embedding_df = pd.DataFrame(embeddings, index=sentences)\n",
    "print(embedding_df.head())"
   ]
  },
  {
   "cell_type": "code",
   "execution_count": 7,
   "id": "1c14b468-4d8c-4395-98c1-137f74641061",
   "metadata": {},
   "outputs": [
    {
     "name": "stdout",
     "output_type": "stream",
     "text": [
      "\n",
      "문장 간 코사인 유사도:\n",
      "나는 인공지능 공부를 좋아한다. vs 인공지능은 매우 흥미롭다.: 0.5847\n",
      "나는 인공지능 공부를 좋아한다. vs 오늘 날씨가 흐리고 비가 온다.: 0.1017\n",
      "인공지능은 매우 흥미롭다. vs 오늘 날씨가 흐리고 비가 온다.: 0.1661\n"
     ]
    }
   ],
   "source": [
    "# 문장 간 코사인 유사도 계산\n",
    "similarity_matrix = cosine_similarity(embeddings)\n",
    "\n",
    "print('\\n문장 간 코사인 유사도:')\n",
    "for i in range(len(sentences)):\n",
    "    for j in range(i+1, len(sentences)):\n",
    "        similarity = similarity_matrix[i][j]\n",
    "        print(f'{sentences[i]} vs {sentences[j]}: {similarity:.4f}') "
   ]
  },
  {
   "cell_type": "code",
   "execution_count": null,
   "id": "17bef885-706e-4345-8ac2-9139d43eefec",
   "metadata": {},
   "outputs": [],
   "source": []
  }
 ],
 "metadata": {
  "kernelspec": {
   "display_name": "Python 3 (ipykernel)",
   "language": "python",
   "name": "python3"
  },
  "language_info": {
   "codemirror_mode": {
    "name": "ipython",
    "version": 3
   },
   "file_extension": ".py",
   "mimetype": "text/x-python",
   "name": "python",
   "nbconvert_exporter": "python",
   "pygments_lexer": "ipython3",
   "version": "3.9.16"
  }
 },
 "nbformat": 4,
 "nbformat_minor": 5
}
