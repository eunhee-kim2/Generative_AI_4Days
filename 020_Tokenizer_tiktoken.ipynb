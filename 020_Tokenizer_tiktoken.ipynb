{
 "cells": [
  {
   "cell_type": "markdown",
   "id": "659dbb67-e15f-4d2b-a927-c98ca7973fdb",
   "metadata": {},
   "source": [
    "# OpenAI의 tiktoken을 사용한 tokenizer 개념 이해\n",
    "\n",
    "- tiktoken은 OpenAI에서 개발한 빠르고 효율적인 BPE(Byte Pair Encoding) 기반 토크나이저입니다.  \n",
    "- GPT 모델들이 사용하는 것과 동일한 토크나이징 방식을 제공합니다.\n",
    "\n",
    "```\n",
    "    \"cl100k_base\": \"GPT-4, GPT-3.5-turbo, text-embedding-ada-002에서 사용\",\n",
    "    \"p50k_base\": \"GPT-3, Codex에서 사용\", \n",
    "    \"r50k_base\": \"GPT-3, GPT-2에서 사용\"\n",
    "```\n",
    "\n",
    "- tiktoken은 BPE(Byte Pair Encoding) 방식을 사용합니다. 가장 자주 등장하는 문자 쌍을 하나의 토큰으로 병합하는 방식입니다."
   ]
  },
  {
   "cell_type": "code",
   "execution_count": 4,
   "id": "d7df5a8e-64d8-4c42-b636-ae33c77e385b",
   "metadata": {},
   "outputs": [],
   "source": [
    "import tiktoken\n",
    "import pandas as pd\n",
    "import numpy as np\n",
    "\n",
    "# 연습용 텍스트 데이터\n",
    "sentences_E = [\n",
    "    'I love my dog',\n",
    "    'I love my cat',\n",
    "    'You love my dog!',\n",
    "    'I was born in Korea and graduated University in USA.',\n",
    "]\n",
    "\n",
    "sentences_K = [\n",
    "    \"코로나가 심하다\",\n",
    "    \"코비드-19가 심하다\",\n",
    "    '아버지가방에들어가신다',\n",
    "    '아버지가 방에 들어가신다',\n",
    "    '너무너무너무는 나카무라세이코가 불러 크게 히트한 노래입니다'\n",
    "]"
   ]
  },
  {
   "cell_type": "markdown",
   "id": "a22b7b5b-9aa5-4453-bdd0-8fd108f29f00",
   "metadata": {},
   "source": [
    "### cl100k_base 인코더로 영어 텍스트 토크나이징"
   ]
  },
  {
   "cell_type": "code",
   "execution_count": 2,
   "id": "9ef73d1e-2da2-4df4-86e2-872b5f8a19cd",
   "metadata": {},
   "outputs": [
    {
     "name": "stdout",
     "output_type": "stream",
     "text": [
      "\n",
      "문장 1: I love my dog\n",
      "토큰 ID: [40, 3021, 856, 5679]\n",
      "디코딩 결과: I love my dog\n",
      "토큰 개수: 4\n",
      "\n",
      "문장 2: I love my cat\n",
      "토큰 ID: [40, 3021, 856, 8415]\n",
      "디코딩 결과: I love my cat\n",
      "토큰 개수: 4\n",
      "\n",
      "문장 3: You love my dog!\n",
      "토큰 ID: [2675, 3021, 856, 5679, 0]\n",
      "디코딩 결과: You love my dog!\n",
      "토큰 개수: 5\n",
      "\n",
      "문장 4: I was born in Korea and graduated University in USA.\n",
      "토큰 ID: [40, 574, 9405, 304, 12126, 323, 33109, 3907, 304, 7427, 13]\n",
      "디코딩 결과: I was born in Korea and graduated University in USA.\n",
      "토큰 개수: 11\n"
     ]
    }
   ],
   "source": [
    "# cl100k_base 인코더 사용 (GPT-4와 동일)\n",
    "encoding = tiktoken.get_encoding(\"cl100k_base\")\n",
    "\n",
    "for i, sentence in enumerate(sentences_E):\n",
    "    print(f\"\\n문장 {i+1}: {sentence}\")\n",
    "    \n",
    "    # 텍스트를 토큰으로 변환\n",
    "    tokens = encoding.encode(sentence)\n",
    "    print(f\"토큰 ID: {tokens}\")\n",
    "    \n",
    "    # 토큰을 다시 텍스트로 변환\n",
    "    decoded_text = encoding.decode(tokens)\n",
    "    print(f\"디코딩 결과: {decoded_text}\")\n",
    "    \n",
    "    # 토큰 개수\n",
    "    token_count = len(tokens)\n",
    "    print(f\"토큰 개수: {token_count}\")"
   ]
  },
  {
   "cell_type": "markdown",
   "id": "d2776c78-cfd3-48b1-bf95-b631b1d7df1a",
   "metadata": {},
   "source": [
    "### 한글 텍스트 토크나이징 \n",
    "- 한글은 영어와 달리 띄어쓰기가 없어도 의미가 통하는 언어입니다.  "
   ]
  },
  {
   "cell_type": "code",
   "execution_count": 3,
   "id": "3e10ae52-bc76-4ed0-beee-172576692eb7",
   "metadata": {},
   "outputs": [
    {
     "name": "stdout",
     "output_type": "stream",
     "text": [
      "\n",
      "한글 문장 1: 코로나가 심하다\n",
      "토큰 ID: [168, 66391, 17835, 61415, 20565, 30027, 105, 16582, 13447]\n",
      "디코딩 결과: 코로나가 심하다\n",
      "토큰 개수: 9\n",
      "\n",
      "한글 문장 2: 코비드-19가 심하다\n",
      "토큰 ID: [168, 66391, 71682, 30446, 12, 777, 20565, 30027, 105, 16582, 13447]\n",
      "디코딩 결과: 코비드-19가 심하다\n",
      "토큰 개수: 11\n",
      "\n",
      "한글 문장 3: 아버지가방에들어가신다\n",
      "토큰 ID: [54059, 80104, 22035, 20565, 39277, 102, 19954, 65950, 32179, 20565, 83628, 13447]\n",
      "디코딩 결과: 아버지가방에들어가신다\n",
      "토큰 개수: 12\n",
      "\n",
      "한글 문장 4: 아버지가 방에 들어가신다\n",
      "토큰 ID: [54059, 80104, 22035, 20565, 75908, 19954, 56938, 97, 32179, 20565, 83628, 13447]\n",
      "디코딩 결과: 아버지가 방에 들어가신다\n",
      "토큰 개수: 12\n",
      "\n",
      "한글 문장 5: 너무너무너무는 나카무라세이코가 불러 크게 히트한 노래입니다\n",
      "토큰 ID: [76242, 230, 167, 91834, 76242, 230, 167, 91834, 76242, 230, 167, 91834, 16969, 74618, 49072, 112, 167, 91834, 51440, 42529, 13094, 168, 66391, 20565, 5251, 28857, 61394, 46413, 105, 58901, 10997, 252, 230, 29726, 24486, 5251, 227, 116, 54542, 80052]\n",
      "디코딩 결과: 너무너무너무는 나카무라세이코가 불러 크게 히트한 노래입니다\n",
      "토큰 개수: 40\n"
     ]
    }
   ],
   "source": [
    "for i, sentence in enumerate(sentences_K):\n",
    "    print(f\"\\n한글 문장 {i+1}: {sentence}\")\n",
    "    \n",
    "    # 텍스트를 토큰으로 변환\n",
    "    tokens = encoding.encode(sentence)\n",
    "    print(f\"토큰 ID: {tokens}\")\n",
    "    \n",
    "    # 토큰을 다시 텍스트로 변환\n",
    "    decoded_text = encoding.decode(tokens)\n",
    "    print(f\"디코딩 결과: {decoded_text}\")\n",
    "    \n",
    "    # 토큰 개수\n",
    "    token_count = len(tokens)\n",
    "    print(f\"토큰 개수: {token_count}\")"
   ]
  },
  {
   "cell_type": "code",
   "execution_count": null,
   "id": "f7ace1b3-cc45-49c0-82b5-e897131e6c4c",
   "metadata": {},
   "outputs": [],
   "source": []
  }
 ],
 "metadata": {
  "kernelspec": {
   "display_name": "Python 3 (ipykernel)",
   "language": "python",
   "name": "python3"
  },
  "language_info": {
   "codemirror_mode": {
    "name": "ipython",
    "version": 3
   },
   "file_extension": ".py",
   "mimetype": "text/x-python",
   "name": "python",
   "nbconvert_exporter": "python",
   "pygments_lexer": "ipython3",
   "version": "3.9.16"
  }
 },
 "nbformat": 4,
 "nbformat_minor": 5
}
