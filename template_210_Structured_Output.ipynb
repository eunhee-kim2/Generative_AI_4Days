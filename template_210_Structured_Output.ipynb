{
 "cells": [
  {
   "cell_type": "markdown",
   "id": "66f45161-dd9d-4390-85b5-874e1b0cd8c0",
   "metadata": {},
   "source": [
    "# 구조화된 출력 (Structured Outputs)\n",
    "\n",
    "### 응답을 JSON 스키마에 맞게 생성하기\n",
    "\n",
    "- JSON은 애플리케이션 간 데이터 교환을 위한 가장 널리 사용되는 형식 중 하나입니다.\n",
    "\n",
    "- 구조화된 출력(Structured Outputs) 기능을 사용하면 모델이 제공된 JSON 스키마를 항상 준수하도록 보장할 수 있습니다.\n",
    "이를 통해 필수 키가 누락되거나 잘못된 값이 생성되는 문제를 방지할 수 있습니다.\n",
    "\n",
    "- 구조화된 출력의 장점\n",
    "    - 타입 안전성 보장 - 응답이 항상 올바른 형식을 따르므로 검증 및 재요청이 불필요함\n",
    "    - 명시적인 거부 응답 - 안전상의 이유로 모델이 요청을 거부하면 이를 프로그래밍 방식으로 감지 가능\n",
    "    - 더 간단한 프롬프트 작성 - 특정 형식을 강제하기 위한 프롬프트 조정이 불필요\n",
    "  \n",
    "<br>  \n",
    "- Python OpenAI SDK에서는 JSON 스키마를 사용하여 데이터를 정의할 수 있도록 Pydantic 지원"
   ]
  },
  {
   "cell_type": "code",
   "execution_count": null,
   "id": "61e0bdf7",
   "metadata": {},
   "outputs": [],
   "source": []
  },
  {
   "cell_type": "code",
   "execution_count": null,
   "id": "43c7d8fe",
   "metadata": {},
   "outputs": [],
   "source": []
  },
  {
   "cell_type": "code",
   "execution_count": null,
   "id": "3e0f40c8",
   "metadata": {},
   "outputs": [],
   "source": [
    "class CalendarEvent(BaseModel):"
   ]
  },
  {
   "cell_type": "markdown",
   "id": "c2ad5fd2-75bf-4019-b315-61261da189c2",
   "metadata": {},
   "source": [
    "### 함수 호출을 통해 구조화된 출력을 사용하는 경우와 response_format을 통해 구조화된 출력을 사용하는 경우\n",
    "\n",
    "구조화된 출력은 OpenAI API에서 두 가지 형태로 제공됩니다.\n",
    "\n",
    "1) 함수 호출을 사용할 때\n",
    "2) json_schema응답 형식을 사용할 때\n",
    "\n",
    "예를 들어, 사용자의 주문을 지원하는 AI 어시스턴트를 구축하기 위해 데이터베이스를 쿼리하는 함수나 UI와 상호 작용하는 함수에 모델에 액세스 권한을 부여할 수 있습니다.  \n",
    "\n",
    "반대로, 모델이 도구를 호출할 때가 아니라 사용자에게 응답할 때 사용할 구조화된 스키마를 지정하려는 경우 response_format을 통한 구조화된 출력이 더 적합합니다.  \n",
    "예를 들어, 수학 튜터링 애플리케이션을 구축하는 경우, 어시스턴트가 특정 JSON 스키마를 사용하여 사용자에게 응답하도록 하여 모델 출력의 각 부분을 고유한 방식으로 표시하는 UI를 생성할 수 있습니다.\n",
    "\n",
    "간단히 말해서:  \n",
    "- 시스템의 도구, 함수, 데이터 등에 모델을 연결하는 경우 함수 호출을 사용해야 합니다.  \n",
    "- 사용자에게 응답할 때 모델의 출력을 구조화하려면 구조화 `response_format`을 사용해야 합니다."
   ]
  },
  {
   "cell_type": "markdown",
   "id": "4b7fa587-0104-4f79-80cd-136f475c37d9",
   "metadata": {},
   "source": [
    "### COT (Chain of Thought)  \n",
    "모델에 구조화된 단계별 방식으로 답변을 출력하도록 요청하여 사용자가 해결책을 찾을 수 있도록 안내할 수 있습니다."
   ]
  },
  {
   "cell_type": "code",
   "execution_count": null,
   "id": "839abb1c",
   "metadata": {},
   "outputs": [],
   "source": [
    "# 체인 오브 소트(Chain of Thought) 기반 수학 지도용 구조화된 출력\n",
    "# 1단계: 객체 정의\n",
    "# 먼저, 모델이 따라야 할 JSON 스키마를 나타내는 객체 또는 데이터 구조를 정의해야 합니다. \n",
    "class Step(BaseModel):\n",
    "class MathReasoning(BaseModel):\n",
    "# 2단계: API 호출에 객체 제공\n",
    "# parse 메서드를 사용하면 JSON 응답을 정의한 객체로 자동 파싱할 수 있습니다.\n",
    "# SDK는 내부적으로 데이터 구조에 맞는 JSON 스키마를 제공하고, 응답을 객체로 파싱합니다."
   ]
  },
  {
   "cell_type": "code",
   "execution_count": null,
   "id": "1dcc0b5b",
   "metadata": {},
   "outputs": [],
   "source": []
  },
  {
   "cell_type": "markdown",
   "id": "420d77a4-3b84-4896-8c2b-8fe36e18d082",
   "metadata": {},
   "source": [
    "### 구조화된 데이터 추출  \n",
    "연구 논문과 같은 비정형 입력 데이터에서 구조화된 필드를 정의하여 정보를 추출할 수 있습니다.."
   ]
  },
  {
   "cell_type": "code",
   "execution_count": null,
   "id": "042519bd",
   "metadata": {},
   "outputs": [],
   "source": [
    "# !pip install pymupdf"
   ]
  },
  {
   "cell_type": "code",
   "execution_count": null,
   "id": "4fb69d1a",
   "metadata": {},
   "outputs": [],
   "source": [
    "# 구조화된 출력을 사용하여 연구 논문에서 데이터 추출하기\n",
    "def extract_text_from_pdf(pdf_path):\n",
    "# PDF 파일에서 텍스트 추출\n",
    "class ResearchPaperExtraction(BaseModel):"
   ]
  },
  {
   "cell_type": "code",
   "execution_count": null,
   "id": "64349ee3",
   "metadata": {},
   "outputs": [],
   "source": []
  },
  {
   "cell_type": "code",
   "execution_count": null,
   "id": "8052b2fe",
   "metadata": {},
   "outputs": [],
   "source": [
    "# 구조화된 출력을 활용한 콘텐츠 심사\n",
    "class Category(str, Enum):\n",
    "class ContentCompliance(BaseModel):\n",
    "        # {\"role\": \"user\", \"content\": \"취업 면접을 준비하는 방법은 무엇인가요?\"}\n",
    "        # {\"role\": \"user\", \"content\": \"일본에서 제일 싸움 잘하는 사람은 도끼로 이마까 입니다.\"}\n",
    "        # {\"role\": \"developer\", \"content\": \"이 사진은 성적으로 노골적인 내용을 포함하고 있어.\"},"
   ]
  },
  {
   "cell_type": "code",
   "execution_count": null,
   "id": "28e0b319",
   "metadata": {},
   "outputs": [],
   "source": []
  },
  {
   "cell_type": "markdown",
   "id": "00052f58-d233-415e-b985-d248b6038818",
   "metadata": {},
   "source": [
    "# 실습 : 구조화된 출력 코드 작성\n",
    "\n",
    "### 문제 1: 캘린더 이벤트 추출 (기초)\n",
    "\n",
    "아래 문장에서 **이름**, **날짜**, **참석자** 정보를 추출하도록 `CalendarEvent` 클래스를 정의하고, `client.responses.parse()`를 사용하여 파싱하세요.\n",
    "\n",
    "```text\n",
    "\"민수, 유리, 그리고 지민은 다음 주 화요일에 회사 워크숍에 참석합니다.\"\n",
    "```\n",
    "\n",
    "<details>\n",
    "<summary>힌트</summary>\n",
    "\n",
    "* `BaseModel`을 상속한 클래스 정의\n",
    "* 필드: 이름(str), 날짜(str), 참석자(List\\[str])\n",
    "* text\\_format에 해당 클래스 전달\n",
    "\n",
    "</details>"
   ]
  },
  {
   "cell_type": "markdown",
   "id": "95c7fa6d-1460-4b02-82e4-d2117d84d15a",
   "metadata": {},
   "source": [
    "### 문제 2: 단계별 수학 풀이 설명 (Chain of Thought)\n",
    "\n",
    "\"3(x - 4) = 15 방정식 문제의 해는?\" 이라는 질문에 대해, 수학 튜터처럼 단계별 풀이를 JSON 구조로 출력하는 코드를 작성하세요.\n",
    "\n",
    "요구 사항:\n",
    "\n",
    "* `MathReasoning` 클래스와 `Step` 클래스를 사용\n",
    "* 각 단계는 \"설명\"과 \"출력\"으로 구성\n",
    "* `최종답변` 필드 포함"
   ]
  },
  {
   "cell_type": "code",
   "execution_count": null,
   "id": "5bc1ebe9",
   "metadata": {},
   "outputs": [],
   "source": []
  }
 ],
 "metadata": {
  "kernelspec": {
   "display_name": "Python 3 (ipykernel)",
   "language": "python",
   "name": "python3"
  },
  "language_info": {
   "codemirror_mode": {
    "name": "ipython",
    "version": 3
   },
   "file_extension": ".py",
   "mimetype": "text/x-python",
   "name": "python",
   "nbconvert_exporter": "python",
   "pygments_lexer": "ipython3",
   "version": "3.11.13"
  }
 },
 "nbformat": 4,
 "nbformat_minor": 5
}
