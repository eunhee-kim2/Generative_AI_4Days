{
 "cells": [
  {
   "cell_type": "markdown",
   "id": "5530c442-cc5f-4216-9e74-f5cb1964cb2e",
   "metadata": {},
   "source": [
    "# 스트리밍 API 응답\n",
    "기본적으로 OpenAI API에 요청을 보내면 모델의 전체 출력을 생성한 후 단일 HTTP 응답으로 다시 전송합니다. 긴 출력을 생성할 경우 응답을 기다리는 데 시간이 걸릴 수 있습니다.   \n",
    "스트리밍 응답을 사용하면 전체 응답을 생성하는 동안 모델 출력의 시작 부분을 인쇄하거나 처리할 수 있습니다.\n",
    "\n",
    "응답 스트리밍을 시작하려면 stream=True응답 엔드포인트에 대한 요청을 설정합니다."
   ]
  },
  {
   "cell_type": "code",
   "execution_count": 1,
   "id": "1aafa249-9f3a-46cc-946e-3696eb767a78",
   "metadata": {},
   "outputs": [
    {
     "data": {
      "text/plain": [
       "True"
      ]
     },
     "execution_count": 1,
     "metadata": {},
     "output_type": "execute_result"
    }
   ],
   "source": [
    "from dotenv import load_dotenv, find_dotenv\n",
    "load_dotenv(find_dotenv()) # read local .env file"
   ]
  },
  {
   "cell_type": "code",
   "execution_count": 2,
   "id": "1d4c8159-aef6-40b5-a621-000b43078398",
   "metadata": {},
   "outputs": [],
   "source": [
    "from openai import OpenAI\n",
    "\n",
    "client = OpenAI()\n",
    "\n",
    "Model = \"gpt-4.1-nano\""
   ]
  },
  {
   "cell_type": "code",
   "execution_count": 3,
   "id": "6178bdc3-c43b-49ba-9ec4-acf3f1e7755c",
   "metadata": {},
   "outputs": [
    {
     "name": "stdout",
     "output_type": "stream",
     "text": [
      "물론입니다. 창세기(창세기 1장)의 시작 부분을 약 1000글자 내로 요약해드리겠습니다.\n",
      "\n",
      "---\n",
      "\n",
      "처음에 하나님이 하늘과 땅을 창조하시니라. 땅은 혼돈하고 공허하며 흑암이 깊음 위에 있고 하나님의 영이 수면 위에 운행하셨더라. 하나님이 이르시되, \"빛이 있으라\" 하시니 빛이 있기를 만드셨고, 하나님이 그 빛을 보시기에 좋았더라. 하나님이 빛과 어둠을 나누사 빛을 낮이라 부르시고, 어둠을 밤이라 부르셨더라. 저녁이 되고 아침이 되니 첫째 날이 되니라. 또 하나님이 이르시되, \"궁창이 있으라\" 하시니 궁창이 생기고, 물과 물이 갈라지게 하셨더라. 하나님이 궁창을 만드사 궁창 아래 물과 위의 물을 나누셨더라. 그리하여 하나님이 궁창을 천지의 한복판에 두시고, 궁창 아래의 물은 해와 달과 별들로 나누어 만드셨다. 하나님이 이르시되, \"땅은 생물들이 나오게 하라\" 하시니, 땅이 생물을 내기 시작했고, 가축과 기어다니는 짐승과 땅의 짐승들이 각각 생겨나니라. 하나님은 그것들을 보시고 좋아하셨다. 하나님이 자기 형상 곧 하나님의 형상대로 사람을 창조하시되, 남자와 여자로 창조하시고, 그들에게 복을 주시며 이르시되, \"생육하고 번성하여 땅에 충만하라. 그것을 다스리라\" 하시니라.\n",
      "\n",
      "---\n",
      "\n",
      "이 내용은 창세기 1장에 나오는 창조 이야기의 시작 부분입니다. 필요하시면 더 자세한 내용을 요청하세요."
     ]
    }
   ],
   "source": [
    "stream = client.responses.create(\n",
    "    model=Model,  # 사용할 언어 모델 (예: \"gpt-4o\", \"o4-mini\" 등)\n",
    "    input=[\n",
    "        {\n",
    "            \"role\": \"user\",\n",
    "            \"content\": \"성경의 창세기 시작 부분을 1000 글자내에서 알려줘.\",  # 사용자 입력 프롬프트\n",
    "        },\n",
    "    ],\n",
    "    stream=True,     # 스트리밍 응답 활성화 (조각 단위로 응답 받기)\n",
    ")\n",
    "\n",
    "# 응답이 조각(chunk) 단위로 도착할 때마다 출력\n",
    "for chunk in stream:\n",
    "    if chunk.type == 'response.output_text.delta':  # 응답 조각이 텍스트 델타(추가분)인 경우만 처리\n",
    "        print(chunk.delta, end=\"\")       # 출력된 텍스트 델타를 이어서 출력 (줄바꿈 없이)"
   ]
  },
  {
   "cell_type": "code",
   "execution_count": null,
   "id": "f9b99e0c-0db5-495d-b54e-ed161ac63fc4",
   "metadata": {},
   "outputs": [],
   "source": []
  }
 ],
 "metadata": {
  "kernelspec": {
   "display_name": "Python 3 (ipykernel)",
   "language": "python",
   "name": "python3"
  },
  "language_info": {
   "codemirror_mode": {
    "name": "ipython",
    "version": 3
   },
   "file_extension": ".py",
   "mimetype": "text/x-python",
   "name": "python",
   "nbconvert_exporter": "python",
   "pygments_lexer": "ipython3",
   "version": "3.11.13"
  }
 },
 "nbformat": 4,
 "nbformat_minor": 5
}
