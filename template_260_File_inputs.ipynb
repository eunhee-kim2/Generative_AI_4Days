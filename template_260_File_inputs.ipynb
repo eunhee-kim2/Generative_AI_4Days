{
 "cells": [
  {
   "cell_type": "markdown",
   "id": "09c820d4-3750-4d60-84b8-6baf23f54034",
   "metadata": {},
   "source": [
    "# 파일 입력\n",
    "비전 기능을 갖춘 OpenAI 모델은 PDF 파일을 입력으로 사용할 수도 있습니다. \n",
    "\n",
    "모델이 PDF 콘텐츠를 이해할 수 있도록 각 페이지의 추출된 텍스트와 이미지를 모델의 컨텍스트에 추가합니다. 모델은 텍스트와 이미지를 모두 사용하여 응답을 생성할 수 있습니다. 이는 예를 들어 다이어그램에 텍스트에 없는 주요 정보가 포함된 경우 유용합니다.\n",
    "\n",
    "먼저 Files API를 사용하여 PDF를 업로드한 다음, 모델에 대한 API 요청에서 해당 파일 ID를 참조합니다."
   ]
  },
  {
   "cell_type": "code",
   "execution_count": null,
   "id": "e82f2b76",
   "metadata": {},
   "outputs": [],
   "source": []
  },
  {
   "cell_type": "code",
   "execution_count": null,
   "id": "e3e5be32",
   "metadata": {},
   "outputs": [],
   "source": []
  },
  {
   "cell_type": "code",
   "execution_count": null,
   "id": "c1fa8073",
   "metadata": {},
   "outputs": [],
   "source": [
    "# PDF 파일을 OpenAI API에 업로드 (용도: 사용자 데이터로 처리)\n",
    "# 업로드된 파일을 기반으로 LLM 응답 생성 요청\n",
    "# 모델의 출력 결과를 콘솔에 출력"
   ]
  },
  {
   "cell_type": "markdown",
   "id": "18b71555-1f91-4e9c-967e-ca148a3e138b",
   "metadata": {},
   "source": [
    "### Base64로 인코딩된 파일\n",
    "PDF 파일 입력도 Base64로 인코딩된 입력으로 보낼 수 있습니다.  \n",
    "base64 encoding은 바이너리 데이터를 텍스트(ASCII) 문자로 안전하게 변환하는 방식입니다.  \n",
    "보통 이미지, PDF, 동영상, 파일 등 이진 데이터를 문자열로 바꿔서 전송하거나 저장할 때 사용됩니다."
   ]
  },
  {
   "cell_type": "code",
   "execution_count": null,
   "id": "8d81f096",
   "metadata": {},
   "outputs": [],
   "source": [
    "# PDF 파일을 바이너리 읽기 모드로 열고 데이터를 읽음\n",
    "# PDF 데이터를 안전한 전송을 위해 base64로 인코딩하고 UTF-8 문자열로 디코딩\n",
    "# 인코딩된 base64 데이터를 포함하여 모델 응답 생성 요청\n",
    "# 생성된 응답 출력"
   ]
  },
  {
   "cell_type": "code",
   "execution_count": null,
   "id": "5a025079",
   "metadata": {},
   "outputs": [],
   "source": []
  }
 ],
 "metadata": {
  "kernelspec": {
   "display_name": "Python 3 (ipykernel)",
   "language": "python",
   "name": "python3"
  },
  "language_info": {
   "codemirror_mode": {
    "name": "ipython",
    "version": 3
   },
   "file_extension": ".py",
   "mimetype": "text/x-python",
   "name": "python",
   "nbconvert_exporter": "python",
   "pygments_lexer": "ipython3",
   "version": "3.11.13"
  }
 },
 "nbformat": 4,
 "nbformat_minor": 5
}
