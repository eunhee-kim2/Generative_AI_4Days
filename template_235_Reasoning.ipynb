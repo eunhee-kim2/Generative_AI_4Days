{
 "cells": [
  {
   "cell_type": "markdown",
   "id": "0c72d60c-6b66-4d7c-9700-66e4a94b1ae3",
   "metadata": {},
   "source": [
    "### Reasoning (추론)\n",
    "\n",
    "o3 및 o4-mini와 같은 추론 모델은 강화 학습을 통해 추론을 수행하도록 훈련된 LLM입니다. 추론 모델은 사용자에게 응답하기 전에 먼저 생각하여 , 사용자에게 응답하기 전에 긴 내부 사고 사슬을 생성합니다. 추론 모델은 복잡한 문제 해결, 코딩, 과학적 추론, 그리고 에이전트 워크플로우를 위한 다단계 계획 수립에 탁월합니다. 또한 , 경량 코딩 에이전트인 Codex CLI 에 가장 적합한 모델입니다."
   ]
  },
  {
   "cell_type": "code",
   "execution_count": null,
   "id": "d0b5521f",
   "metadata": {},
   "outputs": [],
   "source": []
  },
  {
   "cell_type": "code",
   "execution_count": null,
   "id": "81994c95",
   "metadata": {},
   "outputs": [],
   "source": []
  },
  {
   "cell_type": "code",
   "execution_count": null,
   "id": "77898703",
   "metadata": {},
   "outputs": [],
   "source": [
    "# 생성된 파이썬 스크립트 응답 출력"
   ]
  },
  {
   "cell_type": "code",
   "execution_count": null,
   "id": "2a304b4a",
   "metadata": {},
   "outputs": [],
   "source": []
  },
  {
   "cell_type": "markdown",
   "id": "a1af1079-3847-42ce-8f59-99c4e18a537c",
   "metadata": {},
   "source": [
    "### Python 프로젝트 계획 및 생성"
   ]
  },
  {
   "cell_type": "code",
   "execution_count": null,
   "id": "ac8224cc",
   "metadata": {},
   "outputs": [],
   "source": []
  },
  {
   "cell_type": "code",
   "execution_count": null,
   "id": "2359a3b6",
   "metadata": {},
   "outputs": [],
   "source": []
  },
  {
   "cell_type": "markdown",
   "id": "2c2579d5-ba41-4cec-a9f6-520bb0299eaa",
   "metadata": {},
   "source": [
    "## 추론 기반 코드 자동 생성 실습\n",
    "\n",
    "**\"숫자로 이루어진 문자열이 주어질 때, 해당 숫자의 평균과 중앙값을 구하는 Python 함수를 작성하라.\"**\n",
    "예를 들어 `\"1, 5, 3, 8, 2\"`라는 문자열이 입력되면 평균은 `3.8`, 중앙값은 `3`입니다.\n",
    "\n",
    "\n",
    "* `o4-mini` 추론 모델을 사용하여 위 문제를 해결하는 **Python 코드**를 생성하세요.\n",
    "* `reasoning={\"effort\": \"medium\"}` 또는 `reasoning={\"effort\": \"high\"}` 옵션을 사용하여 **모델의 내부 추론 과정**을 유도하세요.\n",
    "* 코드 실행 결과가 **정확한지 직접 검증**해보세요.\n",
    "\n",
    "### 구현 조건\n",
    "\n",
    "* 문자열을 숫자 리스트로 변환하는 전처리 로직 포함\n",
    "* 평균(average)과 중앙값(median)을 계산하는 함수 구성\n",
    "* 코드 내에 주석 또는 단계별 설명이 포함되도록 모델에게 유도\n",
    "* 출력값 확인을 위한 예제 입력 포함 (`\"1, 5, 3, 8, 2\"`)\n",
    "\n",
    "* reasoning effort를 `low`, `medium`, `high`로 바꿔가며 결과물 비교\n",
    "* `json.loads()`로 실행 가능한 함수 형태로 모델이 응답하도록 유도해보기"
   ]
  },
  {
   "cell_type": "code",
   "execution_count": null,
   "id": "7bf4f702",
   "metadata": {},
   "outputs": [],
   "source": []
  }
 ],
 "metadata": {
  "kernelspec": {
   "display_name": "Python 3 (ipykernel)",
   "language": "python",
   "name": "python3"
  },
  "language_info": {
   "codemirror_mode": {
    "name": "ipython",
    "version": 3
   },
   "file_extension": ".py",
   "mimetype": "text/x-python",
   "name": "python",
   "nbconvert_exporter": "python",
   "pygments_lexer": "ipython3",
   "version": "3.11.13"
  }
 },
 "nbformat": 4,
 "nbformat_minor": 5
}
