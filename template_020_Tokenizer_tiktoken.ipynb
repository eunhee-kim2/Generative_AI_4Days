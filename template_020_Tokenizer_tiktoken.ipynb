{
 "cells": [
  {
   "cell_type": "markdown",
   "id": "659dbb67-e15f-4d2b-a927-c98ca7973fdb",
   "metadata": {},
   "source": [
    "# OpenAI의 tiktoken을 사용한 tokenizer 개념 이해\n",
    "\n",
    "- tiktoken은 OpenAI에서 개발한 빠르고 효율적인 BPE(Byte Pair Encoding) 기반 토크나이저입니다.  \n",
    "- GPT 모델들이 사용하는 것과 동일한 토크나이징 방식을 제공합니다.\n",
    "\n",
    "```\n",
    "    \"cl100k_base\": \"GPT-4, GPT-3.5-turbo, text-embedding-ada-002에서 사용\",\n",
    "    \"p50k_base\": \"GPT-3, Codex에서 사용\", \n",
    "    \"r50k_base\": \"GPT-3, GPT-2에서 사용\"\n",
    "```\n",
    "\n",
    "- tiktoken은 BPE(Byte Pair Encoding) 방식을 사용합니다. 가장 자주 등장하는 문자 쌍을 하나의 토큰으로 병합하는 방식입니다."
   ]
  },
  {
   "cell_type": "code",
   "execution_count": null,
   "id": "87eb1d52",
   "metadata": {},
   "outputs": [],
   "source": [
    "# 연습용 텍스트 데이터"
   ]
  },
  {
   "cell_type": "markdown",
   "id": "a22b7b5b-9aa5-4453-bdd0-8fd108f29f00",
   "metadata": {},
   "source": [
    "### cl100k_base 인코더로 영어 텍스트 토크나이징"
   ]
  },
  {
   "cell_type": "code",
   "execution_count": null,
   "id": "b961993d",
   "metadata": {},
   "outputs": [],
   "source": [
    "# cl100k_base 인코더 사용 (GPT-4와 동일)\n",
    "    # 텍스트를 토큰으로 변환\n",
    "    # 토큰을 다시 텍스트로 변환\n",
    "    # 토큰 개수"
   ]
  },
  {
   "cell_type": "markdown",
   "id": "d2776c78-cfd3-48b1-bf95-b631b1d7df1a",
   "metadata": {},
   "source": [
    "### 한글 텍스트 토크나이징 \n",
    "- 한글은 영어와 달리 띄어쓰기가 없어도 의미가 통하는 언어입니다.  "
   ]
  },
  {
   "cell_type": "code",
   "execution_count": null,
   "id": "e4fb90b6",
   "metadata": {},
   "outputs": [],
   "source": [
    "    # 텍스트를 토큰으로 변환\n",
    "    # 토큰을 다시 텍스트로 변환\n",
    "    # 토큰 개수"
   ]
  },
  {
   "cell_type": "code",
   "execution_count": null,
   "id": "125435b4",
   "metadata": {},
   "outputs": [],
   "source": []
  }
 ],
 "metadata": {
  "kernelspec": {
   "display_name": "Python 3 (ipykernel)",
   "language": "python",
   "name": "python3"
  },
  "language_info": {
   "codemirror_mode": {
    "name": "ipython",
    "version": 3
   },
   "file_extension": ".py",
   "mimetype": "text/x-python",
   "name": "python",
   "nbconvert_exporter": "python",
   "pygments_lexer": "ipython3",
   "version": "3.9.16"
  }
 },
 "nbformat": 4,
 "nbformat_minor": 5
}
