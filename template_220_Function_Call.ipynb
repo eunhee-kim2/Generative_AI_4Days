{
 "cells": [
  {
   "cell_type": "markdown",
   "id": "14745a6a-9274-4410-8223-d47c135d3923",
   "metadata": {},
   "source": [
    "# 함수 호출\n",
    "- 대규모 언어 모델을 외부 도구에 연결하는 방법  \n",
    "\n",
    "- API 호출에서 함수를 설명하고 모델이 하나 이상의 함수를 호출하기 위한 인수가 포함된 JSON 개체를 출력하도록 지능적으로 선택하도록 할 수 있습니다. Chat Completions API는 함수를 호출하지 않습니다. 대신 모델은 코드에서 함수를 호출하는 데 사용할 수 있는 JSON을 생성합니다.\n",
    "- 모델은 함수를 호출해야 하는 시기를 감지하고 함수를 준수하는 JSON으로 응답하도록 훈련되었습니다. 이 기능에는 잠재적인 위험도 따릅니다. 사용자를 대신하여 세상에 영향을 미치는 조치(이메일 전송, 온라인 게시, 구매 등)를 수행하기 전에 사용자 확인 흐름을 구축하는 것이 좋습니다."
   ]
  },
  {
   "cell_type": "markdown",
   "id": "25632191-7a44-4ea2-81a0-7ef6529140c7",
   "metadata": {},
   "source": [
    "### 채팅 모델로 함수를 호출하는 방법\n",
    "\n",
    "함수 호출을 위한 기본 단계는 다음과 같습니다:\n",
    "\n",
    "1. **모델 호출**: 사용자 질의와 함께 함수 집합을 정의하여 모델을 호출합니다. 함수 목록을 `tools` 파라미터에 제공합니다.\n",
    "\n",
    "\n",
    "2. **모델의 함수 호출 선택**: 모델은 하나 이상의 함수를 호출할 수 있습니다. 이 경우, 모델의 응답 내용은 사용자가 정의한 스키마에 따른 JSON 객체 문자열이 됩니다. \n",
    "\n",
    "\n",
    "3. **JSON 파싱 및 함수 호출**: 코드에서 문자열을 JSON으로 파싱하고, 제공된 인수가 있는 경우 함수를 호출합니다.\n",
    "\n",
    "\n",
    "4. **모델 재호출 및 결과 요약**: 함수 응답을 새로운 메시지로 추가하여 모델을 다시 호출합니다. 모델이 결과를 사용자에게 요약하여 전달합니다.\n",
    "\n",
    "이 단계들은 사용자 질의에 따라 적절한 함수를 선택하고, 해당 함수의 응답을 처리하여 최종 결과를 사용자에게 제공하는 과정을 포함합니다. 이를 통해 사용자는 더 나은 응답을 받을 수 있습니다.\n",
    "\n",
    "<img src=\"https://i.imgur.com/fR4FuHa.png\" width=400 />"
   ]
  },
  {
   "cell_type": "markdown",
   "id": "86bcdef2-ea2f-4ebf-bd91-b1c02e594394",
   "metadata": {},
   "source": [
    "### 함수 정의 (Defining Functions)\n",
    "- 각 API 요청의 tools 매개변수 내에서 함수를 정의할 수 있습니다.\n",
    "- 함수는 스키마(Schema) 를 통해 정의되며, 모델이 함수의 목적과 입력 인수를 이해할 수 있도록 돕습니다.\n",
    "스키마는 다음과 같은 필드로 구성됩니다.\n",
    "| 필드        | 설명                                      |\n",
    "|------------|------------------------------------------|\n",
    "| **name**   | 함수의 이름 (예: `get_weather`)          |\n",
    "| **description** | 함수가 언제, 어떻게 사용되는지 설명  |\n",
    "| **parameters**  | 함수의 입력 인수를 정의하는 JSON 스키마 |\n"
   ]
  },
  {
   "cell_type": "code",
   "execution_count": null,
   "id": "1ff4296d",
   "metadata": {},
   "outputs": [],
   "source": []
  },
  {
   "cell_type": "code",
   "execution_count": null,
   "id": "c58edce3",
   "metadata": {},
   "outputs": [],
   "source": []
  },
  {
   "cell_type": "code",
   "execution_count": null,
   "id": "2be2a115",
   "metadata": {},
   "outputs": [],
   "source": [
    "# 예제 더미 함수로 하드 코딩된 동일한 날씨 정보를 반환합니다.\n",
    "# 실제 환경에서는 백엔드 API 또는 외부 API가 될 수 있습니다.\n",
    "def get_current_weather(location, unit=\"celsius\"):"
   ]
  },
  {
   "cell_type": "code",
   "execution_count": null,
   "id": "bc8b0793",
   "metadata": {},
   "outputs": [],
   "source": [
    "#함수 집합 정의"
   ]
  },
  {
   "cell_type": "code",
   "execution_count": null,
   "id": "8fcaaebc",
   "metadata": {},
   "outputs": [],
   "source": [
    "# Step 1: 모델 호출: 사용자 질의와 함께 함수 집합을 정의하여 모델을 호출합니다. 함수 목록을 tools 파라미터에 제공합니다.\n",
    "# Step 2: 모델은 함수를 호출하기로 결정합니다. 모델은 이름 과 입력 인수를 반환합니다 . \n",
    "# 이 경우, 모델의 응답 내용은 사용자가 정의한 스키마에 따른 JSON 객체 문자열이 됩니다."
   ]
  },
  {
   "cell_type": "code",
   "execution_count": null,
   "id": "c1eaa822",
   "metadata": {},
   "outputs": [],
   "source": [
    "# step 3: 함수 코드 실행 – 모델의 응답을 구문 분석하고 함수 호출을 처리합니다 ."
   ]
  },
  {
   "cell_type": "code",
   "execution_count": null,
   "id": "bf3ebbee",
   "metadata": {},
   "outputs": [],
   "source": [
    "# step 4: 결과가 포함된 모델을 제공하여 최종 대응에 반영할 수 있습니다."
   ]
  },
  {
   "cell_type": "markdown",
   "id": "5af0ec0f-ba19-4cc8-ae09-252da6de50eb",
   "metadata": {},
   "source": [
    "### Free Weather API 이용\n",
    "https://open-meteo.com/"
   ]
  },
  {
   "cell_type": "code",
   "execution_count": null,
   "id": "92009a31",
   "metadata": {},
   "outputs": [],
   "source": [
    "# 현재의 온도 가져오기\n",
    "def get_weather(latitude, longitude):\n",
    "# 서울의 위도, 경도"
   ]
  },
  {
   "cell_type": "code",
   "execution_count": null,
   "id": "92c29c3e",
   "metadata": {},
   "outputs": [],
   "source": []
  },
  {
   "cell_type": "code",
   "execution_count": null,
   "id": "699af552",
   "metadata": {},
   "outputs": [],
   "source": [
    "# 함수 호출 실행"
   ]
  },
  {
   "cell_type": "code",
   "execution_count": null,
   "id": "88f81346",
   "metadata": {},
   "outputs": [],
   "source": [
    "# 함수 호출 실행 결과를 추가합니다."
   ]
  },
  {
   "cell_type": "markdown",
   "id": "8b0e5a52-3eb4-4f92-951e-2282287902f2",
   "metadata": {},
   "source": [
    "### Email 보내기"
   ]
  },
  {
   "cell_type": "code",
   "execution_count": null,
   "id": "29e859b7",
   "metadata": {},
   "outputs": [],
   "source": [
    "# email 생성 함수\n",
    "def send_email(to, subject, body):\n",
    "    # 메일 제목과 내용을 설정하는 모듈"
   ]
  },
  {
   "cell_type": "code",
   "execution_count": null,
   "id": "0621d51b",
   "metadata": {},
   "outputs": [],
   "source": [
    "# 이메일 보내기(send_email) 함수 호출 예제"
   ]
  },
  {
   "cell_type": "code",
   "execution_count": null,
   "id": "38a29759",
   "metadata": {},
   "outputs": [],
   "source": [
    "def call_function(name, args):"
   ]
  },
  {
   "cell_type": "code",
   "execution_count": null,
   "id": "c2363b0e",
   "metadata": {},
   "outputs": [],
   "source": [
    "#함수 호출 및 실행 결과 추가"
   ]
  },
  {
   "cell_type": "code",
   "execution_count": null,
   "id": "6517410c",
   "metadata": {},
   "outputs": [],
   "source": [
    "# 함수 호출 결과를 모델에 다시 보내기"
   ]
  },
  {
   "cell_type": "code",
   "execution_count": null,
   "id": "f49db0b1",
   "metadata": {},
   "outputs": [],
   "source": []
  },
  {
   "cell_type": "markdown",
   "id": "52dd588a-a0e7-4119-9213-9364e3cb7c3d",
   "metadata": {},
   "source": [
    "--------------------------\n",
    "# 실습: 함수 호출 코드 작성\n",
    "\n",
    "\n",
    "### 문제 1: 간단한 날씨 함수 호출 흐름 구성\n",
    "\n",
    "**목표:**\n",
    "다음 사용자 질문에 대해 모델이 `get_current_weather` 함수를 호출하고, 결과를 받아 최종 응답을 생성하도록 전체 흐름을 완성하세요.\n",
    "\n",
    "**사용자 입력:**\n",
    "\n",
    "> `\"부산의 날씨가 어떤지 알려줘\"`\n",
    "\n",
    "**요구사항:**\n",
    "\n",
    "* `tools` 정의\n",
    "* `client.responses.create()` 호출 → 함수 호출 유도\n",
    "* 함수 실행 결과를 포함한 메시지 리스트 구성\n",
    "* 모델에게 최종 응답 요청\n",
    "\n",
    "<details>\n",
    "<summary>추가 조건</summary>\n",
    "\n",
    "`get_current_weather` 함수는 \"busan\"에 대해 `\"temperature\": \"24\"`를 반환하도록 하드코딩하세요.\n",
    "\n",
    "</details>"
   ]
  },
  {
   "cell_type": "code",
   "execution_count": null,
   "id": "a9594cc8",
   "metadata": {},
   "outputs": [],
   "source": []
  },
  {
   "cell_type": "markdown",
   "id": "911a1256-8995-4fb7-9ac9-f6185f03fd12",
   "metadata": {},
   "source": [
    "### 문제 2: Open-Meteo API를 이용한 실제 날씨 정보 조회 \n",
    "\n",
    "**목표:**\n",
    "사용자가 \"서울 날씨 알려줘\"라고 입력하면 모델이 위도/경도를 추론하고, `get_weather(latitude, longitude)` 함수를 호출한 뒤, 결과를 출력하도록 하세요.\n",
    "\n",
    "**요구사항:**\n",
    "\n",
    "* 서울의 위도: `37.56667`, 경도: `126.97806`\n",
    "* `tools` 파라미터에 함수 스키마 정의\n",
    "* JSON으로 파라미터가 잘 전달되었는지 확인\n",
    "* `function_call_output` 메시지를 구성하여 최종 응답 요청"
   ]
  },
  {
   "cell_type": "code",
   "execution_count": null,
   "id": "1a045034",
   "metadata": {},
   "outputs": [],
   "source": []
  },
  {
   "cell_type": "markdown",
   "id": "8742fe05-209f-4f65-a81c-71aa3f816deb",
   "metadata": {},
   "source": [
    "### 문제 3: 이메일 전송 함수 호출 (심화)\n",
    "\n",
    "**목표:**\n",
    "사용자가 다음 문장을 입력하면 모델이 `send_email()` 함수를 호출하도록 구성하세요.\n",
    "\n",
    "> `\"kim@example.com에게 제목은 '중요 공지', 내용은 '내일 회의가 연기되었습니다'라는 이메일을 보내줘\"`\n",
    "\n",
    "**요구사항:**\n",
    "\n",
    "* `tools` 정의\n",
    "* 호출된 함수의 arguments를 JSON으로 파싱하여 `send_email()`을 실행\n",
    "* 최종 응답 지까지 완성\n",
    "\n",
    "---"
   ]
  },
  {
   "cell_type": "code",
   "execution_count": null,
   "id": "32ec3e44",
   "metadata": {},
   "outputs": [],
   "source": []
  }
 ],
 "metadata": {
  "kernelspec": {
   "display_name": "Python 3 (ipykernel)",
   "language": "python",
   "name": "python3"
  },
  "language_info": {
   "codemirror_mode": {
    "name": "ipython",
    "version": 3
   },
   "file_extension": ".py",
   "mimetype": "text/x-python",
   "name": "python",
   "nbconvert_exporter": "python",
   "pygments_lexer": "ipython3",
   "version": "3.11.13"
  }
 },
 "nbformat": 4,
 "nbformat_minor": 5
}
